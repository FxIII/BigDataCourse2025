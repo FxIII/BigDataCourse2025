{
 "cells": [
  {
   "cell_type": "markdown",
   "id": "header",
   "metadata": {},
   "source": [
    "# MapReduce Implementation with Redis Backend\n",
    "\n",
    "This notebook demonstrates a **distributed MapReduce implementation** using Redis as the backend for job coordination and data storage.\n",
    "\n",
    "## Learning Objectives\n",
    "- Understand MapReduce paradigm fundamentals\n",
    "- Implement distributed processing with Redis\n",
    "- Compare sequential vs parallel execution\n",
    "- Analyze performance improvements\n",
    "\n",
    "## Use Case: Word Frequency Analysis\n",
    "We'll analyze Dante's Divine Comedy to count word frequencies across the three canticles (Inferno, Purgatorio, Paradiso).\n",
    "\n",
    "---"
   ]
  },
  {
   "cell_type": "markdown",
   "id": "setup-section",
   "metadata": {},
   "source": [
    "## 1. Environment Setup\n",
    "\n",
    "First, let's install required dependencies and establish our Redis connection."
   ]
  },
  {
   "cell_type": "code",
   "execution_count": 1,
   "id": "install-deps",
   "metadata": {},
   "outputs": [],
   "source": [
    "%%capture\n",
    "# Install required packages\n",
    "%pip install redis rich tqdm beautifulsoup4 requests rich"
   ]
  },
  {
   "cell_type": "code",
   "execution_count": 2,
   "id": "imports",
   "metadata": {},
   "outputs": [],
   "source": [
    "# Core imports for our MapReduce implementation\n",
    "import redis\n",
    "import json\n",
    "import time\n",
    "from multiprocessing import Process\n",
    "\n",
    "# Data fetching and processing\n",
    "import requests\n",
    "from bs4 import BeautifulSoup\n",
    "\n",
    "# Utilities for better output\n",
    "from rich.pretty import pprint\n",
    "from rich.console import Console\n",
    "from tqdm import tqdm\n",
    "\n",
    "console = Console()"
   ]
  },
  {
   "cell_type": "code",
   "execution_count": 3,
   "id": "redis-connection",
   "metadata": {},
   "outputs": [
    {
     "data": {
      "text/html": [
       "<pre style=\"white-space:pre;overflow-x:auto;line-height:normal;font-family:Menlo,'DejaVu Sans Mono',consolas,'Courier New',monospace\"><span style=\"color: #008000; text-decoration-color: #008000\">✅ Redis cluster connection established</span>\n",
       "</pre>\n"
      ],
      "text/plain": [
       "\u001b[32m✅ Redis cluster connection established\u001b[0m\n"
      ]
     },
     "metadata": {},
     "output_type": "display_data"
    }
   ],
   "source": [
    "# Redis Cluster Connection\n",
    "# Note: Make sure your Jupyter server is connected to the Redis network\n",
    "# Command: docker network connect redis_default jupyter-jupyter-1\n",
    "\n",
    "try:\n",
    "    r = redis.RedisCluster(host='master', port=6379)\n",
    "    console.print(\"✅ Redis cluster connection established\", style=\"green\")\n",
    "except Exception as e:\n",
    "    console.print(f\"❌ Redis connection failed: {e}\", style=\"red\")\n",
    "    # Fallback to local Redis if cluster is not available\n",
    "    r = redis.Redis(host='localhost', port=6379, decode_responses=False)"
   ]
  },
  {
   "cell_type": "markdown",
   "id": "data-section",
   "metadata": {},
   "source": [
    "## 2. Data Loading and Preparation\n",
    "\n",
    "Let's fetch Dante's Divine Comedy from the web and prepare it for processing."
   ]
  },
  {
   "cell_type": "code",
   "execution_count": 4,
   "id": "helper-functions",
   "metadata": {},
   "outputs": [],
   "source": [
    "# Helper functions for Redis operations\n",
    "def store(key, record):\n",
    "    \"\"\"Store a record in Redis as JSON\"\"\"\n",
    "    r.sadd(key, json.dumps(record))\n",
    "\n",
    "def fetch(key):\n",
    "    \"\"\"Fetch and remove a record from Redis\"\"\"\n",
    "    raw = r.spop(key)\n",
    "    return json.loads(raw) if raw is not None else None\n",
    "\n",
    "def cleanup_keys(pattern):\n",
    "    \"\"\"Clean up Redis keys matching a pattern\"\"\"\n",
    "    keys_to_delete = [key for key in r.scan_iter(pattern)]\n",
    "    if keys_to_delete:\n",
    "        for key in keys_to_delete:\n",
    "            r.delete(key)\n",
    "    return len(keys_to_delete)"
   ]
  },
  {
   "cell_type": "code",
   "execution_count": 5,
   "id": "data-loading",
   "metadata": {},
   "outputs": [
    {
     "data": {
      "text/html": [
       "<pre style=\"white-space:pre;overflow-x:auto;line-height:normal;font-family:Menlo,'DejaVu Sans Mono',consolas,'Courier New',monospace\">🧹 Cleaning up previous data<span style=\"color: #808000; text-decoration-color: #808000\">...</span>\n",
       "</pre>\n"
      ],
      "text/plain": [
       "🧹 Cleaning up previous data\u001b[33m...\u001b[0m\n"
      ]
     },
     "metadata": {},
     "output_type": "display_data"
    },
    {
     "data": {
      "text/html": [
       "<pre style=\"white-space:pre;overflow-x:auto;line-height:normal;font-family:Menlo,'DejaVu Sans Mono',consolas,'Courier New',monospace\">📚 Loading Dante's Divine Comedy<span style=\"color: #808000; text-decoration-color: #808000\">...</span>\n",
       "</pre>\n"
      ],
      "text/plain": [
       "📚 Loading Dante's Divine Comedy\u001b[33m...\u001b[0m\n"
      ]
     },
     "metadata": {},
     "output_type": "display_data"
    },
    {
     "data": {
      "text/html": [
       "<pre style=\"white-space:pre;overflow-x:auto;line-height:normal;font-family:Menlo,'DejaVu Sans Mono',consolas,'Courier New',monospace\">✅ Data loaded successfully! Total cantos: <span style=\"color: #008080; text-decoration-color: #008080; font-weight: bold\">4811</span>\n",
       "</pre>\n"
      ],
      "text/plain": [
       "✅ Data loaded successfully! Total cantos: \u001b[1;36m4811\u001b[0m\n"
      ]
     },
     "metadata": {},
     "output_type": "display_data"
    }
   ],
   "source": [
    "def load_divine_comedy():\n",
    "    \"\"\"\n",
    "    Load Dante's Divine Comedy from online source\n",
    "    Splits text into individual cantos for processing\n",
    "    \"\"\"\n",
    "    console.print(\"🧹 Cleaning up previous data...\")\n",
    "    \n",
    "    # Clean up any existing data\n",
    "    r.delete(\"dante_comedy:cantos\")\n",
    "    cleanup_keys(\"dante_comedy:max_count:step_*\")\n",
    "    \n",
    "    console.print(\"📚 Loading Dante's Divine Comedy...\")\n",
    "    \n",
    "    # URLs for the three canticles\n",
    "    urls = {\n",
    "        \"inferno\": \"https://www.liberliber.eu/mediateca/libri/a/alighieri/la_divina_commedia/html/testo_01.htm\",\n",
    "        \"purgatorio\": \"https://www.liberliber.eu/mediateca/libri/a/alighieri/la_divina_commedia/html/testo_02.htm\",\n",
    "        \"paradiso\": \"https://www.liberliber.eu/mediateca/libri/a/alighieri/la_divina_commedia/html/testo_03.htm\"\n",
    "    }\n",
    "    \n",
    "    total_cantos = 0\n",
    "    \n",
    "    for cantica_name, url in urls.items():\n",
    "        try:\n",
    "            response = requests.get(url)\n",
    "            soup = BeautifulSoup(response.text, 'html.parser')\n",
    "            \n",
    "            # Extract text from paragraphs with class 'rientrato'\n",
    "            cantos = soup.select(\"p.rientrato\")\n",
    "            \n",
    "            for canto in cantos:\n",
    "                if canto.text.strip():  # Only store non-empty cantos\n",
    "                    store(\"dante_comedy:cantos\", {\n",
    "                        \"cantica\": cantica_name,\n",
    "                        \"text\": canto.text.strip()\n",
    "                    })\n",
    "                    total_cantos += 1\n",
    "                    \n",
    "        except Exception as e:\n",
    "            console.print(f\"❌ Error loading {cantica_name}: {e}\", style=\"red\")\n",
    "    \n",
    "    console.print(f\"✅ Data loaded successfully! Total cantos: {total_cantos}\")\n",
    "    return total_cantos\n",
    "\n",
    "# Load the data\n",
    "canto_count = load_divine_comedy()"
   ]
  },
  {
   "cell_type": "markdown",
   "id": "mapreduce-section",
   "metadata": {},
   "source": [
    "## 3. MapReduce Functions\n",
    "\n",
    "Now let's define our **Map** and **Reduce** functions for word frequency analysis."
   ]
  },
  {
   "cell_type": "code",
   "execution_count": 6,
   "id": "map-reduce-functions",
   "metadata": {},
   "outputs": [],
   "source": [
    "def map_words(record):\n",
    "    \"\"\"\n",
    "    MAP FUNCTION: Extract words from text and emit (word-cantica, 1) pairs\n",
    "    \n",
    "    Input: {'cantica': 'inferno', 'text': 'Nel mezzo del cammin...'}\n",
    "    Output: Generator of (key, value) pairs\n",
    "    \"\"\"\n",
    "    text = record[\"text\"]\n",
    "    cantica = record[\"cantica\"]\n",
    "    \n",
    "    # Clean text: remove punctuation\n",
    "    punctuation = \",.«»!?:;\\\"'()\"\n",
    "    clean_text = \"\".join(c for c in text if c not in punctuation)\n",
    "    \n",
    "    # Emit (word-cantica, 1) for each word\n",
    "    for word in clean_text.split():\n",
    "        if word.strip():  # Skip empty strings\n",
    "            yield f\"{word.lower()}-{cantica}\", 1\n",
    "\n",
    "def count_word(key, records):\n",
    "    \"\"\"\n",
    "    REDUCE FUNCTION: Sum up counts for each word\n",
    "    \n",
    "    Input: key='nel-inferno', records=[1, 1, 1, ...]\n",
    "    Output: Generator of (word, total_count) pairs\n",
    "    \"\"\"\n",
    "    word, cantica = key.split(\"-\", 1)\n",
    "    total_count = sum(records)\n",
    "    yield word, total_count\n",
    "\n",
    "def max_count(key, records):\n",
    "    \"\"\"\n",
    "    REDUCE FUNCTION: Find max and total counts across canticles\n",
    "    \n",
    "    Input: key='nel', records=[45, 32, 28]\n",
    "    Output: Generator of (word, {max, total}) pairs\n",
    "    \"\"\"\n",
    "    yield key, {\n",
    "        \"max\": max(records),\n",
    "        \"total\": sum(records)\n",
    "    }"
   ]
  },
  {
   "cell_type": "markdown",
   "id": "framework-section",
   "metadata": {},
   "source": [
    "## 4. MapReduce Framework Implementation\n",
    "\n",
    "Here's our distributed MapReduce framework using Redis for coordination."
   ]
  },
  {
   "cell_type": "code",
   "execution_count": 7,
   "id": "mapreduce-framework",
   "metadata": {},
   "outputs": [],
   "source": [
    "def map_task(source, map_function, dest, r=None):\n",
    "    \"\"\"\n",
    "    MAP TASK: Process records from source queue using map_function\n",
    "    \n",
    "    Args:\n",
    "        source: Redis key containing input records\n",
    "        map_function: Function to apply to each record\n",
    "        dest: Prefix for output keys\n",
    "        r: Redis connection (creates new if None)\n",
    "    \"\"\"\n",
    "    if r is None:\n",
    "        r = redis.RedisCluster(host='master', port=6379)\n",
    "    \n",
    "    processed_count = 0\n",
    "    \n",
    "    # Process records until source is empty\n",
    "    record = fetch(source)\n",
    "    while record is not None:\n",
    "        # Apply map function to record\n",
    "        for key, value in map_function(record):\n",
    "            dest_key = dest + key\n",
    "            # Store mapped result in a Redis list \n",
    "            r.lpush(dest_key, json.dumps(value))\n",
    "            # Keep track of output keys for reduce phase\n",
    "            r.sadd(dest + \"__index\", dest_key)\n",
    "        # Move to the next record\n",
    "        processed_count += 1\n",
    "        record = fetch(source)\n",
    "\n",
    "    # Now the source set is empty,\n",
    "    # <dest>__index set contains the mapped keys\n",
    "    # <dest><key_xyz> contains the record mapped into the xyz key\n",
    "    \n",
    "    return processed_count\n",
    "\n",
    "def reduce_task(source, reduce_function, dest, r=None):\n",
    "    \"\"\"\n",
    "    REDUCE TASK: Aggregate values for each key using reduce_function\n",
    "    \n",
    "    Args:\n",
    "        source: Prefix of keys containing intermediate results\n",
    "        reduce_function: Function to aggregate values\n",
    "        dest: Prefix for output keys\n",
    "        r: Redis connection (creates new if None)\n",
    "    \"\"\"\n",
    "    if r is None:\n",
    "        r = redis.RedisCluster(host='master', port=6379)\n",
    "    \n",
    "    processed_count = 0\n",
    "    \n",
    "    # Process all keys from the index\n",
    "    item_key = r.spop(source + \"__index\")\n",
    "    while item_key is not None:\n",
    "        # Get all values for this key\n",
    "        records = r.lrange(item_key, 0, -1)\n",
    "        records = [json.loads(record) for record in records]\n",
    "        \n",
    "        # Extract the actual key (remove prefix)\n",
    "        # <source><key> -> key eg:\n",
    "        # dante_comedy:max_count:step_1:colui-inferno -> colui-inferno\n",
    "        key = item_key[len(source):].decode() if isinstance(item_key, bytes) else item_key[len(source):]\n",
    "        \n",
    "        # Apply reduce function\n",
    "        for reduce_key, reduce_value in reduce_function(key, records):\n",
    "            dest_key = dest + reduce_key\n",
    "            # Store mapped result in a Redis list\n",
    "            r.lpush(dest_key, json.dumps(reduce_value))\n",
    "            # Keep track of output keys for next reduce phase if any\n",
    "            r.sadd(dest + \"__index\", dest_key)\n",
    "        \n",
    "        # Clean up processed key\n",
    "        r.delete(item_key)\n",
    "        processed_count += 1\n",
    "\n",
    "        # Move to the next record\n",
    "        item_key = r.spop(source + \"__index\")\n",
    "\n",
    "    # Now the source index set and the mapped key lists are both empty,\n",
    "    # <dest>__index set contains the reduced keys\n",
    "    # <dest><key_xyz> contains the records reduced into the xyz key\n",
    "    \n",
    "    return processed_count\n",
    "\n",
    "def collect_task(source, dest, r=None):\n",
    "    \"\"\"\n",
    "    COLLECT TASK: Gather final results into a hash for easy access\n",
    "    \n",
    "    Args:\n",
    "        source: Prefix of keys containing final results\n",
    "        dest: Hash key to store final results\n",
    "        r: Redis connection (creates new if None)\n",
    "    \"\"\"\n",
    "    if r is None:\n",
    "        r = redis.RedisCluster(host='master', port=6379)\n",
    "    \n",
    "    collected_count = 0\n",
    "\n",
    "    # Process all keys from the index\n",
    "    item_key = r.spop(source + \"__index\")\n",
    "    while item_key is not None:\n",
    "        # Extract key and records (remove prefix)\n",
    "        key = item_key[len(source):].decode() if isinstance(item_key, bytes) else item_key[len(source):]\n",
    "        records = r.lrange(item_key, 0, -1)\n",
    "        records = [json.loads(record) for record in records]\n",
    "        \n",
    "        # Store single value or list in final hash\n",
    "        # [\"result\"] -> \"result\"\n",
    "        # [\"resultA\",\"resultB\"] remains [\"resultA\",\"resultB\"]\n",
    "        final_value = records[0] if len(records) == 1 else records\n",
    "        r.hset(dest, key, json.dumps(final_value))\n",
    "        \n",
    "        # Finalise the process by removing the record \n",
    "        r.delete(item_key)\n",
    "        collected_count += 1\n",
    "\n",
    "        # Move to the next record\n",
    "        item_key = r.spop(source + \"__index\")\n",
    "\n",
    "    # Now the source index set and the mapped key lists are both empty,\n",
    "    # the <dest> Redis Hash contains the collected results by key \n",
    "    # as computed in the last reduce step\n",
    "    \n",
    "    return collected_count"
   ]
  },
  {
   "cell_type": "markdown",
   "id": "parallel-section",
   "metadata": {},
   "source": [
    "## 5. Parallel Execution Framework\n",
    "\n",
    "Utility function to run multiple workers in parallel."
   ]
  },
  {
   "cell_type": "code",
   "execution_count": 8,
   "id": "parallel-execution",
   "metadata": {},
   "outputs": [],
   "source": [
    "def run_parallel(worker_count, function, *args):\n",
    "    \"\"\"\n",
    "    Run a function in parallel with multiple workers\n",
    "    \n",
    "    Args:\n",
    "        worker_count: Number of parallel workers to spawn\n",
    "        function: Function to execute\n",
    "        *args: Arguments to pass to the function\n",
    "    \"\"\"\n",
    "    processes = []\n",
    "    \n",
    "    # Start worker processes\n",
    "    for i in range(worker_count):\n",
    "        process = Process(target=function, args=args)\n",
    "        processes.append(process)\n",
    "        process.start()\n",
    "    \n",
    "    # Wait for all processes to complete\n",
    "    for process in processes:\n",
    "        process.join()\n",
    "    \n",
    "    console.print(f\"✅ Completed parallel execution with {worker_count} workers\")"
   ]
  },
  {
   "cell_type": "markdown",
   "id": "execution-section",
   "metadata": {},
   "source": [
    "## 6. Sequential Execution (Baseline)\n",
    "\n",
    "Let's first run our MapReduce job sequentially to establish a baseline."
   ]
  },
  {
   "cell_type": "code",
   "execution_count": 9,
   "id": "sequential-execution",
   "metadata": {},
   "outputs": [
    {
     "data": {
      "text/html": [
       "<pre style=\"white-space:pre;overflow-x:auto;line-height:normal;font-family:Menlo,'DejaVu Sans Mono',consolas,'Courier New',monospace\">🧹 Cleaning up previous data<span style=\"color: #808000; text-decoration-color: #808000\">...</span>\n",
       "</pre>\n"
      ],
      "text/plain": [
       "🧹 Cleaning up previous data\u001b[33m...\u001b[0m\n"
      ]
     },
     "metadata": {},
     "output_type": "display_data"
    },
    {
     "data": {
      "text/html": [
       "<pre style=\"white-space:pre;overflow-x:auto;line-height:normal;font-family:Menlo,'DejaVu Sans Mono',consolas,'Courier New',monospace\">📚 Loading Dante's Divine Comedy<span style=\"color: #808000; text-decoration-color: #808000\">...</span>\n",
       "</pre>\n"
      ],
      "text/plain": [
       "📚 Loading Dante's Divine Comedy\u001b[33m...\u001b[0m\n"
      ]
     },
     "metadata": {},
     "output_type": "display_data"
    },
    {
     "data": {
      "text/html": [
       "<pre style=\"white-space:pre;overflow-x:auto;line-height:normal;font-family:Menlo,'DejaVu Sans Mono',consolas,'Courier New',monospace\">✅ Data loaded successfully! Total cantos: <span style=\"color: #008080; text-decoration-color: #008080; font-weight: bold\">4811</span>\n",
       "</pre>\n"
      ],
      "text/plain": [
       "✅ Data loaded successfully! Total cantos: \u001b[1;36m4811\u001b[0m\n"
      ]
     },
     "metadata": {},
     "output_type": "display_data"
    },
    {
     "data": {
      "text/html": [
       "<pre style=\"white-space:pre;overflow-x:auto;line-height:normal;font-family:Menlo,'DejaVu Sans Mono',consolas,'Courier New',monospace\">🔄 Running MapReduce sequentially<span style=\"color: #808000; text-decoration-color: #808000\">...</span>\n",
       "</pre>\n"
      ],
      "text/plain": [
       "🔄 Running MapReduce sequentially\u001b[33m...\u001b[0m\n"
      ]
     },
     "metadata": {},
     "output_type": "display_data"
    },
    {
     "data": {
      "text/html": [
       "<pre style=\"white-space:pre;overflow-x:auto;line-height:normal;font-family:Menlo,'DejaVu Sans Mono',consolas,'Courier New',monospace\">⏱️  Sequential execution completed in <span style=\"color: #008080; text-decoration-color: #008080; font-weight: bold\">37.43</span> seconds\n",
       "</pre>\n"
      ],
      "text/plain": [
       "⏱️  Sequential execution completed in \u001b[1;36m37.43\u001b[0m seconds\n"
      ]
     },
     "metadata": {},
     "output_type": "display_data"
    }
   ],
   "source": [
    "# Reload data for fresh start\n",
    "load_divine_comedy()\n",
    "\n",
    "console.print(\"🔄 Running MapReduce sequentially...\")\n",
    "\n",
    "# Time the sequential execution\n",
    "sequential_start = time.time()\n",
    "\n",
    "# Step 1: Map words to (word-cantica, count) pairs\n",
    "map_task(\"dante_comedy:cantos\", map_words, \"dante_comedy:max_count:step_1:\", r)\n",
    "\n",
    "# Step 2: Reduce to word counts per cantica\n",
    "reduce_task(\"dante_comedy:max_count:step_1:\", count_word, \"dante_comedy:max_count:step_2:\", r)\n",
    "\n",
    "# Step 3: Reduce to max/total counts per word\n",
    "reduce_task(\"dante_comedy:max_count:step_2:\", max_count, \"dante_comedy:max_count:step_3:\", r)\n",
    "\n",
    "# Step 4: Collect final results\n",
    "collect_task(\"dante_comedy:max_count:step_3:\", \"dante_comedy:max_count\", r)\n",
    "\n",
    "sequential_time = time.time() - sequential_start\n",
    "console.print(f\"⏱️  Sequential execution completed in {sequential_time:.2f} seconds\")"
   ]
  },
  {
   "cell_type": "markdown",
   "id": "parallel-execution-section",
   "metadata": {},
   "source": [
    "## 7. Parallel Execution (Distributed)\n",
    "\n",
    "Now let's run the same job with multiple parallel workers and compare performance."
   ]
  },
  {
   "cell_type": "code",
   "execution_count": 25,
   "id": "parallel-execution-demo",
   "metadata": {},
   "outputs": [
    {
     "data": {
      "text/html": [
       "<pre style=\"white-space:pre;overflow-x:auto;line-height:normal;font-family:Menlo,'DejaVu Sans Mono',consolas,'Courier New',monospace\">🧹 Cleaning up previous data<span style=\"color: #808000; text-decoration-color: #808000\">...</span>\n",
       "</pre>\n"
      ],
      "text/plain": [
       "🧹 Cleaning up previous data\u001b[33m...\u001b[0m\n"
      ]
     },
     "metadata": {},
     "output_type": "display_data"
    },
    {
     "data": {
      "text/html": [
       "<pre style=\"white-space:pre;overflow-x:auto;line-height:normal;font-family:Menlo,'DejaVu Sans Mono',consolas,'Courier New',monospace\">📚 Loading Dante's Divine Comedy<span style=\"color: #808000; text-decoration-color: #808000\">...</span>\n",
       "</pre>\n"
      ],
      "text/plain": [
       "📚 Loading Dante's Divine Comedy\u001b[33m...\u001b[0m\n"
      ]
     },
     "metadata": {},
     "output_type": "display_data"
    },
    {
     "data": {
      "text/html": [
       "<pre style=\"white-space:pre;overflow-x:auto;line-height:normal;font-family:Menlo,'DejaVu Sans Mono',consolas,'Courier New',monospace\">✅ Data loaded successfully! Total cantos: <span style=\"color: #008080; text-decoration-color: #008080; font-weight: bold\">4811</span>\n",
       "</pre>\n"
      ],
      "text/plain": [
       "✅ Data loaded successfully! Total cantos: \u001b[1;36m4811\u001b[0m\n"
      ]
     },
     "metadata": {},
     "output_type": "display_data"
    },
    {
     "data": {
      "text/html": [
       "<pre style=\"white-space:pre;overflow-x:auto;line-height:normal;font-family:Menlo,'DejaVu Sans Mono',consolas,'Courier New',monospace\">🔄 Running MapReduce with <span style=\"color: #008080; text-decoration-color: #008080; font-weight: bold\">10</span> parallel workers<span style=\"color: #808000; text-decoration-color: #808000\">...</span>\n",
       "</pre>\n"
      ],
      "text/plain": [
       "🔄 Running MapReduce with \u001b[1;36m10\u001b[0m parallel workers\u001b[33m...\u001b[0m\n"
      ]
     },
     "metadata": {},
     "output_type": "display_data"
    },
    {
     "data": {
      "text/html": [
       "<pre style=\"white-space:pre;overflow-x:auto;line-height:normal;font-family:Menlo,'DejaVu Sans Mono',consolas,'Courier New',monospace\">✅ Completed parallel execution with <span style=\"color: #008080; text-decoration-color: #008080; font-weight: bold\">10</span> workers\n",
       "</pre>\n"
      ],
      "text/plain": [
       "✅ Completed parallel execution with \u001b[1;36m10\u001b[0m workers\n"
      ]
     },
     "metadata": {},
     "output_type": "display_data"
    },
    {
     "data": {
      "text/html": [
       "<pre style=\"white-space:pre;overflow-x:auto;line-height:normal;font-family:Menlo,'DejaVu Sans Mono',consolas,'Courier New',monospace\">✅ Completed parallel execution with <span style=\"color: #008080; text-decoration-color: #008080; font-weight: bold\">10</span> workers\n",
       "</pre>\n"
      ],
      "text/plain": [
       "✅ Completed parallel execution with \u001b[1;36m10\u001b[0m workers\n"
      ]
     },
     "metadata": {},
     "output_type": "display_data"
    },
    {
     "data": {
      "text/html": [
       "<pre style=\"white-space:pre;overflow-x:auto;line-height:normal;font-family:Menlo,'DejaVu Sans Mono',consolas,'Courier New',monospace\">✅ Completed parallel execution with <span style=\"color: #008080; text-decoration-color: #008080; font-weight: bold\">10</span> workers\n",
       "</pre>\n"
      ],
      "text/plain": [
       "✅ Completed parallel execution with \u001b[1;36m10\u001b[0m workers\n"
      ]
     },
     "metadata": {},
     "output_type": "display_data"
    },
    {
     "data": {
      "text/html": [
       "<pre style=\"white-space:pre;overflow-x:auto;line-height:normal;font-family:Menlo,'DejaVu Sans Mono',consolas,'Courier New',monospace\">✅ Completed parallel execution with <span style=\"color: #008080; text-decoration-color: #008080; font-weight: bold\">10</span> workers\n",
       "</pre>\n"
      ],
      "text/plain": [
       "✅ Completed parallel execution with \u001b[1;36m10\u001b[0m workers\n"
      ]
     },
     "metadata": {},
     "output_type": "display_data"
    },
    {
     "data": {
      "text/html": [
       "<pre style=\"white-space:pre;overflow-x:auto;line-height:normal;font-family:Menlo,'DejaVu Sans Mono',consolas,'Courier New',monospace\">⏱️  Parallel execution completed in <span style=\"color: #008080; text-decoration-color: #008080; font-weight: bold\">6.60</span> seconds\n",
       "</pre>\n"
      ],
      "text/plain": [
       "⏱️  Parallel execution completed in \u001b[1;36m6.60\u001b[0m seconds\n"
      ]
     },
     "metadata": {},
     "output_type": "display_data"
    },
    {
     "data": {
      "text/html": [
       "<pre style=\"white-space:pre;overflow-x:auto;line-height:normal;font-family:Menlo,'DejaVu Sans Mono',consolas,'Courier New',monospace\">\n",
       "</pre>\n"
      ],
      "text/plain": [
       "\n"
      ]
     },
     "metadata": {},
     "output_type": "display_data"
    },
    {
     "data": {
      "text/html": [
       "<pre style=\"white-space:pre;overflow-x:auto;line-height:normal;font-family:Menlo,'DejaVu Sans Mono',consolas,'Courier New',monospace\">📊 Performance Comparison:\n",
       "</pre>\n"
      ],
      "text/plain": [
       "📊 Performance Comparison:\n"
      ]
     },
     "metadata": {},
     "output_type": "display_data"
    },
    {
     "data": {
      "text/html": [
       "<pre style=\"white-space:pre;overflow-x:auto;line-height:normal;font-family:Menlo,'DejaVu Sans Mono',consolas,'Courier New',monospace\">   Sequential: <span style=\"color: #008080; text-decoration-color: #008080; font-weight: bold\">37.43</span> seconds\n",
       "</pre>\n"
      ],
      "text/plain": [
       "   Sequential: \u001b[1;36m37.43\u001b[0m seconds\n"
      ]
     },
     "metadata": {},
     "output_type": "display_data"
    },
    {
     "data": {
      "text/html": [
       "<pre style=\"white-space:pre;overflow-x:auto;line-height:normal;font-family:Menlo,'DejaVu Sans Mono',consolas,'Courier New',monospace\">   Parallel <span style=\"font-weight: bold\">(</span><span style=\"color: #008080; text-decoration-color: #008080; font-weight: bold\">10</span> workers<span style=\"font-weight: bold\">)</span>: <span style=\"color: #008080; text-decoration-color: #008080; font-weight: bold\">6.60</span> seconds\n",
       "</pre>\n"
      ],
      "text/plain": [
       "   Parallel \u001b[1m(\u001b[0m\u001b[1;36m10\u001b[0m workers\u001b[1m)\u001b[0m: \u001b[1;36m6.60\u001b[0m seconds\n"
      ]
     },
     "metadata": {},
     "output_type": "display_data"
    },
    {
     "data": {
      "text/html": [
       "<pre style=\"white-space:pre;overflow-x:auto;line-height:normal;font-family:Menlo,'DejaVu Sans Mono',consolas,'Courier New',monospace\"><span style=\"color: #008000; text-decoration-color: #008000; font-weight: bold\">   🚀 Speedup: </span><span style=\"color: #008080; text-decoration-color: #008080; font-weight: bold\">5.</span><span style=\"color: #008000; text-decoration-color: #008000; font-weight: bold\">67x faster!</span>\n",
       "</pre>\n"
      ],
      "text/plain": [
       "\u001b[1;32m   🚀 Speedup: \u001b[0m\u001b[1;36m5.\u001b[0m\u001b[1;32m67x faster!\u001b[0m\n"
      ]
     },
     "metadata": {},
     "output_type": "display_data"
    }
   ],
   "source": [
    "# Reload data for fresh parallel run\n",
    "load_divine_comedy()\n",
    "\n",
    "console.print(\"🔄 Running MapReduce with 10 parallel workers...\")\n",
    "\n",
    "# Time the parallel execution\n",
    "parallel_start = time.time()\n",
    "\n",
    "# Run each phase with 10 parallel workers\n",
    "WORKER_COUNT = 10\n",
    "\n",
    "# Step 1: Parallel mapping\n",
    "run_parallel(WORKER_COUNT, map_task, \"dante_comedy:cantos\", map_words, \"dante_comedy:max_count:step_1:\")\n",
    "\n",
    "# Step 2: Parallel reduce (word counts)\n",
    "run_parallel(WORKER_COUNT, reduce_task, \"dante_comedy:max_count:step_1:\", count_word, \"dante_comedy:max_count:step_2:\")\n",
    "\n",
    "# Step 3: Parallel reduce (max/total counts)\n",
    "run_parallel(WORKER_COUNT, reduce_task, \"dante_comedy:max_count:step_2:\", max_count, \"dante_comedy:max_count:step_3:\")\n",
    "\n",
    "# Step 4: Parallel collection\n",
    "run_parallel(WORKER_COUNT, collect_task, \"dante_comedy:max_count:step_3:\", \"dante_comedy:max_count\")\n",
    "\n",
    "parallel_time = time.time() - parallel_start\n",
    "speedup = sequential_time / parallel_time\n",
    "\n",
    "console.print(f\"⏱️  Parallel execution completed in {parallel_time:.2f} seconds\")\n",
    "console.print()\n",
    "console.print(\"📊 Performance Comparison:\")\n",
    "console.print(f\"   Sequential: {sequential_time:.2f} seconds\")\n",
    "console.print(f\"   Parallel ({WORKER_COUNT} workers): {parallel_time:.2f} seconds\")\n",
    "console.print(f\"   🚀 Speedup: {speedup:.2f}x faster!\", style=\"bold green\")"
   ]
  },
  {
   "cell_type": "markdown",
   "id": "results-section",
   "metadata": {},
   "source": [
    "## 8. Results Analysis\n",
    "\n",
    "Let's examine the results of our word frequency analysis."
   ]
  },
  {
   "cell_type": "code",
   "execution_count": 26,
   "id": "results-analysis",
   "metadata": {},
   "outputs": [
    {
     "data": {
      "text/html": [
       "<pre style=\"white-space:pre;overflow-x:auto;line-height:normal;font-family:Menlo,'DejaVu Sans Mono',consolas,'Courier New',monospace\">📈 Word Frequency Analysis Results\n",
       "</pre>\n"
      ],
      "text/plain": [
       "📈 Word Frequency Analysis Results\n"
      ]
     },
     "metadata": {},
     "output_type": "display_data"
    },
    {
     "data": {
      "text/html": [
       "<pre style=\"white-space:pre;overflow-x:auto;line-height:normal;font-family:Menlo,'DejaVu Sans Mono',consolas,'Courier New',monospace\">🏆 Top <span style=\"color: #008080; text-decoration-color: #008080; font-weight: bold\">10</span> Most Frequent Words:\n",
       "</pre>\n"
      ],
      "text/plain": [
       "🏆 Top \u001b[1;36m10\u001b[0m Most Frequent Words:\n"
      ]
     },
     "metadata": {},
     "output_type": "display_data"
    },
    {
     "data": {
      "text/html": [
       "<pre style=\"white-space:pre;overflow-x:auto;line-height:normal;font-family:Menlo,'DejaVu Sans Mono',consolas,'Courier New',monospace\"> <span style=\"color: #008080; text-decoration-color: #008080; font-weight: bold\">1</span>. e: <span style=\"color: #008080; text-decoration-color: #008080; font-weight: bold\">4052</span> total occurrences <span style=\"font-weight: bold\">(</span>max: <span style=\"color: #008080; text-decoration-color: #008080; font-weight: bold\">1395</span> in single cantica<span style=\"font-weight: bold\">)</span>\n",
       "</pre>\n"
      ],
      "text/plain": [
       " \u001b[1;36m1\u001b[0m. e: \u001b[1;36m4052\u001b[0m total occurrences \u001b[1m(\u001b[0mmax: \u001b[1;36m1395\u001b[0m in single cantica\u001b[1m)\u001b[0m\n"
      ]
     },
     "metadata": {},
     "output_type": "display_data"
    },
    {
     "data": {
      "text/html": [
       "<pre style=\"white-space:pre;overflow-x:auto;line-height:normal;font-family:Menlo,'DejaVu Sans Mono',consolas,'Courier New',monospace\"> <span style=\"color: #008080; text-decoration-color: #008080; font-weight: bold\">2</span>. che: <span style=\"color: #008080; text-decoration-color: #008080; font-weight: bold\">3713</span> total occurrences <span style=\"font-weight: bold\">(</span>max: <span style=\"color: #008080; text-decoration-color: #008080; font-weight: bold\">1312</span> in single cantica<span style=\"font-weight: bold\">)</span>\n",
       "</pre>\n"
      ],
      "text/plain": [
       " \u001b[1;36m2\u001b[0m. che: \u001b[1;36m3713\u001b[0m total occurrences \u001b[1m(\u001b[0mmax: \u001b[1;36m1312\u001b[0m in single cantica\u001b[1m)\u001b[0m\n"
      ]
     },
     "metadata": {},
     "output_type": "display_data"
    },
    {
     "data": {
      "text/html": [
       "<pre style=\"white-space:pre;overflow-x:auto;line-height:normal;font-family:Menlo,'DejaVu Sans Mono',consolas,'Courier New',monospace\"> <span style=\"color: #008080; text-decoration-color: #008080; font-weight: bold\">3</span>. la: <span style=\"color: #008080; text-decoration-color: #008080; font-weight: bold\">2362</span> total occurrences <span style=\"font-weight: bold\">(</span>max: <span style=\"color: #008080; text-decoration-color: #008080; font-weight: bold\">851</span> in single cantica<span style=\"font-weight: bold\">)</span>\n",
       "</pre>\n"
      ],
      "text/plain": [
       " \u001b[1;36m3\u001b[0m. la: \u001b[1;36m2362\u001b[0m total occurrences \u001b[1m(\u001b[0mmax: \u001b[1;36m851\u001b[0m in single cantica\u001b[1m)\u001b[0m\n"
      ]
     },
     "metadata": {},
     "output_type": "display_data"
    },
    {
     "data": {
      "text/html": [
       "<pre style=\"white-space:pre;overflow-x:auto;line-height:normal;font-family:Menlo,'DejaVu Sans Mono',consolas,'Courier New',monospace\"> <span style=\"color: #008080; text-decoration-color: #008080; font-weight: bold\">4</span>. di: <span style=\"color: #008080; text-decoration-color: #008080; font-weight: bold\">1957</span> total occurrences <span style=\"font-weight: bold\">(</span>max: <span style=\"color: #008080; text-decoration-color: #008080; font-weight: bold\">685</span> in single cantica<span style=\"font-weight: bold\">)</span>\n",
       "</pre>\n"
      ],
      "text/plain": [
       " \u001b[1;36m4\u001b[0m. di: \u001b[1;36m1957\u001b[0m total occurrences \u001b[1m(\u001b[0mmax: \u001b[1;36m685\u001b[0m in single cantica\u001b[1m)\u001b[0m\n"
      ]
     },
     "metadata": {},
     "output_type": "display_data"
    },
    {
     "data": {
      "text/html": [
       "<pre style=\"white-space:pre;overflow-x:auto;line-height:normal;font-family:Menlo,'DejaVu Sans Mono',consolas,'Courier New',monospace\"> <span style=\"color: #008080; text-decoration-color: #008080; font-weight: bold\">5</span>. a: <span style=\"color: #008080; text-decoration-color: #008080; font-weight: bold\">1929</span> total occurrences <span style=\"font-weight: bold\">(</span>max: <span style=\"color: #008080; text-decoration-color: #008080; font-weight: bold\">652</span> in single cantica<span style=\"font-weight: bold\">)</span>\n",
       "</pre>\n"
      ],
      "text/plain": [
       " \u001b[1;36m5\u001b[0m. a: \u001b[1;36m1929\u001b[0m total occurrences \u001b[1m(\u001b[0mmax: \u001b[1;36m652\u001b[0m in single cantica\u001b[1m)\u001b[0m\n"
      ]
     },
     "metadata": {},
     "output_type": "display_data"
    },
    {
     "data": {
      "text/html": [
       "<pre style=\"white-space:pre;overflow-x:auto;line-height:normal;font-family:Menlo,'DejaVu Sans Mono',consolas,'Courier New',monospace\"> <span style=\"color: #008080; text-decoration-color: #008080; font-weight: bold\">6</span>. non: <span style=\"color: #008080; text-decoration-color: #008080; font-weight: bold\">1458</span> total occurrences <span style=\"font-weight: bold\">(</span>max: <span style=\"color: #008080; text-decoration-color: #008080; font-weight: bold\">515</span> in single cantica<span style=\"font-weight: bold\">)</span>\n",
       "</pre>\n"
      ],
      "text/plain": [
       " \u001b[1;36m6\u001b[0m. non: \u001b[1;36m1458\u001b[0m total occurrences \u001b[1m(\u001b[0mmax: \u001b[1;36m515\u001b[0m in single cantica\u001b[1m)\u001b[0m\n"
      ]
     },
     "metadata": {},
     "output_type": "display_data"
    },
    {
     "data": {
      "text/html": [
       "<pre style=\"white-space:pre;overflow-x:auto;line-height:normal;font-family:Menlo,'DejaVu Sans Mono',consolas,'Courier New',monospace\"> <span style=\"color: #008080; text-decoration-color: #008080; font-weight: bold\">7</span>. per: <span style=\"color: #008080; text-decoration-color: #008080; font-weight: bold\">1387</span> total occurrences <span style=\"font-weight: bold\">(</span>max: <span style=\"color: #008080; text-decoration-color: #008080; font-weight: bold\">489</span> in single cantica<span style=\"font-weight: bold\">)</span>\n",
       "</pre>\n"
      ],
      "text/plain": [
       " \u001b[1;36m7\u001b[0m. per: \u001b[1;36m1387\u001b[0m total occurrences \u001b[1m(\u001b[0mmax: \u001b[1;36m489\u001b[0m in single cantica\u001b[1m)\u001b[0m\n"
      ]
     },
     "metadata": {},
     "output_type": "display_data"
    },
    {
     "data": {
      "text/html": [
       "<pre style=\"white-space:pre;overflow-x:auto;line-height:normal;font-family:Menlo,'DejaVu Sans Mono',consolas,'Courier New',monospace\"> <span style=\"color: #008080; text-decoration-color: #008080; font-weight: bold\">8</span>. in: <span style=\"color: #008080; text-decoration-color: #008080; font-weight: bold\">1103</span> total occurrences <span style=\"font-weight: bold\">(</span>max: <span style=\"color: #008080; text-decoration-color: #008080; font-weight: bold\">423</span> in single cantica<span style=\"font-weight: bold\">)</span>\n",
       "</pre>\n"
      ],
      "text/plain": [
       " \u001b[1;36m8\u001b[0m. in: \u001b[1;36m1103\u001b[0m total occurrences \u001b[1m(\u001b[0mmax: \u001b[1;36m423\u001b[0m in single cantica\u001b[1m)\u001b[0m\n"
      ]
     },
     "metadata": {},
     "output_type": "display_data"
    },
    {
     "data": {
      "text/html": [
       "<pre style=\"white-space:pre;overflow-x:auto;line-height:normal;font-family:Menlo,'DejaVu Sans Mono',consolas,'Courier New',monospace\"> <span style=\"color: #008080; text-decoration-color: #008080; font-weight: bold\">9</span>. si: <span style=\"color: #008080; text-decoration-color: #008080; font-weight: bold\">1060</span> total occurrences <span style=\"font-weight: bold\">(</span>max: <span style=\"color: #008080; text-decoration-color: #008080; font-weight: bold\">431</span> in single cantica<span style=\"font-weight: bold\">)</span>\n",
       "</pre>\n"
      ],
      "text/plain": [
       " \u001b[1;36m9\u001b[0m. si: \u001b[1;36m1060\u001b[0m total occurrences \u001b[1m(\u001b[0mmax: \u001b[1;36m431\u001b[0m in single cantica\u001b[1m)\u001b[0m\n"
      ]
     },
     "metadata": {},
     "output_type": "display_data"
    },
    {
     "data": {
      "text/html": [
       "<pre style=\"white-space:pre;overflow-x:auto;line-height:normal;font-family:Menlo,'DejaVu Sans Mono',consolas,'Courier New',monospace\"><span style=\"color: #008080; text-decoration-color: #008080; font-weight: bold\">10</span>. l: <span style=\"color: #008080; text-decoration-color: #008080; font-weight: bold\">959</span> total occurrences <span style=\"font-weight: bold\">(</span>max: <span style=\"color: #008080; text-decoration-color: #008080; font-weight: bold\">420</span> in single cantica<span style=\"font-weight: bold\">)</span>\n",
       "</pre>\n"
      ],
      "text/plain": [
       "\u001b[1;36m10\u001b[0m. l: \u001b[1;36m959\u001b[0m total occurrences \u001b[1m(\u001b[0mmax: \u001b[1;36m420\u001b[0m in single cantica\u001b[1m)\u001b[0m\n"
      ]
     },
     "metadata": {},
     "output_type": "display_data"
    },
    {
     "data": {
      "text/html": [
       "<pre style=\"white-space:pre;overflow-x:auto;line-height:normal;font-family:Menlo,'DejaVu Sans Mono',consolas,'Courier New',monospace\">📊 Analysis Summary:\n",
       "</pre>\n"
      ],
      "text/plain": [
       "📊 Analysis Summary:\n"
      ]
     },
     "metadata": {},
     "output_type": "display_data"
    },
    {
     "data": {
      "text/html": [
       "<pre style=\"white-space:pre;overflow-x:auto;line-height:normal;font-family:Menlo,'DejaVu Sans Mono',consolas,'Courier New',monospace\">   Total unique words: <span style=\"color: #008080; text-decoration-color: #008080; font-weight: bold\">13563</span>\n",
       "</pre>\n"
      ],
      "text/plain": [
       "   Total unique words: \u001b[1;36m13563\u001b[0m\n"
      ]
     },
     "metadata": {},
     "output_type": "display_data"
    },
    {
     "data": {
      "text/html": [
       "<pre style=\"white-space:pre;overflow-x:auto;line-height:normal;font-family:Menlo,'DejaVu Sans Mono',consolas,'Courier New',monospace\">   Total word occurrences: <span style=\"color: #008080; text-decoration-color: #008080; font-weight: bold\">97227</span>\n",
       "</pre>\n"
      ],
      "text/plain": [
       "   Total word occurrences: \u001b[1;36m97227\u001b[0m\n"
      ]
     },
     "metadata": {},
     "output_type": "display_data"
    },
    {
     "data": {
      "text/html": [
       "<pre style=\"white-space:pre;overflow-x:auto;line-height:normal;font-family:Menlo,'DejaVu Sans Mono',consolas,'Courier New',monospace\">   Average occurrences per word: <span style=\"color: #008080; text-decoration-color: #008080; font-weight: bold\">7.17</span>\n",
       "</pre>\n"
      ],
      "text/plain": [
       "   Average occurrences per word: \u001b[1;36m7.17\u001b[0m\n"
      ]
     },
     "metadata": {},
     "output_type": "display_data"
    }
   ],
   "source": [
    "def analyze_results():\n",
    "    \"\"\"\n",
    "    Analyze and display the word frequency results\n",
    "    \"\"\"\n",
    "    # Get all results from Redis hash\n",
    "    all_results = r.hgetall(\"dante_comedy:max_count\")\n",
    "    \n",
    "    # Parse results and convert to list of tuples\n",
    "    word_stats = []\n",
    "    total_occurrences = 0\n",
    "    \n",
    "    for word_bytes, stats_bytes in all_results.items():\n",
    "        word = word_bytes.decode() if isinstance(word_bytes, bytes) else word_bytes\n",
    "        stats = json.loads(stats_bytes)\n",
    "        \n",
    "        word_stats.append((word, stats['total'], stats['max']))\n",
    "        total_occurrences += stats['total']\n",
    "    \n",
    "    # Sort by total frequency\n",
    "    word_stats.sort(key=lambda x: x[1], reverse=True)\n",
    "    \n",
    "    console.print(\"📈 Word Frequency Analysis Results\")\n",
    "    console.print(\"🏆 Top 10 Most Frequent Words:\")\n",
    "    \n",
    "    for i, (word, total, max_count) in enumerate(word_stats[:10], 1):\n",
    "        console.print(f\"{i:2d}. {word}: {total:n} total occurrences (max: {max_count:n} in single cantica)\")\n",
    "    \n",
    "    console.print(\"📊 Analysis Summary:\")\n",
    "    console.print(f\"   Total unique words: {len(word_stats):n}\")\n",
    "    console.print(f\"   Total word occurrences: {total_occurrences:n}\")\n",
    "    console.print(f\"   Average occurrences per word: {total_occurrences/len(word_stats):.2f}\")\n",
    "    \n",
    "    return word_stats\n",
    "\n",
    "results = analyze_results()"
   ]
  },
  {
   "cell_type": "markdown",
   "id": "conclusion-section",
   "metadata": {},
   "source": [
    "## 9. Key Takeaways\n",
    "\n",
    "### MapReduce Paradigm Benefits\n",
    "\n",
    "1. **Scalability**: Easy to add more workers for larger datasets\n",
    "2. **Fault Tolerance**: Redis provides persistence and can handle worker failures\n",
    "3. **Simplicity**: Complex data processing broken down into simple map/reduce operations\n",
    "4. **Distributed**: Work is automatically distributed across available workers\n",
    "\n",
    "### Performance Insights\n",
    "\n",
    "- **Sequential**: Single-threaded processing\n",
    "- **Parallel**: Multiple workers processing concurrently\n",
    "- **Speedup**: Nearly 6x improvement with 10 workers\n",
    "- **Efficiency**: Good utilization of available CPU cores\n",
    "\n",
    "### Redis as MapReduce Backend\n",
    "\n",
    "- **Job Queue**: Redis sets/lists for work distribution\n",
    "- **Coordination**: Automatic work stealing between workers\n",
    "- **Persistence**: Results survive process crashes\n",
    "- **Scalability**: Can handle much larger datasets"
   ]
  },
  {
   "cell_type": "markdown",
   "id": "advanced-exercises",
   "metadata": {},
   "source": [
    "## 10. Advanced Exercises\n",
    "\n",
    "Try these exercises to deepen your understanding:\n",
    "\n",
    "### Exercise 1: Different Aggregations\n",
    "Modify the reduce functions to compute:\n",
    "- Average word length per cantica\n",
    "- Most frequent words that appear in all three canticles\n",
    "- Words unique to each cantica\n",
    "\n",
    "### Exercise 2: Performance Tuning\n",
    "Experiment with:\n",
    "- Different numbers of workers (1, 5, 10, 20)\n",
    "- Batch processing (process multiple records per worker)\n",
    "- Different Redis data structures\n",
    "\n",
    "### Exercise 3: Fault Tolerance\n",
    "Implement:\n",
    "- Worker health checks\n",
    "- Automatic retry for failed tasks\n",
    "- Progress monitoring and reporting"
   ]
  },
  {
   "cell_type": "markdown",
   "id": "cleanup-section",
   "metadata": {},
   "source": [
    "## 11. Cleanup\n",
    "\n",
    "Run this cell to clean up Redis keys when you're done:"
   ]
  },
  {
   "cell_type": "code",
   "execution_count": 12,
   "id": "cleanup",
   "metadata": {},
   "outputs": [
    {
     "data": {
      "text/html": [
       "<pre style=\"white-space:pre;overflow-x:auto;line-height:normal;font-family:Menlo,'DejaVu Sans Mono',consolas,'Courier New',monospace\">🧹 Cleaning up Redis keys<span style=\"color: #808000; text-decoration-color: #808000\">...</span>\n",
       "</pre>\n"
      ],
      "text/plain": [
       "🧹 Cleaning up Redis keys\u001b[33m...\u001b[0m\n"
      ]
     },
     "metadata": {},
     "output_type": "display_data"
    },
    {
     "data": {
      "text/html": [
       "<pre style=\"white-space:pre;overflow-x:auto;line-height:normal;font-family:Menlo,'DejaVu Sans Mono',consolas,'Courier New',monospace\">✅ Cleanup completed! Deleted <span style=\"color: #008080; text-decoration-color: #008080; font-weight: bold\">1</span> keys.\n",
       "</pre>\n"
      ],
      "text/plain": [
       "✅ Cleanup completed! Deleted \u001b[1;36m1\u001b[0m keys.\n"
      ]
     },
     "metadata": {},
     "output_type": "display_data"
    }
   ],
   "source": [
    "def cleanup_all():\n",
    "    \"\"\"Clean up all Redis keys created during this demo\"\"\"\n",
    "    console.print(\"🧹 Cleaning up Redis keys...\")\n",
    "    \n",
    "    # Delete all our keys\n",
    "    patterns_to_clean = [\n",
    "        \"dante_comedy:*\"\n",
    "    ]\n",
    "    \n",
    "    total_deleted = 0\n",
    "    for pattern in patterns_to_clean:\n",
    "        deleted = cleanup_keys(pattern)\n",
    "        total_deleted += deleted\n",
    "    \n",
    "    console.print(f\"✅ Cleanup completed! Deleted {total_deleted} keys.\")\n",
    "\n",
    "# Uncomment the next line to clean up\n",
    "cleanup_all()"
   ]
  }
 ],
 "metadata": {
  "kernelspec": {
   "display_name": "Python 3 (ipykernel)",
   "language": "python",
   "name": "python3"
  },
  "language_info": {
   "codemirror_mode": {
    "name": "ipython",
    "version": 3
   },
   "file_extension": ".py",
   "mimetype": "text/x-python",
   "name": "python",
   "nbconvert_exporter": "python",
   "pygments_lexer": "ipython3",
   "version": "3.12.9"
  }
 },
 "nbformat": 4,
 "nbformat_minor": 5
}
