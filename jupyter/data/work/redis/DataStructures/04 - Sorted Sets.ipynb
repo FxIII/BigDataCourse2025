{
 "cells": [
  {
   "cell_type": "markdown",
   "metadata": {},
   "source": [
    "# Redis Sorted Sets Tutorial"
   ]
  },
  {
   "cell_type": "markdown",
   "metadata": {},
   "source": [
    "## Setup"
   ]
  },
  {
   "cell_type": "code",
   "execution_count": null,
   "metadata": {},
   "outputs": [],
   "source": [
    "%%capture\n",
    "%pip install redis rich tqdm "
   ]
  },
  {
   "cell_type": "code",
   "execution_count": null,
   "metadata": {},
   "outputs": [],
   "source": [
    "import redis\n",
    "from rich.pretty import pprint"
   ]
  },
  {
   "cell_type": "code",
   "execution_count": null,
   "metadata": {},
   "outputs": [],
   "source": [
    "# creating cluster\n",
    "# make sure jupyter server is connected to redis network\n",
    "# `docker network connect redis_default jupyter-jupyter-1`\n",
    "r = redis.RedisCluster(host='master', port=6379)"
   ]
  },
  {
   "cell_type": "markdown",
   "metadata": {},
   "source": [
    "## Redis Sorted Sets\n",
    "\n",
    "Redis sets are unsorted, which limits their usefulness. Sorted sets are similar to sets, except each unique member has an associated score, which provides the mechanism for sorting. Use cases include:\n",
    "\n",
    "- rate limiters\n",
    "- game leaderboards\n",
    "\n",
    "The following example creates a set of bike brands named for famous computer programmers, using their birth year as the score element to sort the set."
   ]
  },
  {
   "cell_type": "code",
   "execution_count": null,
   "metadata": {},
   "outputs": [],
   "source": [
    "# Create a sorted set\n",
    "r.zadd(\"bike:brands\", {\"Alan Kay\": 1940})\n",
    "r.zadd(\"bike:brands\", {\"Grace Hopper\": 1906})\n",
    "r.zadd(\"bike:brands\", {\"Richard Stallman\": 1953})\n",
    "r.zadd(\"bike:brands\", {\"Yukihiro Matsumoto\": 1965})\n",
    "r.zadd(\"bike:brands\", {\"Claude Shannon\": 1916})\n",
    "r.zadd(\"bike:brands\", {\"Linus Torvalds\": 1969})\n",
    "r.zadd(\"bike:brands\", {\"Sophie Wilson\": 1957})\n",
    "r.zadd(\"bike:brands\", {\"Alan Turing\": 1912})\n",
    "\n",
    "print(\"Created sorted set of bike brands with birth years as scores\")"
   ]
  },
  {
   "cell_type": "markdown",
   "metadata": {},
   "source": [
    "Now you can use the `ZRANGE` command to retrieve members in the order of birth year using member ranks as the arguments. As with lists, you can use `-1`, `-2`, etc., to represent the last, second to last, etc., members."
   ]
  },
  {
   "cell_type": "code",
   "execution_count": null,
   "metadata": {},
   "outputs": [],
   "source": [
    "# ZRANGE usage\n",
    "result = r.zrange(\"bike:brands\", 2, 4)\n",
    "print(\"Members from rank 2 to 4:\")\n",
    "for item in result:\n",
    "    print(f\"  - {item}\")"
   ]
  },
  {
   "cell_type": "markdown",
   "metadata": {},
   "source": [
    "To delete members from a sorted set, use the `ZREM` command."
   ]
  },
  {
   "cell_type": "code",
   "execution_count": null,
   "metadata": {},
   "outputs": [],
   "source": [
    "# Remove the Alan Turing model and score\n",
    "removed = r.zrem(\"bike:brands\", \"Alan Turing\")\n",
    "print(f\"Removed Alan Turing: {removed == 1}\")"
   ]
  },
  {
   "cell_type": "markdown",
   "metadata": {},
   "source": [
    "Once all the members of a sorted set have been removed, the set's key will also be removed.\n",
    "\n",
    "To list all the members in score order, use the `ZRANGEBYSCORE`. If you pass the `WITHSCORES` argument, each member's score will also be listed."
   ]
  },
  {
   "cell_type": "code",
   "execution_count": null,
   "metadata": {},
   "outputs": [],
   "source": [
    "# List members ordered by score\n",
    "result = r.zrangebyscore(\"bike:brands\", \"-inf\", \"+inf\", withscores=True)\n",
    "print(\"All bike brands ordered by birth year:\")\n",
    "for member, score in result:\n",
    "    print(f\"  - {member}: {int(score)}\")"
   ]
  },
  {
   "cell_type": "markdown",
   "metadata": {},
   "source": [
    "Note the use of `-inf` and `+inf` in the previous example. This is useful when you don't readily know the score range or particular values. See the manual page for `ZRANGEBYSCORE` for more options.\n",
    "\n",
    "You can get the rank of any sorted set member using the `ZRANK` command. Note: the member with the lowest score has rank `0`."
   ]
  },
  {
   "cell_type": "code",
   "execution_count": null,
   "metadata": {},
   "outputs": [],
   "source": [
    "# Get a bike brand's rank\n",
    "rank = r.zrank(\"bike:brands\", \"Claude Shannon\")\n",
    "score = r.zscore(\"bike:brands\", \"Claude Shannon\")\n",
    "print(f\"Claude Shannon rank: {rank}\")\n",
    "print(f\"Claude Shannon score (birth year): {int(score)}\")"
   ]
  },
  {
   "cell_type": "markdown",
   "metadata": {},
   "source": [
    "## Resources\n",
    "\n",
    "- Sorted set type [reference page](https://redis.io/docs/data-types/sorted-sets?utm_source=redisinsight&utm_medium=main&utm_campaign=tutorials).\n",
    "- Entire list of [Redis sorted set commands](https://redis.io/commands/?group=sorted-set&utm_source=redisinsight&utm_medium=main&utm_campaign=tutorials).\n",
    "- Check out [Get started with Redis](https://university.redis.io/learningpath/14q8m6gilfwltm?utm_source=redisinsight&utm_medium=main&utm_campaign=tutorials) learning path on Redis University for an introduction to working with all core data structures in Redis."
   ]
  }
 ],
 "metadata": {
  "kernelspec": {
   "display_name": "Python 3 (ipykernel)",
   "language": "python",
   "name": "python3"
  },
  "language_info": {
   "codemirror_mode": {
    "name": "ipython",
    "version": 3
   },
   "file_extension": ".py",
   "mimetype": "text/x-python",
   "name": "python",
   "nbconvert_exporter": "python",
   "pygments_lexer": "ipython3",
   "version": "3.12.9"
  }
 },
 "nbformat": 4,
 "nbformat_minor": 4
}
