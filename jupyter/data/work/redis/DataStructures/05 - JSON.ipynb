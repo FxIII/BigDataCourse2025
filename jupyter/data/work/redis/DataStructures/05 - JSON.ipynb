{
 "cells": [
  {
   "cell_type": "markdown",
   "metadata": {},
   "source": [
    "# Redis JSON Tutorial"
   ]
  },
  {
   "cell_type": "markdown",
   "metadata": {},
   "source": [
    "## Setup"
   ]
  },
  {
   "cell_type": "code",
   "execution_count": null,
   "metadata": {},
   "outputs": [],
   "source": [
    "%%capture\n",
    "%pip install redis rich tqdm "
   ]
  },
  {
   "cell_type": "code",
   "execution_count": null,
   "metadata": {},
   "outputs": [],
   "source": [
    "import redis\n",
    "from rich.pretty import pprint"
   ]
  },
  {
   "cell_type": "code",
   "execution_count": null,
   "metadata": {},
   "outputs": [],
   "source": [
    "# creating cluster\n",
    "# make sure jupyter server is connected to redis network\n",
    "# `docker network connect redis_default jupyter-jupyter-1`\n",
    "r = redis.RedisCluster(host='master', port=6379)"
   ]
  },
  {
   "cell_type": "markdown",
   "metadata": {},
   "source": [
    "## Introduction to Redis JSON\n",
    "\n",
    "The JSON capability of Redis Stack provides JavaScript Object Notation (JSON) support for Redis, which allows Redis to function as a document database.\n",
    "It lets you store, update, and retrieve JSON values in a Redis database, similar to any other Redis data type. Redis JSON also works seamlessly with Search and Query to let you index and query JSON documents.\n",
    "\n",
    "Primary features include:\n",
    "\n",
    "- Full support for the JSON standard.\n",
    "- [JSONPath](https://goessner.net/articles/JsonPath/) syntax for selecting/updating elements inside documents.\n",
    "- Documents are stored as binary data in a tree structure, allowing fast access to sub-elements.\n",
    "- Typed atomic operations for all JSON value types.\n",
    "\n",
    "### Prerequisites\n",
    "\n",
    "[Redis Stack](https://redis.io/downloads/?utm_source=redisinsight&utm_medium=app&utm_campaign=json_tutorial) >=7.2.0-v7 \\\n",
    "OR \\\n",
    "[RedisJSON](https://github.com/RedisJSON/RedisJSON/) >=2.6.8 \\\n",
    "OR \\\n",
    "A free Redis Stack instance on [Redis Cloud](https://redis.io/try-free/?utm_source=redisinsight&utm_medium=app&utm_campaign=json_tutorial)."
   ]
  },
  {
   "cell_type": "markdown",
   "metadata": {},
   "source": [
    "## Creating JSON Documents"
   ]
  },
  {
   "cell_type": "markdown",
   "metadata": {},
   "source": [
    "Here's a query that creates a JSON document describing a single bike."
   ]
  },
  {
   "cell_type": "code",
   "execution_count": null,
   "metadata": {},
   "outputs": [],
   "source": [
    "# Create a JSON document\n",
    "bicycle_1 = {\n",
    "    \"model\": \"Jigger\",\n",
    "    \"brand\": \"Velorim\",\n",
    "    \"price\": 270,\n",
    "    \"type\": \"Kids bikes\",\n",
    "    \"specs\": {\n",
    "        \"material\": \"aluminium\",\n",
    "        \"weight\": \"10\"\n",
    "    },\n",
    "    \"description\": \"The Jigger is the best ride for the smallest of tikes!\",\n",
    "    \"addons\": [\n",
    "        \"reflectors\",\n",
    "        \"grip tassles\"\n",
    "    ],\n",
    "    \"helmet_included\": False\n",
    "}\n",
    "\n",
    "response = r.json().set('bicycle:1', '$', bicycle_1)\n",
    "print(response)"
   ]
  },
  {
   "cell_type": "markdown",
   "metadata": {},
   "source": [
    "Now retrieve the newly created JSON document."
   ]
  },
  {
   "cell_type": "code",
   "execution_count": null,
   "metadata": {},
   "outputs": [],
   "source": [
    "# Retrieve bicycle:1\n",
    "result = r.json().get('bicycle:1')\n",
    "pprint(result)"
   ]
  },
  {
   "cell_type": "markdown",
   "metadata": {},
   "source": [
    "In the above example, the path, which is root (`$`), is implied. You could also write this command as:\n",
    "\n",
    "```python\n",
    "r.json().get('bicycle:1', '$')\n",
    "```\n",
    "\n",
    "You can also retrieve parts of documents using JSONPath expressions. JSONPath will be discussed in more detail later in this tutorial, but here are a few examples:"
   ]
  },
  {
   "cell_type": "code",
   "execution_count": null,
   "metadata": {},
   "outputs": [],
   "source": [
    "# Get the price of bicycle:1\n",
    "price = r.json().get('bicycle:1', '$.price')\n",
    "print(f\"Price: {price}\")"
   ]
  },
  {
   "cell_type": "code",
   "execution_count": null,
   "metadata": {},
   "outputs": [],
   "source": [
    "# Get the weight of bicycle:1\n",
    "weight = r.json().get('bicycle:1', '$.specs.weight')\n",
    "print(f\"Weight: {weight}\")"
   ]
  },
  {
   "cell_type": "code",
   "execution_count": null,
   "metadata": {},
   "outputs": [],
   "source": [
    "# Get the first addon of bicycle:1\n",
    "first_addon = r.json().get('bicycle:1', '$.addons[0]')\n",
    "print(f\"First addon: {first_addon}\")"
   ]
  },
  {
   "cell_type": "markdown",
   "metadata": {},
   "source": [
    "There are two other commands you can use to get information from documents:"
   ]
  },
  {
   "cell_type": "code",
   "execution_count": null,
   "metadata": {},
   "outputs": [],
   "source": [
    "# Get the length of bicycle:1's description\n",
    "length = r.json().strlen('bicycle:1', '$.description')\n",
    "print(f\"Description length: {length}\")"
   ]
  },
  {
   "cell_type": "code",
   "execution_count": null,
   "metadata": {},
   "outputs": [],
   "source": [
    "# Get the type of bicycle:1's helmet_included attribute\n",
    "type_value = r.json().type('bicycle:1', '$.helmet_included')\n",
    "print(f\"Helmet included type: {type_value}\")"
   ]
  },
  {
   "cell_type": "markdown",
   "metadata": {},
   "source": [
    "## Modifying JSON Documents\n",
    "\n",
    "Modifying JSON documents is straightforward using a combination of JSONPath expressions and Redis's JSON command set.\n",
    "\n",
    "Here are some examples."
   ]
  },
  {
   "cell_type": "markdown",
   "metadata": {},
   "source": [
    "### Extend documents"
   ]
  },
  {
   "cell_type": "code",
   "execution_count": null,
   "metadata": {},
   "outputs": [],
   "source": [
    "# Add two more documents \n",
    "bicycle_2 = {\n",
    "    \"model\": \"Hillcraft\", \n",
    "    \"brand\": \"Bicyk\", \n",
    "    \"price\": 1200, \n",
    "    \"type\": \"Kids Mountain Bikes\", \n",
    "    \"specs\": {\n",
    "        \"material\": \"carbon\", \n",
    "        \"weight\": \"11\"\n",
    "    }, \n",
    "    \"description\": \"A light mountain bike for kids.\", \n",
    "    \"addons\": [\"reflectors\", \"safety lights\"],\n",
    "    \"helmet_included\": False\n",
    "}\n",
    "\n",
    "bicycle_3 = {\n",
    "    \"model\": \"Chook air 5\", \n",
    "    \"brand\": \"Nord\", \n",
    "    \"price\": 815, \n",
    "    \"type\": \"Kids Mountain Bikes\", \n",
    "    \"specs\": {\n",
    "        \"material\": \"alloy\", \n",
    "        \"weight\": \"9.1\"\n",
    "    }, \n",
    "    \"description\": \"A lighter, more durable mountain bike for six years and older.\", \n",
    "    \"addons\": [\"reflectors\", \"safety lights\"],\n",
    "    \"helmet_included\": False\n",
    "}\n",
    "\n",
    "r.json().set('bicycle:2', '$', bicycle_2)\n",
    "r.json().set('bicycle:3', '$', bicycle_3)\n",
    "print(\"Documents created successfully\")"
   ]
  },
  {
   "cell_type": "code",
   "execution_count": null,
   "metadata": {},
   "outputs": [],
   "source": [
    "# Add a new name-value pair to an existing document\n",
    "response = r.json().set('bicycle:1', '$.newmember', 'value')\n",
    "print(response)\n",
    "\n",
    "# Check the updated document\n",
    "result = r.json().get('bicycle:1')\n",
    "pprint(result)"
   ]
  },
  {
   "cell_type": "markdown",
   "metadata": {},
   "source": [
    "You could also update multiple documents at the same time. First, delete `$.newmember` from `bicycle:1` using `JSON.DEL`."
   ]
  },
  {
   "cell_type": "code",
   "execution_count": null,
   "metadata": {},
   "outputs": [],
   "source": [
    "# Delete $.newmember from bicycle:1\n",
    "response = r.json().delete('bicycle:1', '$.newmember')\n",
    "print(f\"Number of paths deleted: {response}\")\n",
    "\n",
    "# Verify deletion\n",
    "result = r.json().get('bicycle:1')\n",
    "pprint(result)"
   ]
  },
  {
   "cell_type": "markdown",
   "metadata": {},
   "source": [
    "Next, add `$.newmember` to all three bicycles:"
   ]
  },
  {
   "cell_type": "code",
   "execution_count": null,
   "metadata": {},
   "outputs": [],
   "source": [
    "# Add a member named newmember to all three bicycles\n",
    "r.json().set('bicycle:1', '$.newmember', 'value1')\n",
    "r.json().set('bicycle:2', '$.newmember', 'value2')\n",
    "r.json().set('bicycle:3', '$.newmember', 'value3')\n",
    "print(\"New members added successfully\")\n",
    "\n",
    "# Check the new members\n",
    "results = [r.json().get(key, '$.newmember') for key in ['bicycle:1', 'bicycle:2', 'bicycle:3']]\n",
    "for idx, result in enumerate(results):\n",
    "    print(f\"Bicycle {idx+1} newmember: {result}\")"
   ]
  },
  {
   "cell_type": "markdown",
   "metadata": {},
   "source": [
    "### Manipulate numeric values\n",
    "\n",
    "The `JSON.NUMINCRBY` command allows you to perform arithmetic operations on numeric fields of documents.\n",
    "Use positive numbers to increment and negative numbers to decrement."
   ]
  },
  {
   "cell_type": "code",
   "execution_count": null,
   "metadata": {},
   "outputs": [],
   "source": [
    "# Decrease the price of bicycle:1\n",
    "print(f\"Original price: {r.json().get('bicycle:1', '$.price')}\")\n",
    "\n",
    "new_price = r.json().numincrby('bicycle:1', '$.price', -10)\n",
    "print(f\"New price after decreasing by 10: {new_price}\")\n",
    "\n",
    "print(f\"Verified price: {r.json().get('bicycle:1', '$.price')}\")"
   ]
  },
  {
   "cell_type": "markdown",
   "metadata": {},
   "source": [
    "### Manipulate string and boolean values\n",
    "\n",
    "Appending information to JSON strings is straightforward."
   ]
  },
  {
   "cell_type": "code",
   "execution_count": null,
   "metadata": {},
   "outputs": [],
   "source": [
    "# Append a string to bicycle:1's model\n",
    "print(f\"Original model: {r.json().get('bicycle:1', '$.model')}\")\n",
    "\n",
    "length = r.json().strappend('bicycle:1', 'naut', '$.model')\n",
    "print(f\"New length: {length}\")\n",
    "\n",
    "print(f\"New model after appending: {r.json().get('bicycle:1', '$.model')}\")"
   ]
  },
  {
   "cell_type": "markdown",
   "metadata": {},
   "source": [
    "The `JSON.TOGGLE` command can be used to toggle boolean values."
   ]
  },
  {
   "cell_type": "code",
   "execution_count": null,
   "metadata": {},
   "outputs": [],
   "source": [
    "# Toggle the value of bicycle:1's helmet_included value\n",
    "print(f\"Original helmet_included value: {r.json().get('bicycle:1', '$.helmet_included')}\")\n",
    "\n",
    "new_value = r.json().toggle('bicycle:1', '$.helmet_included')\n",
    "print(f\"New value after toggle: {new_value}\")\n",
    "\n",
    "print(f\"Verified helmet_included value: {r.json().get('bicycle:1', '$.helmet_included')}\")"
   ]
  },
  {
   "cell_type": "markdown",
   "metadata": {},
   "source": [
    "### Deeper document manipulation\n",
    "\n",
    "As you saw earlier, the `JSON.MERGE` command can be used to create new documents. Additionally, it can also be used for the following use cases:\n",
    "\n",
    "- Create a non-existant path-value:"
   ]
  },
  {
   "cell_type": "code",
   "execution_count": null,
   "metadata": {},
   "outputs": [],
   "source": [
    "# Add a new name-value pair to bicycle:1\n",
    "response = r.json().merge('bicycle:1', '$.newmember2', 'value 2 1')\n",
    "print(response)\n",
    "\n",
    "# Check the updated document\n",
    "result = r.json().get('bicycle:1')\n",
    "pprint(result)"
   ]
  },
  {
   "cell_type": "markdown",
   "metadata": {},
   "source": [
    "- Replace an existing value:"
   ]
  },
  {
   "cell_type": "code",
   "execution_count": null,
   "metadata": {},
   "outputs": [],
   "source": [
    "# Change bicycle:1's model back to Jigger\n",
    "response = r.json().merge('bicycle:1', '$.model', 'Jigger')\n",
    "print(response)\n",
    "\n",
    "# Check the model\n",
    "model = r.json().get('bicycle:1', '$.model')\n",
    "print(f\"Updated model: {model}\")"
   ]
  },
  {
   "cell_type": "markdown",
   "metadata": {},
   "source": [
    "- Delete an existing value:"
   ]
  },
  {
   "cell_type": "code",
   "execution_count": null,
   "metadata": {},
   "outputs": [],
   "source": [
    "# Delete newmember2 from bicycle:1\n",
    "response = r.json().merge('bicycle:1', '$', {\"newmember2\": None})\n",
    "print(response)\n",
    "\n",
    "# Check the updated document\n",
    "result = r.json().get('bicycle:1')\n",
    "pprint(result)"
   ]
  },
  {
   "cell_type": "markdown",
   "metadata": {},
   "source": [
    "- Replace an array:"
   ]
  },
  {
   "cell_type": "code",
   "execution_count": null,
   "metadata": {},
   "outputs": [],
   "source": [
    "# Replace bicycle:1's addons\n",
    "response = r.json().merge('bicycle:1', '$.addons', [\"reflectors\", \"rainbow seat\"])\n",
    "print(response)\n",
    "\n",
    "# Check the updated addons\n",
    "addons = r.json().get('bicycle:1', '$.addons')\n",
    "print(f\"Updated addons: {addons}\")"
   ]
  },
  {
   "cell_type": "markdown",
   "metadata": {},
   "source": [
    "- Make changes to multiple paths (no example)."
   ]
  },
  {
   "cell_type": "markdown",
   "metadata": {},
   "source": [
    "### Delete information\n",
    "\n",
    "You can delete name-value pairs using the `JSON.DEL` or `JSON.FORGET` commands:"
   ]
  },
  {
   "cell_type": "code",
   "execution_count": null,
   "metadata": {},
   "outputs": [],
   "source": [
    "# Delete newmember from bicycle:1\n",
    "response = r.json().delete('bicycle:1', '$.newmember')\n",
    "print(f\"Number of paths deleted: {response}\")\n",
    "\n",
    "# Check the updated document\n",
    "result = r.json().get('bicycle:1')\n",
    "pprint(result)"
   ]
  },
  {
   "cell_type": "markdown",
   "metadata": {},
   "source": [
    "The `JSON.CLEAR` command will empty all arrays and set all numeric values to zero. A simple example will illustrate how this works."
   ]
  },
  {
   "cell_type": "code",
   "execution_count": null,
   "metadata": {},
   "outputs": [],
   "source": [
    "# JSON.CLEAR usage\n",
    "doc = {\n",
    "    \"obj\": {\"a\": 1, \"b\": 2}, \n",
    "    \"arr\": [1, 2, 3], \n",
    "    \"str\": \"foo\", \n",
    "    \"bool\": True, \n",
    "    \"int\": 42, \n",
    "    \"float\": 3.14\n",
    "}\n",
    "\n",
    "# Create the document\n",
    "response = r.json().set('doc', '$', doc)\n",
    "print(f\"Document creation response: {response}\")\n",
    "\n",
    "# Check the original document\n",
    "print(\"Original document:\")\n",
    "result = r.json().get('doc', '$')\n",
    "pprint(result)\n",
    "\n",
    "# Clear all values\n",
    "cleared = r.json().clear('doc', '$.*')\n",
    "print(f\"\\nNumber of paths cleared: {cleared}\")\n",
    "\n",
    "# Check the cleared document\n",
    "print(\"\\nDocument after clearing:\")\n",
    "result = r.json().get('doc', '$')\n",
    "pprint(result)"
   ]
  },
  {
   "cell_type": "markdown",
   "metadata": {},
   "source": [
    "As with all Redis keys, you can use the `DEL` command to delete keys entirely."
   ]
  },
  {
   "cell_type": "code",
   "execution_count": null,
   "metadata": {},
   "outputs": [],
   "source": [
    "# Delete the doc key entirely\n",
    "response = r.delete('doc')\n",
    "print(f\"Key deleted: {response}\")\n",
    "\n",
    "# Try to get the document (should fail)\n",
    "try:\n",
    "    result = r.json().get('doc', '$')\n",
    "    print(result)\n",
    "except Exception as e:\n",
    "    print(f\"Error: {e}\")"
   ]
  }
 ],
 "metadata": {
  "kernelspec": {
   "display_name": "Python 3 (ipykernel)",
   "language": "python",
   "name": "python3"
  },
  "language_info": {
   "codemirror_mode": {
    "name": "ipython",
    "version": 3
   },
   "file_extension": ".py",
   "mimetype": "text/x-python",
   "name": "python",
   "nbconvert_exporter": "python",
   "pygments_lexer": "ipython3",
   "version": "3.12.9"
  }
 },
 "nbformat": 4,
 "nbformat_minor": 4
}
