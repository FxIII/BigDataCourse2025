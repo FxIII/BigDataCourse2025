{
 "cells": [
  {
   "cell_type": "markdown",
   "metadata": {},
   "source": [
    "# Redis Strings Tutorial"
   ]
  },
  {
   "cell_type": "markdown",
   "metadata": {},
   "source": [
    "## Setup"
   ]
  },
  {
   "cell_type": "code",
   "execution_count": 11,
   "metadata": {},
   "outputs": [],
   "source": [
    "%%capture\n",
    "%pip install redis rich tqdm "
   ]
  },
  {
   "cell_type": "code",
   "execution_count": 12,
   "metadata": {},
   "outputs": [],
   "source": [
    "import redis\n",
    "from rich.pretty import pprint"
   ]
  },
  {
   "cell_type": "code",
   "execution_count": 13,
   "metadata": {},
   "outputs": [],
   "source": [
    "# creating cluster\n",
    "# make sure jupyter server is connected to redis network\n",
    "# `docker network connect redis_default jupyter-jupyter-1`\n",
    "r = redis.RedisCluster(host='redis-master-1', port=6379)"
   ]
  },
  {
   "cell_type": "markdown",
   "metadata": {},
   "source": [
    "## Redis Strings\n",
    "\n",
    "Redis strings are used to store strings, numbers, images, serialized objects, and other kinds of information. They are the simplest of the Redis data types.\n",
    "\n",
    "As a first example, use the `SET` command to store the value \"Deimos\", a type of bike, at key \"bike:1\"."
   ]
  },
  {
   "cell_type": "code",
   "execution_count": 14,
   "metadata": {},
   "outputs": [
    {
     "name": "stdout",
     "output_type": "stream",
     "text": [
      "True\n"
     ]
    }
   ],
   "source": [
    "# Create a new key\n",
    "response = r.set(\"bike:1\", \"Deimos\")\n",
    "print(response)"
   ]
  },
  {
   "cell_type": "markdown",
   "metadata": {},
   "source": [
    "You can retrieve the data using the `GET` command."
   ]
  },
  {
   "cell_type": "code",
   "execution_count": 15,
   "metadata": {},
   "outputs": [
    {
     "name": "stdout",
     "output_type": "stream",
     "text": [
      "b'Deimos'\n"
     ]
    }
   ],
   "source": [
    "# Retrieve the data\n",
    "value = r.get(\"bike:1\")\n",
    "print(value)"
   ]
  },
  {
   "cell_type": "markdown",
   "metadata": {},
   "source": [
    "To see if a key exists, use the `EXISTS` command."
   ]
  },
  {
   "cell_type": "code",
   "execution_count": 16,
   "metadata": {},
   "outputs": [
    {
     "name": "stdout",
     "output_type": "stream",
     "text": [
      "bike:1 exists: 1\n",
      "bike:2 exists: 0\n"
     ]
    }
   ],
   "source": [
    "# Do these keys exist?\n",
    "print(f\"bike:1 exists: {r.exists('bike:1')}\")\n",
    "print(f\"bike:2 exists: {r.exists('bike:2')}\")"
   ]
  },
  {
   "cell_type": "markdown",
   "metadata": {},
   "source": [
    "The `EXISTS` command returns `1` when a key exists and `0` when it does not exist. The `bike:1` key exists, so Redis returns a value of `1`. The `bike:2` key does not exist, so Redis returns `0`.\n",
    "\n",
    "Use the `DEL` to delete a key and its data."
   ]
  },
  {
   "cell_type": "code",
   "execution_count": 19,
   "metadata": {},
   "outputs": [
    {
     "name": "stdout",
     "output_type": "stream",
     "text": [
      "bike:1 exists after deletion: 0\n"
     ]
    }
   ],
   "source": [
    "# Delete bike:1\n",
    "r.delete(\"bike:1\")\n",
    "print(f\"bike:1 exists after deletion: {r.exists('bike:1')}\")"
   ]
  },
  {
   "cell_type": "markdown",
   "metadata": {},
   "source": [
    "## Strings as counters\n",
    "\n",
    "If you store integer data in a string key, you can use these commands to increment and decrement its value:\n",
    "\n",
    "- `INCR` - increment a number stored in a key by `1`.\n",
    "- `INCRBY` - increment a number stored in a key by a specific positive or negative amount.\n",
    "- `DECR` - decrement a number stored in a key by `1`.\n",
    "- `DECRBY` - decrement a number stored in a key by a specific positive or negative amount."
   ]
  },
  {
   "cell_type": "code",
   "execution_count": 20,
   "metadata": {},
   "outputs": [
    {
     "name": "stdout",
     "output_type": "stream",
     "text": [
      "Initial value: b'10'\n",
      "After incrementing twice: b'12'\n"
     ]
    }
   ],
   "source": [
    "# INCR usage\n",
    "r.set(\"bikes:total_number\", 10)\n",
    "print(f\"Initial value: {r.get('bikes:total_number')}\")\n",
    "\n",
    "# Increment twice\n",
    "new_value1 = r.incr(\"bikes:total_number\")\n",
    "new_value2 = r.incr(\"bikes:total_number\")\n",
    "print(f\"After incrementing twice: {r.get('bikes:total_number')}\")"
   ]
  },
  {
   "cell_type": "code",
   "execution_count": 21,
   "metadata": {},
   "outputs": [
    {
     "name": "stdout",
     "output_type": "stream",
     "text": [
      "After deleting and incrementing: b'1'\n"
     ]
    }
   ],
   "source": [
    "# Use INCR to set a key to 1\n",
    "r.delete(\"bikes:total_number\")\n",
    "new_value = r.incr(\"bikes:total_number\")\n",
    "print(f\"After deleting and incrementing: {r.get('bikes:total_number')}\")"
   ]
  },
  {
   "cell_type": "markdown",
   "metadata": {},
   "source": [
    "Note how the `INCR bikes:total_number` command that follows the `DEL` command re-creates the `bikes:total_number` key and sets its value to `1`."
   ]
  },
  {
   "cell_type": "code",
   "execution_count": 22,
   "metadata": {},
   "outputs": [
    {
     "name": "stdout",
     "output_type": "stream",
     "text": [
      "After incrementing by 100: b'101'\n"
     ]
    }
   ],
   "source": [
    "# INCRBY usage\n",
    "new_value = r.incrby(\"bikes:total_number\", 100)\n",
    "print(f\"After incrementing by 100: {r.get('bikes:total_number')}\")"
   ]
  },
  {
   "cell_type": "code",
   "execution_count": 23,
   "metadata": {},
   "outputs": [
    {
     "name": "stdout",
     "output_type": "stream",
     "text": [
      "After decrementing: b'100'\n",
      "After decrementing by 10: b'90'\n"
     ]
    }
   ],
   "source": [
    "# DECR and DECRBY usage\n",
    "new_value1 = r.decr(\"bikes:total_number\")\n",
    "print(f\"After decrementing: {r.get('bikes:total_number')}\")\n",
    "\n",
    "new_value2 = r.decrby(\"bikes:total_number\", 10)\n",
    "print(f\"After decrementing by 10: {r.get('bikes:total_number')}\")"
   ]
  },
  {
   "cell_type": "markdown",
   "metadata": {},
   "source": [
    "Using any of the `INCR*` or `DECR*` commands to modify the value of a key is an atomic operation. If two clients were to increment a key's value simultaneously, both operations would increment the key.\n",
    "\n",
    "All the Redis operations implemented by single commands are atomic, including those that operate on more complex data structures. So, when you use a command that modifies the value of a key, any concurrent operations will also succeed."
   ]
  },
  {
   "cell_type": "markdown",
   "metadata": {},
   "source": [
    "## Key expiration\n",
    "\n",
    "When keys are created without constraints, they live for the full lifespan of the Redis server to which they are attached. However, if you want a key to live for only a specific amount of time, you can use the `EXPIRE` command to alter its lifespan. To find out how much time is left before a key expires, use the `TTL` command."
   ]
  },
  {
   "cell_type": "code",
   "execution_count": 24,
   "metadata": {},
   "outputs": [
    {
     "name": "stdout",
     "output_type": "stream",
     "text": [
      "Key set with 20 seconds expiration\n"
     ]
    }
   ],
   "source": [
    "# EXPIRE usage\n",
    "r.set(\"bike:1:lock_status\", \"LOCKED\")\n",
    "r.expire(\"bike:1:lock_status\", 20)\n",
    "print(f\"Key set with 20 seconds expiration\")"
   ]
  },
  {
   "cell_type": "markdown",
   "metadata": {},
   "source": [
    "After a few seconds, check the time-to-live status by running the `TTL` command."
   ]
  },
  {
   "cell_type": "code",
   "execution_count": 30,
   "metadata": {},
   "outputs": [
    {
     "name": "stdout",
     "output_type": "stream",
     "text": [
      "Time to live: -2 seconds\n"
     ]
    }
   ],
   "source": [
    "# Check the bike:1:lock_status key\n",
    "ttl = r.ttl(\"bike:1:lock_status\")\n",
    "print(f\"Time to live: {ttl} seconds\")"
   ]
  },
  {
   "cell_type": "markdown",
   "metadata": {},
   "source": [
    "You'll see one of the two return values:\n",
    "\n",
    "1. the number of seconds left before the key expires\n",
    "2. `-2`, indicating that the key has already expired\n",
    "\n",
    "If you try to use the `TTL` command on a key that does not have an expiration set, it will return `-1`."
   ]
  },
  {
   "cell_type": "code",
   "execution_count": 31,
   "metadata": {},
   "outputs": [
    {
     "name": "stdout",
     "output_type": "stream",
     "text": [
      "TTL for non-expiring key: -1\n"
     ]
    }
   ],
   "source": [
    "# TTL on a non-expiring key\n",
    "r.set(\"bike:2:lock_status\", \"LOCKED\")\n",
    "ttl = r.ttl(\"bike:2:lock_status\")\n",
    "print(f\"TTL for non-expiring key: {ttl}\")"
   ]
  },
  {
   "cell_type": "markdown",
   "metadata": {},
   "source": [
    "`EXPIRE` and `TTL` operate in seconds, but there are analogous commands that operate in milliseconds. They are `PEXPIRE` and `PTTL`.\n",
    "\n",
    "The `SET` command can take additional arguments, one of which allows you to set the value of a key and its time to live value directly in a single, atomic operation. The `EX` and `PX` arguments allow you to specify the TTL value as either seconds or milliseconds, respectively."
   ]
  },
  {
   "cell_type": "code",
   "execution_count": 32,
   "metadata": {},
   "outputs": [
    {
     "name": "stdout",
     "output_type": "stream",
     "text": [
      "Key set with 1 millisecond expiration\n"
     ]
    }
   ],
   "source": [
    "# SET with time to live\n",
    "r.set(\"bike:1:lock_status\", \"LOCKED\", px=1)\n",
    "print(\"Key set with 1 millisecond expiration\")"
   ]
  },
  {
   "cell_type": "markdown",
   "metadata": {},
   "source": [
    "It's possible to cancel a key's timeout using the `PERSIST` command."
   ]
  },
  {
   "cell_type": "code",
   "execution_count": 33,
   "metadata": {},
   "outputs": [
    {
     "name": "stdout",
     "output_type": "stream",
     "text": [
      "TTL before persist: 120 seconds\n",
      "TTL after persist: -1\n"
     ]
    }
   ],
   "source": [
    "# PERSIST usage\n",
    "r.set(\"bike:1:lock_status\", \"LOCKED\", ex=120)\n",
    "print(f\"TTL before persist: {r.ttl('bike:1:lock_status')} seconds\")\n",
    "\n",
    "r.persist(\"bike:1:lock_status\")\n",
    "print(f\"TTL after persist: {r.ttl('bike:1:lock_status')}\")"
   ]
  },
  {
   "cell_type": "markdown",
   "metadata": {},
   "source": [
    "## Resources\n",
    "\n",
    "- String type [reference page](https://redis.io/docs/data-types/strings?utm_source=redisinsight&utm_medium=main&utm_campaign=tutorials).\n",
    "- Entire set of [Redis string commands](https://redis.io/commands/?group=string&utm_source=redisinsight&utm_medium=main&utm_campaign=tutorials).\n"
   ]
  }
 ],
 "metadata": {
  "kernelspec": {
   "display_name": "Python 3 (ipykernel)",
   "language": "python",
   "name": "python3"
  },
  "language_info": {
   "codemirror_mode": {
    "name": "ipython",
    "version": 3
   },
   "file_extension": ".py",
   "mimetype": "text/x-python",
   "name": "python",
   "nbconvert_exporter": "python",
   "pygments_lexer": "ipython3",
   "version": "3.12.9"
  }
 },
 "nbformat": 4,
 "nbformat_minor": 4
}
