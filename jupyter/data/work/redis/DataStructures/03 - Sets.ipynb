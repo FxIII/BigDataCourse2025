{
 "cells": [
  {
   "cell_type": "markdown",
   "metadata": {},
   "source": [
    "# Redis Sets Tutorial"
   ]
  },
  {
   "cell_type": "markdown",
   "metadata": {},
   "source": [
    "## Setup"
   ]
  },
  {
   "cell_type": "code",
   "execution_count": 1,
   "metadata": {},
   "outputs": [],
   "source": [
    "%%capture\n",
    "%pip install redis rich tqdm "
   ]
  },
  {
   "cell_type": "code",
   "execution_count": 2,
   "metadata": {},
   "outputs": [],
   "source": [
    "import redis\n",
    "from rich.pretty import pprint"
   ]
  },
  {
   "cell_type": "code",
   "execution_count": 3,
   "metadata": {},
   "outputs": [],
   "source": [
    "# creating cluster\n",
    "# make sure jupyter server is connected to redis network\n",
    "# `docker network connect redis_default jupyter-jupyter-1`\n",
    "r = redis.RedisCluster(host='master', port=6379)"
   ]
  },
  {
   "cell_type": "markdown",
   "metadata": {},
   "source": [
    "# Redis Sets\n",
    "\n",
    "Redis sets are similar to lists, except they are unordered, and each element must be unique. You can use sets to:\n",
    "\n",
    "- Track unique items (e.g., track all unique IP addresses accessing a given blog post).\n",
    "- Represent relations (e.g., the set of all users with a specified role).\n",
    "- Perform common set operations such as intersection, union, and difference.\n",
    "\n",
    "Here are some important set commands:\n",
    "\n",
    "- `SADD`\n",
    "- `SREM`\n",
    "- `SISMEMBER`\n",
    "- `SMEMBERS`\n",
    "- `SUNION`"
   ]
  },
  {
   "cell_type": "markdown",
   "metadata": {},
   "source": [
    "Use `SADD` to create and update a set. Each `SADD` command will return the number of added members. If you try to add a member that is already in the set, `0` is returned."
   ]
  },
  {
   "cell_type": "code",
   "execution_count": 7,
   "metadata": {},
   "outputs": [
    {
     "name": "stdout",
     "output_type": "stream",
     "text": [
      "Added 'whitewall tires': 0\n",
      "Added 'bell' and 'reflectors': 1\n",
      "Tried to add 'bell' again: 0\n"
     ]
    }
   ],
   "source": [
    "# Create a set\n",
    "result1 = r.sadd(\"{bike:1}:addons\", \"whitewall tires\")\n",
    "print(f\"Added 'whitewall tires': {result1}\")\n",
    "\n",
    "result2 = r.sadd(\"{bike:1}:addons\", \"bell\", \"reflectors\")\n",
    "print(f\"Added 'bell' and 'reflectors': {result2}\")\n",
    "\n",
    "result3 = r.sadd(\"{bike:1}:addons\", \"bell\")\n",
    "print(f\"Tried to add 'bell' again: {result3}\")"
   ]
  },
  {
   "cell_type": "markdown",
   "metadata": {},
   "source": [
    "Notice that the `SADD` command is variadic."
   ]
  },
  {
   "cell_type": "markdown",
   "metadata": {},
   "source": [
    "`SREM` is used to remove members of a set. It returns `1` if the member is in the set, or `0` if it is not."
   ]
  },
  {
   "cell_type": "code",
   "execution_count": 8,
   "metadata": {},
   "outputs": [
    {
     "name": "stdout",
     "output_type": "stream",
     "text": [
      "Removed 'bell': 1\n",
      "Tried to remove 'sissy bar' (not in set): 0\n"
     ]
    }
   ],
   "source": [
    "# Remove set members\n",
    "result1 = r.srem(\"{bike:1}:addons\", \"bell\")\n",
    "print(f\"Removed 'bell': {result1}\")\n",
    "\n",
    "result2 = r.srem(\"{bike:1}:addons\", \"sissy bar\")\n",
    "print(f\"Tried to remove 'sissy bar' (not in set): {result2}\")"
   ]
  },
  {
   "cell_type": "markdown",
   "metadata": {},
   "source": [
    "The `SISMEMBER` command is used to test set membership. It returns `1` if the member is present, and `0` otherwise."
   ]
  },
  {
   "cell_type": "code",
   "execution_count": 9,
   "metadata": {},
   "outputs": [
    {
     "name": "stdout",
     "output_type": "stream",
     "text": [
      "Is 'reflectors' in the set? True\n",
      "Is 'sissy bar' in the set? False\n"
     ]
    }
   ],
   "source": [
    "# Test set membership\n",
    "result1 = r.sismember(\"{bike:1}:addons\", \"reflectors\")\n",
    "print(f\"Is 'reflectors' in the set? {bool(result1)}\")\n",
    "\n",
    "result2 = r.sismember(\"{bike:1}:addons\", \"sissy bar\")\n",
    "print(f\"Is 'sissy bar' in the set? {bool(result2)}\")"
   ]
  },
  {
   "cell_type": "markdown",
   "metadata": {},
   "source": [
    "Use `SMEMBERS` to return all the members of a set."
   ]
  },
  {
   "cell_type": "code",
   "execution_count": 10,
   "metadata": {},
   "outputs": [
    {
     "name": "stdout",
     "output_type": "stream",
     "text": [
      "Set members:\n"
     ]
    },
    {
     "data": {
      "text/html": [
       "<pre style=\"white-space:pre;overflow-x:auto;line-height:normal;font-family:Menlo,'DejaVu Sans Mono',consolas,'Courier New',monospace\"><span style=\"font-weight: bold\">{</span><span style=\"color: #008000; text-decoration-color: #008000\">b'whitewall tires'</span>, <span style=\"color: #008000; text-decoration-color: #008000\">b'reflectors'</span><span style=\"font-weight: bold\">}</span>\n",
       "</pre>\n"
      ],
      "text/plain": [
       "\u001b[1m{\u001b[0m\u001b[32mb'whitewall tires'\u001b[0m, \u001b[32mb'reflectors'\u001b[0m\u001b[1m}\u001b[0m\n"
      ]
     },
     "metadata": {},
     "output_type": "display_data"
    }
   ],
   "source": [
    "# Get set members\n",
    "members = r.smembers(\"{bike:1}:addons\")\n",
    "print(\"Set members:\")\n",
    "pprint(members)"
   ]
  },
  {
   "cell_type": "markdown",
   "metadata": {},
   "source": [
    "`SUNION` combines two or more sets and returns all their elements."
   ]
  },
  {
   "cell_type": "code",
   "execution_count": 11,
   "metadata": {},
   "outputs": [
    {
     "name": "stdout",
     "output_type": "stream",
     "text": [
      "Special addons:\n"
     ]
    },
    {
     "data": {
      "text/html": [
       "<pre style=\"white-space:pre;overflow-x:auto;line-height:normal;font-family:Menlo,'DejaVu Sans Mono',consolas,'Courier New',monospace\"><span style=\"font-weight: bold\">{</span><span style=\"color: #008000; text-decoration-color: #008000\">b'banana seat'</span>, <span style=\"color: #008000; text-decoration-color: #008000\">b'sparkle coat finish'</span><span style=\"font-weight: bold\">}</span>\n",
       "</pre>\n"
      ],
      "text/plain": [
       "\u001b[1m{\u001b[0m\u001b[32mb'banana seat'\u001b[0m, \u001b[32mb'sparkle coat finish'\u001b[0m\u001b[1m}\u001b[0m\n"
      ]
     },
     "metadata": {},
     "output_type": "display_data"
    },
    {
     "name": "stdout",
     "output_type": "stream",
     "text": [
      "\n",
      "Union of both sets:\n"
     ]
    },
    {
     "data": {
      "text/html": [
       "<pre style=\"white-space:pre;overflow-x:auto;line-height:normal;font-family:Menlo,'DejaVu Sans Mono',consolas,'Courier New',monospace\"><span style=\"font-weight: bold\">{</span><span style=\"color: #008000; text-decoration-color: #008000\">b'banana seat'</span>, <span style=\"color: #008000; text-decoration-color: #008000\">b'whitewall tires'</span>, <span style=\"color: #008000; text-decoration-color: #008000\">b'reflectors'</span>, <span style=\"color: #008000; text-decoration-color: #008000\">b'sparkle coat finish'</span><span style=\"font-weight: bold\">}</span>\n",
       "</pre>\n"
      ],
      "text/plain": [
       "\u001b[1m{\u001b[0m\u001b[32mb'banana seat'\u001b[0m, \u001b[32mb'whitewall tires'\u001b[0m, \u001b[32mb'reflectors'\u001b[0m, \u001b[32mb'sparkle coat finish'\u001b[0m\u001b[1m}\u001b[0m\n"
      ]
     },
     "metadata": {},
     "output_type": "display_data"
    }
   ],
   "source": [
    "# SUNION usage\n",
    "r.sadd(\"{bike:1}:special_addons\", \"sparkle coat finish\", \"banana seat\")\n",
    "print(\"Special addons:\")\n",
    "pprint(r.smembers(\"{bike:1}:special_addons\"))\n",
    "\n",
    "union_result = r.sunion(\"{bike:1}:addons\", \"{bike:1}:special_addons\")\n",
    "print(\"\\nUnion of both sets:\")\n",
    "pprint(union_result)"
   ]
  },
  {
   "cell_type": "markdown",
   "metadata": {},
   "source": [
    "Sets have two ways to return one or more random members of a set:\n",
    "\n",
    "- `SPOP`\n",
    "- `SRANDMEMBER`\n",
    "\n",
    "Each command takes a key and, optionally, a count as arguments. `SPOP` removes and returns a random member, whereas `SRANDMEMBER` just returns the randomly selected members without removing them."
   ]
  },
  {
   "cell_type": "code",
   "execution_count": 12,
   "metadata": {},
   "outputs": [
    {
     "name": "stdout",
     "output_type": "stream",
     "text": [
      "Current members of bike:1:addons:\n"
     ]
    },
    {
     "data": {
      "text/html": [
       "<pre style=\"white-space:pre;overflow-x:auto;line-height:normal;font-family:Menlo,'DejaVu Sans Mono',consolas,'Courier New',monospace\"><span style=\"font-weight: bold\">{</span><span style=\"color: #008000; text-decoration-color: #008000\">b'whitewall tires'</span>, <span style=\"color: #008000; text-decoration-color: #008000\">b'reflectors'</span><span style=\"font-weight: bold\">}</span>\n",
       "</pre>\n"
      ],
      "text/plain": [
       "\u001b[1m{\u001b[0m\u001b[32mb'whitewall tires'\u001b[0m, \u001b[32mb'reflectors'\u001b[0m\u001b[1m}\u001b[0m\n"
      ]
     },
     "metadata": {},
     "output_type": "display_data"
    },
    {
     "name": "stdout",
     "output_type": "stream",
     "text": [
      "\n",
      "Random member (without removing):\n"
     ]
    },
    {
     "data": {
      "text/html": [
       "<pre style=\"white-space:pre;overflow-x:auto;line-height:normal;font-family:Menlo,'DejaVu Sans Mono',consolas,'Courier New',monospace\"><span style=\"color: #008000; text-decoration-color: #008000\">b'reflectors'</span>\n",
       "</pre>\n"
      ],
      "text/plain": [
       "\u001b[32mb'reflectors'\u001b[0m\n"
      ]
     },
     "metadata": {},
     "output_type": "display_data"
    },
    {
     "name": "stdout",
     "output_type": "stream",
     "text": [
      "\n",
      "Random member (with removal):\n"
     ]
    },
    {
     "data": {
      "text/html": [
       "<pre style=\"white-space:pre;overflow-x:auto;line-height:normal;font-family:Menlo,'DejaVu Sans Mono',consolas,'Courier New',monospace\"><span style=\"color: #008000; text-decoration-color: #008000\">b'whitewall tires'</span>\n",
       "</pre>\n"
      ],
      "text/plain": [
       "\u001b[32mb'whitewall tires'\u001b[0m\n"
      ]
     },
     "metadata": {},
     "output_type": "display_data"
    },
    {
     "name": "stdout",
     "output_type": "stream",
     "text": [
      "\n",
      "Remaining members after SPOP:\n"
     ]
    },
    {
     "data": {
      "text/html": [
       "<pre style=\"white-space:pre;overflow-x:auto;line-height:normal;font-family:Menlo,'DejaVu Sans Mono',consolas,'Courier New',monospace\"><span style=\"font-weight: bold\">{</span><span style=\"color: #008000; text-decoration-color: #008000\">b'reflectors'</span><span style=\"font-weight: bold\">}</span>\n",
       "</pre>\n"
      ],
      "text/plain": [
       "\u001b[1m{\u001b[0m\u001b[32mb'reflectors'\u001b[0m\u001b[1m}\u001b[0m\n"
      ]
     },
     "metadata": {},
     "output_type": "display_data"
    }
   ],
   "source": [
    "# SPOP/SRANDMEMBER usage\n",
    "print(\"Current members of bike:1:addons:\")\n",
    "pprint(r.smembers(\"{bike:1}:addons\"))\n",
    "\n",
    "print(\"\\nRandom member (without removing):\")\n",
    "pprint(r.srandmember(\"{bike:1}:addons\"))\n",
    "\n",
    "print(\"\\nRandom member (with removal):\")\n",
    "popped = r.spop(\"{bike:1}:addons\")\n",
    "pprint(popped)\n",
    "\n",
    "print(\"\\nRemaining members after SPOP:\")\n",
    "pprint(r.smembers(\"{bike:1}:addons\"))"
   ]
  },
  {
   "cell_type": "markdown",
   "metadata": {},
   "source": [
    "### Resources\n",
    "\n",
    "- Set type [reference page](https://redis.io/docs/data-types/sets?utm_source=redisinsight&utm_medium=main&utm_campaign=tutorials).\n",
    "- Entire list of [Redis set commands](https://redis.io/commands/?group=set&utm_source=redisinsight&utm_medium=main&utm_campaign=tutorials).\n",
    "- Check out [Get started with Redis](https://university.redis.io/learningpath/14q8m6gilfwltm?utm_source=redisinsight&utm_medium=main&utm_campaign=tutorials) learning path on Redis University for an introduction to working with all core data structures in Redis."
   ]
  }
 ],
 "metadata": {
  "kernelspec": {
   "display_name": "Python 3 (ipykernel)",
   "language": "python",
   "name": "python3"
  },
  "language_info": {
   "codemirror_mode": {
    "name": "ipython",
    "version": 3
   },
   "file_extension": ".py",
   "mimetype": "text/x-python",
   "name": "python",
   "nbconvert_exporter": "python",
   "pygments_lexer": "ipython3",
   "version": "3.12.9"
  }
 },
 "nbformat": 4,
 "nbformat_minor": 4
}
