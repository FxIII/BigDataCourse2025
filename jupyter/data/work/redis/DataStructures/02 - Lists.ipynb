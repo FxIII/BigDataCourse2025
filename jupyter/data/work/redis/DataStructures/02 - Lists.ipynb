{
 "cells": [
  {
   "cell_type": "markdown",
   "metadata": {},
   "source": [
    "# Redis Lists Tutorial"
   ]
  },
  {
   "cell_type": "markdown",
   "metadata": {},
   "source": [
    "## Setup"
   ]
  },
  {
   "cell_type": "code",
   "execution_count": 1,
   "metadata": {},
   "outputs": [],
   "source": [
    "%%capture\n",
    "%pip install redis rich tqdm "
   ]
  },
  {
   "cell_type": "code",
   "execution_count": 2,
   "metadata": {},
   "outputs": [],
   "source": [
    "import redis\n",
    "from rich.pretty import pprint"
   ]
  },
  {
   "cell_type": "code",
   "execution_count": 3,
   "metadata": {},
   "outputs": [],
   "source": [
    "# creating cluster\n",
    "# make sure jupyter server is connected to redis network\n",
    "# `docker network connect redis_default jupyter-jupyter-1`\n",
    "r = redis.RedisCluster(host='master', port=6379)"
   ]
  },
  {
   "cell_type": "markdown",
   "metadata": {},
   "source": [
    "## Redis Lists\n",
    "\n",
    "A Redis list is a data type that contains a series of ordered string values. Use cases include\n",
    "\n",
    "- implementing stacks (LIFO data structures)\n",
    "- implementing queues (FIFO data structures)\n",
    "- implementing producer-consumer patterns\n",
    "\n",
    "You interact with lists using commands such as:\n",
    "\n",
    "- RPUSH - adds items to the end of a list.\n",
    "- LPUSH - adds items to the beginning of a list.\n",
    "- LLEN - retrieves the length of a list.\n",
    "- LRANGE - retrieves list items from a specified range.\n",
    "- LPOP - removes and returns an item from the beginning of a list.\n",
    "- RPOP - removes and returns an item from the end of a list.\n",
    "\n",
    "You can begin using with a list without first creating its key, simply by adding values to the key. This works as long as the key doesn't already exist as a different type.\n",
    "\n",
    "**Note**:\n",
    "> This is generally true for every Redis data structure, though there are a few exceptions.\n",
    "\n",
    "If a key's values are removed entirely, the key will be removed from the keyspace."
   ]
  },
  {
   "cell_type": "markdown",
   "metadata": {},
   "source": [
    "In the following example, a list key is created and then a second element is added to it using the `RPUSH` command. The length of the list is returned after each command."
   ]
  },
  {
   "cell_type": "code",
   "execution_count": 4,
   "metadata": {},
   "outputs": [
    {
     "name": "stdout",
     "output_type": "stream",
     "text": [
      "After first RPUSH, list length: 1\n",
      "After second RPUSH, list length: 2\n"
     ]
    }
   ],
   "source": [
    "# Create a list with two elements\n",
    "result1 = r.rpush(\"bike:colors\", \"Blue\")\n",
    "print(f\"After first RPUSH, list length: {result1}\")\n",
    "\n",
    "result2 = r.rpush(\"bike:colors\", \"White\")\n",
    "print(f\"After second RPUSH, list length: {result2}\")"
   ]
  },
  {
   "cell_type": "markdown",
   "metadata": {},
   "source": [
    "Next, an element is added to the beginning of the list."
   ]
  },
  {
   "cell_type": "code",
   "execution_count": 5,
   "metadata": {},
   "outputs": [
    {
     "name": "stdout",
     "output_type": "stream",
     "text": [
      "After LPUSH, list length: 3\n",
      "Current list: [b'Red', b'Blue', b'White']\n"
     ]
    }
   ],
   "source": [
    "# Prepend a new element\n",
    "result = r.lpush(\"bike:colors\", \"Red\")\n",
    "print(f\"After LPUSH, list length: {result}\")\n",
    "print(f\"Current list: {r.lrange('bike:colors', 0, -1)}\")"
   ]
  },
  {
   "cell_type": "markdown",
   "metadata": {},
   "source": [
    "When creating a list, there's a shortcut to the above examples. Both `LPUSH` and `RPUSH` accept a variable number of arguments (variadic), so you can create the entire list with a single command. The number of added elements is returned."
   ]
  },
  {
   "cell_type": "code",
   "execution_count": 6,
   "metadata": {},
   "outputs": [
    {
     "name": "stdout",
     "output_type": "stream",
     "text": [
      "Number of elements added: 4\n",
      "Current list: [b'Red', b'Blue', b'White', b'Yellow']\n"
     ]
    }
   ],
   "source": [
    "# Add multiple elements\n",
    "r.delete(\"bike:colors\")\n",
    "result = r.rpush(\"bike:colors\", \"Red\", \"Blue\", \"White\", \"Yellow\")\n",
    "print(f\"Number of elements added: {result}\")\n",
    "print(f\"Current list: {r.lrange('bike:colors', 0, -1)}\")"
   ]
  },
  {
   "cell_type": "markdown",
   "metadata": {},
   "source": [
    "The `LRANGE` command returns a subset of a key's elements. You provide two arguments in addition to the key name:\n",
    "\n",
    "1. the index of the first element; note Redis lists use zero-based indexes\n",
    "2. the index of the last element\n",
    "\n",
    "For (2), a value of `-1` means the last element in the list; `-2` means the penultimate (second to last) element, and so on.\n",
    "\n",
    "To return the entire list use `LRANGE keyname 0 -1`."
   ]
  },
  {
   "cell_type": "code",
   "execution_count": 7,
   "metadata": {},
   "outputs": [
    {
     "name": "stdout",
     "output_type": "stream",
     "text": [
      "Entire list:\n"
     ]
    },
    {
     "data": {
      "text/html": [
       "<pre style=\"white-space:pre;overflow-x:auto;line-height:normal;font-family:Menlo,'DejaVu Sans Mono',consolas,'Courier New',monospace\"><span style=\"font-weight: bold\">[</span><span style=\"color: #008000; text-decoration-color: #008000\">b'Red'</span>, <span style=\"color: #008000; text-decoration-color: #008000\">b'Blue'</span>, <span style=\"color: #008000; text-decoration-color: #008000\">b'White'</span>, <span style=\"color: #008000; text-decoration-color: #008000\">b'Yellow'</span><span style=\"font-weight: bold\">]</span>\n",
       "</pre>\n"
      ],
      "text/plain": [
       "\u001b[1m[\u001b[0m\u001b[32mb'Red'\u001b[0m, \u001b[32mb'Blue'\u001b[0m, \u001b[32mb'White'\u001b[0m, \u001b[32mb'Yellow'\u001b[0m\u001b[1m]\u001b[0m\n"
      ]
     },
     "metadata": {},
     "output_type": "display_data"
    },
    {
     "name": "stdout",
     "output_type": "stream",
     "text": [
      "\n",
      "Elements at index 1 and 2:\n"
     ]
    },
    {
     "data": {
      "text/html": [
       "<pre style=\"white-space:pre;overflow-x:auto;line-height:normal;font-family:Menlo,'DejaVu Sans Mono',consolas,'Courier New',monospace\"><span style=\"font-weight: bold\">[</span><span style=\"color: #008000; text-decoration-color: #008000\">b'Blue'</span>, <span style=\"color: #008000; text-decoration-color: #008000\">b'White'</span><span style=\"font-weight: bold\">]</span>\n",
       "</pre>\n"
      ],
      "text/plain": [
       "\u001b[1m[\u001b[0m\u001b[32mb'Blue'\u001b[0m, \u001b[32mb'White'\u001b[0m\u001b[1m]\u001b[0m\n"
      ]
     },
     "metadata": {},
     "output_type": "display_data"
    },
    {
     "name": "stdout",
     "output_type": "stream",
     "text": [
      "\n",
      "Elements from index 1 to second-to-last:\n"
     ]
    },
    {
     "data": {
      "text/html": [
       "<pre style=\"white-space:pre;overflow-x:auto;line-height:normal;font-family:Menlo,'DejaVu Sans Mono',consolas,'Courier New',monospace\"><span style=\"font-weight: bold\">[</span><span style=\"color: #008000; text-decoration-color: #008000\">b'Blue'</span>, <span style=\"color: #008000; text-decoration-color: #008000\">b'White'</span><span style=\"font-weight: bold\">]</span>\n",
       "</pre>\n"
      ],
      "text/plain": [
       "\u001b[1m[\u001b[0m\u001b[32mb'Blue'\u001b[0m, \u001b[32mb'White'\u001b[0m\u001b[1m]\u001b[0m\n"
      ]
     },
     "metadata": {},
     "output_type": "display_data"
    }
   ],
   "source": [
    "# LRANGE usage\n",
    "print(\"Entire list:\")\n",
    "pprint(r.lrange(\"bike:colors\", 0, -1))\n",
    "\n",
    "print(\"\\nElements at index 1 and 2:\")\n",
    "pprint(r.lrange(\"bike:colors\", 1, 2))\n",
    "\n",
    "print(\"\\nElements from index 1 to second-to-last:\")\n",
    "pprint(r.lrange(\"bike:colors\", 1, -2))"
   ]
  },
  {
   "cell_type": "markdown",
   "metadata": {},
   "source": [
    "To retrieve the number of elements in a list, use the `LLEN` command."
   ]
  },
  {
   "cell_type": "code",
   "execution_count": 8,
   "metadata": {},
   "outputs": [
    {
     "name": "stdout",
     "output_type": "stream",
     "text": [
      "List length: 4\n"
     ]
    }
   ],
   "source": [
    "# LLEN usage\n",
    "length = r.llen(\"bike:colors\")\n",
    "print(f\"List length: {length}\")"
   ]
  },
  {
   "cell_type": "markdown",
   "metadata": {},
   "source": [
    "The `LPOP` and `RPOP` commands will remove and return one or more elements from the beginning or end of a list, respectively.\n",
    "\n",
    "In this next example, you will remove a single element from the beginning of the list, then a single element from the end of the list, and, finally, the remaining items using a `count` argument."
   ]
  },
  {
   "cell_type": "code",
   "execution_count": 10,
   "metadata": {},
   "outputs": [
    {
     "name": "stdout",
     "output_type": "stream",
     "text": [
      "Element popped from the beginning: None\n",
      "List after LPOP: []\n",
      "\n",
      "Element popped from the end: None\n",
      "List after RPOP: []\n",
      "\n",
      "Elements popped with count=2: None\n",
      "List after LPOP with count=2: []\n",
      "\n",
      "Does 'bike:colors' still exist? No\n"
     ]
    }
   ],
   "source": [
    "# LPOP/RPOP usage\n",
    "popped_element = r.lpop(\"bike:colors\")\n",
    "print(f\"Element popped from the beginning: {popped_element}\")\n",
    "print(f\"List after LPOP: {r.lrange('bike:colors', 0, -1)}\")\n",
    "\n",
    "popped_element = r.rpop(\"bike:colors\")\n",
    "print(f\"\\nElement popped from the end: {popped_element}\")\n",
    "print(f\"List after RPOP: {r.lrange('bike:colors', 0, -1)}\")\n",
    "\n",
    "# In Python redis client, you can pop multiple elements by providing count parameter\n",
    "popped_elements = r.lpop(\"bike:colors\", 2)\n",
    "print(f\"\\nElements popped with count=2: {popped_elements}\")\n",
    "print(f\"List after LPOP with count=2: {r.lrange('bike:colors', 0, -1)}\")\n",
    "\n",
    "# Check if key still exists\n",
    "existing_keys = r.keys(\"bike:colors\")\n",
    "print(f\"\\nDoes 'bike:colors' still exist? {'Yes' if existing_keys else 'No'}\")"
   ]
  },
  {
   "cell_type": "markdown",
   "metadata": {},
   "source": [
    "**Note**:\n",
    "> `LRANGE` will return an empty list if a key no longer exists."
   ]
  },
  {
   "cell_type": "markdown",
   "metadata": {},
   "source": [
    "### Resources\n",
    "\n",
    "- List type [reference page](https://redis.io/docs/data-types/list?utm_source=redisinsight&utm_medium=main&utm_campaign=tutorials).\n",
    "- Entire set of [Redis list commands](https://redis.io/commands/?group=list&utm_source=redisinsight&utm_medium=main&utm_campaign=tutorials).\n",
    "- Check out [Get started with Redis](https://university.redis.io/learningpath/14q8m6gilfwltm?utm_source=redisinsight&utm_medium=main&utm_campaign=tutorials) learning path on Redis University for an introduction to working with all core data structures in Redis."
   ]
  }
 ],
 "metadata": {
  "kernelspec": {
   "display_name": "Python 3 (ipykernel)",
   "language": "python",
   "name": "python3"
  },
  "language_info": {
   "codemirror_mode": {
    "name": "ipython",
    "version": 3
   },
   "file_extension": ".py",
   "mimetype": "text/x-python",
   "name": "python",
   "nbconvert_exporter": "python",
   "pygments_lexer": "ipython3",
   "version": "3.12.9"
  }
 },
 "nbformat": 4,
 "nbformat_minor": 4
}
