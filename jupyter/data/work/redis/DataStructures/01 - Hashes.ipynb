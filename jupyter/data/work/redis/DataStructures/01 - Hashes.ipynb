{
 "cells": [
  {
   "cell_type": "markdown",
   "metadata": {},
   "source": [
    "# Redis Hashes Tutorial"
   ]
  },
  {
   "cell_type": "markdown",
   "metadata": {},
   "source": [
    "## Setup"
   ]
  },
  {
   "cell_type": "code",
   "execution_count": 1,
   "metadata": {},
   "outputs": [],
   "source": [
    "%%capture\n",
    "%pip install redis rich tqdm "
   ]
  },
  {
   "cell_type": "code",
   "execution_count": 2,
   "metadata": {},
   "outputs": [],
   "source": [
    "import redis\n",
    "from rich.pretty import pprint"
   ]
  },
  {
   "cell_type": "code",
   "execution_count": 3,
   "metadata": {},
   "outputs": [],
   "source": [
    "# creating cluster\n",
    "# make sure jupyter server is connected to redis network\n",
    "# `docker network connect redis_default jupyter-jupyter-1`\n",
    "r = redis.RedisCluster(host='master', port=6379)"
   ]
  },
  {
   "cell_type": "markdown",
   "metadata": {},
   "source": [
    "## Redis Hashes\n",
    "\n",
    "Lists, sets, and sorted sets are great for many use cases, but the hash data type is on a higher level. Redis hashes are maps (sequences of field-value pairs) and are used to represent objects in Redis.\n",
    "\n",
    "Redis hashes are record types that are structured as name-value pairs. Consider the following example that shows how to create a hash key using the `HSET` command."
   ]
  },
  {
   "cell_type": "code",
   "execution_count": 4,
   "metadata": {},
   "outputs": [
    {
     "name": "stdout",
     "output_type": "stream",
     "text": [
      "Number of fields added: 4\n"
     ]
    }
   ],
   "source": [
    "# Create a hash\n",
    "num_fields_added = r.hset(\"bike:1\", \n",
    "                           mapping={\n",
    "                               \"model\": \"Deimos\",\n",
    "                               \"brand\": \"Ergonom\",\n",
    "                               \"type\": \"Enduro bikes\",\n",
    "                               \"price\": 4972\n",
    "                           })\n",
    "print(f\"Number of fields added: {num_fields_added}\")"
   ]
  },
  {
   "cell_type": "markdown",
   "metadata": {},
   "source": [
    "`HSET` returns the number of added name-value pairs.\n",
    "\n",
    "To retrieve the stored data, use the `HGETALL` command."
   ]
  },
  {
   "cell_type": "code",
   "execution_count": 5,
   "metadata": {},
   "outputs": [
    {
     "data": {
      "text/html": [
       "<pre style=\"white-space:pre;overflow-x:auto;line-height:normal;font-family:Menlo,'DejaVu Sans Mono',consolas,'Courier New',monospace\"><span style=\"font-weight: bold\">{</span><span style=\"color: #008000; text-decoration-color: #008000\">b'model'</span>: <span style=\"color: #008000; text-decoration-color: #008000\">b'Deimos'</span>, <span style=\"color: #008000; text-decoration-color: #008000\">b'brand'</span>: <span style=\"color: #008000; text-decoration-color: #008000\">b'Ergonom'</span>, <span style=\"color: #008000; text-decoration-color: #008000\">b'type'</span>: <span style=\"color: #008000; text-decoration-color: #008000\">b'Enduro bikes'</span>, <span style=\"color: #008000; text-decoration-color: #008000\">b'price'</span>: <span style=\"color: #008000; text-decoration-color: #008000\">b'4972'</span><span style=\"font-weight: bold\">}</span>\n",
       "</pre>\n"
      ],
      "text/plain": [
       "\u001b[1m{\u001b[0m\u001b[32mb'model'\u001b[0m: \u001b[32mb'Deimos'\u001b[0m, \u001b[32mb'brand'\u001b[0m: \u001b[32mb'Ergonom'\u001b[0m, \u001b[32mb'type'\u001b[0m: \u001b[32mb'Enduro bikes'\u001b[0m, \u001b[32mb'price'\u001b[0m: \u001b[32mb'4972'\u001b[0m\u001b[1m}\u001b[0m\n"
      ]
     },
     "metadata": {},
     "output_type": "display_data"
    }
   ],
   "source": [
    "# HGETALL usage\n",
    "# returns all the name-value pairs associated with the key\n",
    "all_fields = r.hgetall(\"bike:1\")\n",
    "pprint(all_fields)"
   ]
  },
  {
   "cell_type": "markdown",
   "metadata": {},
   "source": [
    "If you only want the values of a subset of the fields, use the `HGET` command."
   ]
  },
  {
   "cell_type": "code",
   "execution_count": 6,
   "metadata": {},
   "outputs": [
    {
     "name": "stdout",
     "output_type": "stream",
     "text": [
      "The price of the bike is: b'4972'\n"
     ]
    }
   ],
   "source": [
    "# HGET usage\n",
    "price = r.hget(\"bike:1\", \"price\")\n",
    "print(f\"The price of the bike is: {price}\")"
   ]
  },
  {
   "cell_type": "markdown",
   "metadata": {},
   "source": [
    "You can update fields in a hash using `HSET` by specifying a subset of its name-value pairs."
   ]
  },
  {
   "cell_type": "code",
   "execution_count": 9,
   "metadata": {},
   "outputs": [
    {
     "name": "stdout",
     "output_type": "stream",
     "text": [
      "Number of new fields: 0\n"
     ]
    },
    {
     "data": {
      "text/html": [
       "<pre style=\"white-space:pre;overflow-x:auto;line-height:normal;font-family:Menlo,'DejaVu Sans Mono',consolas,'Courier New',monospace\"><span style=\"font-weight: bold\">{</span><span style=\"color: #008000; text-decoration-color: #008000\">b'model'</span>: <span style=\"color: #008000; text-decoration-color: #008000\">b'Kraken'</span>, <span style=\"color: #008000; text-decoration-color: #008000\">b'brand'</span>: <span style=\"color: #008000; text-decoration-color: #008000\">b'Ergonom'</span>, <span style=\"color: #008000; text-decoration-color: #008000\">b'type'</span>: <span style=\"color: #008000; text-decoration-color: #008000\">b'Enduro bikes'</span>, <span style=\"color: #008000; text-decoration-color: #008000\">b'price'</span>: <span style=\"color: #008000; text-decoration-color: #008000\">b'3000'</span><span style=\"font-weight: bold\">}</span>\n",
       "</pre>\n"
      ],
      "text/plain": [
       "\u001b[1m{\u001b[0m\u001b[32mb'model'\u001b[0m: \u001b[32mb'Kraken'\u001b[0m, \u001b[32mb'brand'\u001b[0m: \u001b[32mb'Ergonom'\u001b[0m, \u001b[32mb'type'\u001b[0m: \u001b[32mb'Enduro bikes'\u001b[0m, \u001b[32mb'price'\u001b[0m: \u001b[32mb'3000'\u001b[0m\u001b[1m}\u001b[0m\n"
      ]
     },
     "metadata": {},
     "output_type": "display_data"
    }
   ],
   "source": [
    "# Update an existing hash\n",
    "num_created = r.hset(\"bike:1\", \n",
    "                      mapping={\n",
    "                          \"model\": \"Kraken\",\n",
    "                          \"price\": 3000\n",
    "                      })\n",
    "print(f\"Number of new fields: {num_created}\")\n",
    "\n",
    "# Let's check the updated hash\n",
    "updated_bike = r.hgetall(\"bike:1\")\n",
    "pprint(updated_bike)"
   ]
  },
  {
   "cell_type": "markdown",
   "metadata": {},
   "source": [
    "Use the `HDEL` command to delete one or more fields from a hash. Once all fields are removed, the hash key itself will be deleted."
   ]
  },
  {
   "cell_type": "code",
   "execution_count": 10,
   "metadata": {},
   "outputs": [
    {
     "name": "stdout",
     "output_type": "stream",
     "text": [
      "Number of fields deleted: 1\n",
      "Hash after deleting model field:\n"
     ]
    },
    {
     "data": {
      "text/html": [
       "<pre style=\"white-space:pre;overflow-x:auto;line-height:normal;font-family:Menlo,'DejaVu Sans Mono',consolas,'Courier New',monospace\"><span style=\"font-weight: bold\">{</span><span style=\"color: #008000; text-decoration-color: #008000\">b'brand'</span>: <span style=\"color: #008000; text-decoration-color: #008000\">b'Ergonom'</span>, <span style=\"color: #008000; text-decoration-color: #008000\">b'type'</span>: <span style=\"color: #008000; text-decoration-color: #008000\">b'Enduro bikes'</span>, <span style=\"color: #008000; text-decoration-color: #008000\">b'price'</span>: <span style=\"color: #008000; text-decoration-color: #008000\">b'3000'</span><span style=\"font-weight: bold\">}</span>\n",
       "</pre>\n"
      ],
      "text/plain": [
       "\u001b[1m{\u001b[0m\u001b[32mb'brand'\u001b[0m: \u001b[32mb'Ergonom'\u001b[0m, \u001b[32mb'type'\u001b[0m: \u001b[32mb'Enduro bikes'\u001b[0m, \u001b[32mb'price'\u001b[0m: \u001b[32mb'3000'\u001b[0m\u001b[1m}\u001b[0m\n"
      ]
     },
     "metadata": {},
     "output_type": "display_data"
    },
    {
     "name": "stdout",
     "output_type": "stream",
     "text": [
      "\n",
      "Number of fields deleted: 3\n",
      "Hash after deleting all fields:\n"
     ]
    },
    {
     "data": {
      "text/html": [
       "<pre style=\"white-space:pre;overflow-x:auto;line-height:normal;font-family:Menlo,'DejaVu Sans Mono',consolas,'Courier New',monospace\"><span style=\"font-weight: bold\">{}</span>\n",
       "</pre>\n"
      ],
      "text/plain": [
       "\u001b[1m{\u001b[0m\u001b[1m}\u001b[0m\n"
      ]
     },
     "metadata": {},
     "output_type": "display_data"
    },
    {
     "name": "stdout",
     "output_type": "stream",
     "text": [
      "\n",
      "Does key bike:1 still exist? 0\n"
     ]
    }
   ],
   "source": [
    "# Delete hash fields and keys\n",
    "deleted = r.hdel(\"bike:1\", \"model\")\n",
    "print(f\"Number of fields deleted: {deleted}\")\n",
    "print(\"Hash after deleting model field:\")\n",
    "pprint(r.hgetall(\"bike:1\"))\n",
    "\n",
    "# Delete remaining fields\n",
    "deleted = r.hdel(\"bike:1\", \"brand\", \"type\", \"price\")\n",
    "print(f\"\\nNumber of fields deleted: {deleted}\")\n",
    "print(\"Hash after deleting all fields:\")\n",
    "pprint(r.hgetall(\"bike:1\"))\n",
    "\n",
    "# Check if the key still exists\n",
    "exists = r.exists(\"bike:1\")\n",
    "print(f\"\\nDoes key bike:1 still exist? {exists}\")"
   ]
  },
  {
   "cell_type": "markdown",
   "metadata": {},
   "source": [
    "Integer values in hash keys can be incremented or decremented in the same way as simple string keys using the `HINCRBY` command.\n",
    "The increment value must be a positive or negative integer."
   ]
  },
  {
   "cell_type": "code",
   "execution_count": 11,
   "metadata": {},
   "outputs": [
    {
     "name": "stdout",
     "output_type": "stream",
     "text": [
      "Initial price: b'1000'\n",
      "Price after incrementing by 100: 1100\n",
      "Price after decrementing by 100: 1000\n"
     ]
    }
   ],
   "source": [
    "# First let's create a new hash with a price field\n",
    "r.hset(\"bike:1\", mapping={\"price\": 1000})\n",
    "print(f\"Initial price: {r.hget('bike:1', 'price')}\")\n",
    "\n",
    "# Hash INCRBY usage\n",
    "new_price = r.hincrby(\"bike:1\", \"price\", 100)\n",
    "print(f\"Price after incrementing by 100: {new_price}\")\n",
    "\n",
    "new_price = r.hincrby(\"bike:1\", \"price\", -100)\n",
    "print(f\"Price after decrementing by 100: {new_price}\")"
   ]
  },
  {
   "cell_type": "markdown",
   "metadata": {},
   "source": [
    "New in [Redis Community Edition version 7.4](https://hub.docker.com/layers/redis/redis-stack/7.4.0-v0/images/sha256-3e3c86603a81712d1311bc619ad124de15b2dca2b50722f23a4502b4d4054ba8) is the ability set the expiration time or the remaining time-to-live (TTL) for individual hash fields. This is called hash field expiration (HFE). HFE works just like [key expiration](https://redis.io/docs/latest/develop/use/keyspace/?utm_source=redisinsight&utm_medium=main&utm_campaign=tutorials#key-expiration) and includes the following commands:\n",
    "\n",
    "- `hexpire` - set an expiration (time-to-live or TTL) in seconds on a hash key's field(s).\n",
    "- `hexpireat` - set a TTL as an absolute Unix timestamp (seconds since Unix epoch) on a hash key's field(s).\n",
    "- `hexpiretime` - returns the absolute Unix timestamp (seconds since Unix epoch) at which the hash key's field(s) will expire.\n",
    "- `hpersist` - remove expirations from a hash key's field(s).\n",
    "- `hpexpire` - set an expiration (time-to-live or TTL) in milliseconds on a hash key's field(s).\n",
    "- `hpexpireat` - set a TTL as an absolute Unix timestamp (milliseconds since Unix epoch) on a hash key's field(s).\n",
    "- `hpexpiretime` - returns the absolute Unix timestamp (milliseconds since Unix epoch) at which the the hash key's field(s) will expire.\n",
    "- `hpttl` - returns the remaining TTL in milliseconds of a hash key's field(s).\n",
    "- `httl` - returns the remaining TTL in seconds of a hash key's field(s)."
   ]
  },
  {
   "cell_type": "markdown",
   "metadata": {},
   "source": [
    "**Note**: Hash Field Expiration (HFE) commands may not be available in all versions of the Python `redis` client. HFE features were introduced in Redis 7.4 and may require the use of custom commands via the `execute_command` method or an updated version of the client library. If the commands don't work directly, you can use the following approach."
   ]
  },
  {
   "cell_type": "code",
   "execution_count": 14,
   "metadata": {},
   "outputs": [
    {
     "name": "stdout",
     "output_type": "stream",
     "text": [
      "Hash created:\n"
     ]
    },
    {
     "data": {
      "text/html": [
       "<pre style=\"white-space:pre;overflow-x:auto;line-height:normal;font-family:Menlo,'DejaVu Sans Mono',consolas,'Courier New',monospace\"><span style=\"font-weight: bold\">{</span><span style=\"color: #008000; text-decoration-color: #008000\">b'field1'</span>: <span style=\"color: #008000; text-decoration-color: #008000\">b'foo'</span>, <span style=\"color: #008000; text-decoration-color: #008000\">b'field3'</span>: <span style=\"color: #008000; text-decoration-color: #008000\">b'baz'</span>, <span style=\"color: #008000; text-decoration-color: #008000\">b'field2'</span>: <span style=\"color: #008000; text-decoration-color: #008000\">b'bar'</span><span style=\"font-weight: bold\">}</span>\n",
       "</pre>\n"
      ],
      "text/plain": [
       "\u001b[1m{\u001b[0m\u001b[32mb'field1'\u001b[0m: \u001b[32mb'foo'\u001b[0m, \u001b[32mb'field3'\u001b[0m: \u001b[32mb'baz'\u001b[0m, \u001b[32mb'field2'\u001b[0m: \u001b[32mb'bar'\u001b[0m\u001b[1m}\u001b[0m\n"
      ]
     },
     "metadata": {},
     "output_type": "display_data"
    },
    {
     "name": "stdout",
     "output_type": "stream",
     "text": [
      "\n",
      "HEXPIRE result: [1]\n",
      "TTL of field2: [10] seconds\n"
     ]
    }
   ],
   "source": [
    "# HFE example 1\n",
    "# Create hash\n",
    "r.hset(\"hash\", mapping={\n",
    "    \"field1\": \"foo\",\n",
    "    \"field2\": \"bar\",\n",
    "    \"field3\": \"baz\"\n",
    "})\n",
    "print(\"Hash created:\")\n",
    "pprint(r.hgetall(\"hash\"))\n",
    "\n",
    "# Using execute_command for HEXPIRE\n",
    "try:\n",
    "    # Try with direct method \n",
    "    result = r.hexpire(\"hash\", 10,\"field2\")\n",
    "    print(f\"\\nHEXPIRE result: {result}\")\n",
    "    \n",
    "    # Check TTL \n",
    "    ttl = r.httl(\"hash\", \"field2\")\n",
    "    print(f\"TTL of field2: {ttl} seconds\")\n",
    "except Exception as e:\n",
    "    print(f\"\\nNote: HFE commands might not be supported in your Redis version: {e}\")"
   ]
  },
  {
   "cell_type": "code",
   "execution_count": 15,
   "metadata": {},
   "outputs": [
    {
     "name": "stdout",
     "output_type": "stream",
     "text": [
      "TTL of field2 after a few seconds: [-2] seconds\n",
      "\n",
      "Complete hash:\n"
     ]
    },
    {
     "data": {
      "text/html": [
       "<pre style=\"white-space:pre;overflow-x:auto;line-height:normal;font-family:Menlo,'DejaVu Sans Mono',consolas,'Courier New',monospace\"><span style=\"font-weight: bold\">{</span><span style=\"color: #008000; text-decoration-color: #008000\">b'field1'</span>: <span style=\"color: #008000; text-decoration-color: #008000\">b'foo'</span>, <span style=\"color: #008000; text-decoration-color: #008000\">b'field3'</span>: <span style=\"color: #008000; text-decoration-color: #008000\">b'baz'</span><span style=\"font-weight: bold\">}</span>\n",
       "</pre>\n"
      ],
      "text/plain": [
       "\u001b[1m{\u001b[0m\u001b[32mb'field1'\u001b[0m: \u001b[32mb'foo'\u001b[0m, \u001b[32mb'field3'\u001b[0m: \u001b[32mb'baz'\u001b[0m\u001b[1m}\u001b[0m\n"
      ]
     },
     "metadata": {},
     "output_type": "display_data"
    }
   ],
   "source": [
    "# HFE example 1 cont'd\n",
    "try:\n",
    "    # Check TTL after a few seconds\n",
    "    ttl = r.httl(\"hash\",\"field2\")\n",
    "    print(f\"TTL of field2 after a few seconds: {ttl} seconds\")\n",
    "    \n",
    "    # Check complete hash\n",
    "    print(\"\\nComplete hash:\")\n",
    "    pprint(r.hgetall(\"hash\"))\n",
    "except Exception as e:\n",
    "    print(f\"\\nNote: HFE commands might not be supported in your Redis version: {e}\")"
   ]
  },
  {
   "cell_type": "code",
   "execution_count": 16,
   "metadata": {},
   "outputs": [
    {
     "name": "stdout",
     "output_type": "stream",
     "text": [
      "Hash2 created:\n"
     ]
    },
    {
     "data": {
      "text/html": [
       "<pre style=\"white-space:pre;overflow-x:auto;line-height:normal;font-family:Menlo,'DejaVu Sans Mono',consolas,'Courier New',monospace\"><span style=\"font-weight: bold\">{</span><span style=\"color: #008000; text-decoration-color: #008000\">b'field1'</span>: <span style=\"color: #008000; text-decoration-color: #008000\">b'foo'</span>, <span style=\"color: #008000; text-decoration-color: #008000\">b'field2'</span>: <span style=\"color: #008000; text-decoration-color: #008000\">b'bar'</span>, <span style=\"color: #008000; text-decoration-color: #008000\">b'field3'</span>: <span style=\"color: #008000; text-decoration-color: #008000\">b'baz'</span><span style=\"font-weight: bold\">}</span>\n",
       "</pre>\n"
      ],
      "text/plain": [
       "\u001b[1m{\u001b[0m\u001b[32mb'field1'\u001b[0m: \u001b[32mb'foo'\u001b[0m, \u001b[32mb'field2'\u001b[0m: \u001b[32mb'bar'\u001b[0m, \u001b[32mb'field3'\u001b[0m: \u001b[32mb'baz'\u001b[0m\u001b[1m}\u001b[0m\n"
      ]
     },
     "metadata": {},
     "output_type": "display_data"
    },
    {
     "name": "stdout",
     "output_type": "stream",
     "text": [
      "\n",
      "HEXPIRE result for field1 and field3: [1, 1]\n",
      "TTL of field1 and field3: [10, 10] seconds\n",
      "\n",
      "HPERSIST result for field3: [1]\n",
      "Updated TTL of field1 and field3: [10, -1] seconds\n"
     ]
    }
   ],
   "source": [
    "# HFE example 2\n",
    "# Create a new hash for example 2\n",
    "r.hset(\"hash2\", mapping={\n",
    "    \"field1\": \"foo\",\n",
    "    \"field2\": \"bar\",\n",
    "    \"field3\": \"baz\"\n",
    "})\n",
    "print(\"Hash2 created:\")\n",
    "pprint(r.hgetall(\"hash2\"))\n",
    "\n",
    "try:\n",
    "    # Set expiration on field1 and field3\n",
    "    result = r.hexpire(\"hash2\", 10, \"field1\", \"field3\")\n",
    "    print(f\"\\nHEXPIRE result for field1 and field3: {result}\")\n",
    "    \n",
    "    # Check TTL\n",
    "    ttl = r.httl(\"hash2\",\"field1\", \"field3\")\n",
    "    print(f\"TTL of field1 and field3: {ttl} seconds\")\n",
    "    \n",
    "    # Remove expiration from field3\n",
    "    result = r.hpersist(\"hash2\", \"field3\")\n",
    "    print(f\"\\nHPERSIST result for field3: {result}\")\n",
    "    \n",
    "    # Check TTL again\n",
    "    ttl = r.httl( \"hash2\", \"field1\", \"field3\")\n",
    "    print(f\"Updated TTL of field1 and field3: {ttl} seconds\")\n",
    "except Exception as e:\n",
    "    print(f\"\\nNote: HFE commands might not be supported in your Redis version: {e}\")"
   ]
  },
  {
   "cell_type": "code",
   "execution_count": 17,
   "metadata": {},
   "outputs": [
    {
     "name": "stdout",
     "output_type": "stream",
     "text": [
      "\n",
      "Hash2 after TTL management:\n"
     ]
    },
    {
     "data": {
      "text/html": [
       "<pre style=\"white-space:pre;overflow-x:auto;line-height:normal;font-family:Menlo,'DejaVu Sans Mono',consolas,'Courier New',monospace\"><span style=\"font-weight: bold\">{</span><span style=\"color: #008000; text-decoration-color: #008000\">b'field2'</span>: <span style=\"color: #008000; text-decoration-color: #008000\">b'bar'</span>, <span style=\"color: #008000; text-decoration-color: #008000\">b'field3'</span>: <span style=\"color: #008000; text-decoration-color: #008000\">b'baz'</span><span style=\"font-weight: bold\">}</span>\n",
       "</pre>\n"
      ],
      "text/plain": [
       "\u001b[1m{\u001b[0m\u001b[32mb'field2'\u001b[0m: \u001b[32mb'bar'\u001b[0m, \u001b[32mb'field3'\u001b[0m: \u001b[32mb'baz'\u001b[0m\u001b[1m}\u001b[0m\n"
      ]
     },
     "metadata": {},
     "output_type": "display_data"
    }
   ],
   "source": [
    "# HFE example 2 cont'd\n",
    "try:\n",
    "    # Check the state of the hash after a few seconds\n",
    "    print(\"\\nHash2 after TTL management:\")\n",
    "    pprint(r.hgetall(\"hash2\"))\n",
    "except Exception as e:\n",
    "    print(f\"\\nNote: HFE commands might not be supported in your Redis version: {e}\")"
   ]
  },
  {
   "cell_type": "markdown",
   "metadata": {},
   "source": [
    "## Resources\n",
    "\n",
    "- Hash type [reference page](https://redis.io/docs/data-types/hashes?utm_source=redisinsight&utm_medium=main&utm_campaign=tutorials).\n",
    "- Entire set of [Redis hash commands](https://redis.io/commands/?group=hash?utm_source=redisinsight&utm_medium=main&utm_campaign=tutorials).\n",
    "- Check out [Get started with Redis](https://university.redis.io/learningpath/14q8m6gilfwltm?utm_source=redisinsight&utm_medium=main&utm_campaign=tutorials) learning path on Redis University for an introduction to working with all core data structures in Redis."
   ]
  }
 ],
 "metadata": {
  "kernelspec": {
   "display_name": "Python 3 (ipykernel)",
   "language": "python",
   "name": "python3"
  },
  "language_info": {
   "codemirror_mode": {
    "name": "ipython",
    "version": 3
   },
   "file_extension": ".py",
   "mimetype": "text/x-python",
   "name": "python",
   "nbconvert_exporter": "python",
   "pygments_lexer": "ipython3",
   "version": "3.12.9"
  }
 },
 "nbformat": 4,
 "nbformat_minor": 4
}
