{
 "cells": [
  {
   "cell_type": "markdown",
   "id": "1b560f53",
   "metadata": {},
   "source": [
    "# Redis JSON and Indexing Tutorial\n",
    "\n",
    "This notebook demonstrates how to work with JSON data in Redis and how to create effective indexing strategies to optimize queries."
   ]
  },
  {
   "cell_type": "markdown",
   "id": "1b190606",
   "metadata": {},
   "source": [
    "## Setup\n",
    "\n",
    "First, let's install the necessary packages and set up our Redis connection."
   ]
  },
  {
   "cell_type": "code",
   "execution_count": null,
   "id": "ffe0ea6d",
   "metadata": {},
   "outputs": [],
   "source": [
    "%%capture\n",
    "%pip install redis rich tqdm"
   ]
  },
  {
   "cell_type": "code",
   "execution_count": null,
   "id": "6a7e462f",
   "metadata": {},
   "outputs": [],
   "source": [
    "import redis\n",
    "from rich.pretty import pprint"
   ]
  },
  {
   "cell_type": "code",
   "execution_count": null,
   "id": "6f4a5375",
   "metadata": {},
   "outputs": [],
   "source": [
    "# Creating Redis cluster connection\n",
    "# Make sure Jupyter server is connected to Redis network\n",
    "# Run this in your terminal: `docker network connect redis_default jupyter-jupyter-1`\n",
    "r = redis.RedisCluster(host='master', port=6379)"
   ]
  },
  {
   "cell_type": "code",
   "execution_count": null,
   "id": "3dd6f9cf-47f8-4a32-945d-856c78218889",
   "metadata": {},
   "outputs": [],
   "source": [
    "# remove previous run keys\n",
    "_ = [r.delete(k) for k in r.scan_iter(\"sample_bicycle_index:type:*\")]\n",
    "_ = [r.delete(k) for k in r.scan_iter(\"sample_bicycle_index:brand:*\")]"
   ]
  },
  {
   "cell_type": "markdown",
   "id": "80b6606a",
   "metadata": {},
   "source": [
    "## Redis Commands Reference\n",
    "\n",
    "For a complete reference of Redis commands, see the [official Redis documentation](https://redis.io/docs/latest/commands/)."
   ]
  },
  {
   "cell_type": "markdown",
   "id": "d8c6e3d1",
   "metadata": {},
   "source": [
    "## Working with JSON Data in Redis\n",
    "\n",
    "Redis supports JSON data natively through the RedisJSON module. This allows us to store, retrieve, and manipulate JSON documents directly in Redis.\n",
    "\n",
    "### Retrieving JSON Data\n",
    "\n",
    "Let's start by retrieving a bicycle record from our sample data:"
   ]
  },
  {
   "cell_type": "code",
   "execution_count": null,
   "id": "bbeb3ed3",
   "metadata": {},
   "outputs": [],
   "source": [
    "# Retrieve a specific bicycle using JSON.GET command\n",
    "# The Python client method r.json().get() maps to JSON.GET in Redis\n",
    "bicycle = r.json().get(\"sample_bicycle:1001\")\n",
    "pprint(bicycle)"
   ]
  },
  {
   "cell_type": "markdown",
   "id": "359c8c7e",
   "metadata": {},
   "source": [
    "### Finding All Bicycle Keys\n",
    "\n",
    "We can use pattern matching to find all the bicycle keys in our database:"
   ]
  },
  {
   "cell_type": "code",
   "execution_count": null,
   "id": "4b5c1edc",
   "metadata": {},
   "outputs": [],
   "source": [
    "# Iterate over all bicycle keys using SCAN\n",
    "# The pattern \"sample_bicycle:*\" will match all keys that start with \"sample_bicycle:\"\n",
    "bicycle_keys = list(r.scan_iter(\"sample_bicycle:*\"))\n",
    "print(f\"Found {len(bicycle_keys)} bicycle records\")\n",
    "print(\"Sample keys:\")\n",
    "pprint(bicycle_keys[:5])"
   ]
  },
  {
   "cell_type": "markdown",
   "id": "5169b908",
   "metadata": {},
   "source": [
    "## Creating Indexes for Efficient Querying\n",
    "\n",
    "In Redis, we can create our own indexes for efficient querying. Let's create indexes for bicycle brands and types."
   ]
  },
  {
   "cell_type": "markdown",
   "id": "4a3e1d6b",
   "metadata": {},
   "source": [
    "### Building Brand and Type Sets\n",
    "\n",
    "We'll use Redis Sets to store unique brands and types, making it easy to find all distinct values:"
   ]
  },
  {
   "cell_type": "code",
   "execution_count": null,
   "id": "3a6718e1",
   "metadata": {},
   "outputs": [],
   "source": [
    "# Iterate over all bicycle records to extract brands and types\n",
    "# We'll use Redis Sets (SADD command) to store unique values\n",
    "for key in r.scan_iter(\"sample_bicycle:*\"):\n",
    "    bicycle = r.json().get(key)\n",
    "    # Use SADD to add values to sets - duplicates are automatically handled\n",
    "    r.sadd(\"sample_bicycle_index:brands\", bicycle[\"brand\"])\n",
    "    r.sadd(\"sample_bicycle_index:types\", bicycle[\"type\"])\n",
    "\n",
    "print(\"Indexing complete!\")"
   ]
  },
  {
   "cell_type": "markdown",
   "id": "55061564",
   "metadata": {},
   "source": [
    "### Retrieving Unique Bicycle Types\n",
    "\n",
    "Now we can easily get all unique bicycle types from our index:"
   ]
  },
  {
   "cell_type": "code",
   "execution_count": null,
   "id": "1bd66461",
   "metadata": {},
   "outputs": [],
   "source": [
    "# Get all unique bicycle types using SMEMBERS command\n",
    "types = r.smembers(\"sample_bicycle_index:types\")\n",
    "print(f\"Found {len(types)} unique bicycle types:\")\n",
    "pprint(types)"
   ]
  },
  {
   "cell_type": "markdown",
   "id": "4e638215",
   "metadata": {},
   "source": [
    "### Retrieving Unique Bicycle Brands\n",
    "\n",
    "For larger sets like brands, we use an iterative approach to avoid blocking the server:"
   ]
  },
  {
   "cell_type": "code",
   "execution_count": null,
   "id": "0d031b50",
   "metadata": {},
   "outputs": [],
   "source": [
    "# Get unique brands using SSCAN for better performance with large sets\n",
    "# The sscan_iter method provides a cursor-based iteration through the set\n",
    "brands = list(r.sscan_iter(\"sample_bicycle_index:brands\"))\n",
    "print(f\"Found {len(brands)} unique bicycle brands\")\n",
    "print(\"Sample of brands (first 20):\")\n",
    "pprint(brands[:20])"
   ]
  },
  {
   "cell_type": "markdown",
   "id": "39398015",
   "metadata": {},
   "source": [
    "## Creating Advanced Indexes for Query Optimization\n",
    "\n",
    "Now let's create more sophisticated indexes that will allow us to:\n",
    "1. Find all bicycles of a specific brand\n",
    "2. Find all bicycles of a specific type\n",
    "3. Count bicycles by brand and type"
   ]
  },
  {
   "cell_type": "code",
   "execution_count": null,
   "id": "6cf8354b",
   "metadata": {},
   "outputs": [],
   "source": [
    "# Reset existing counters\n",
    "r.delete(\"sample_bicycle_index:brand_count\")\n",
    "r.delete(\"sample_bicycle_index:type_count\")\n",
    "\n",
    "# Build comprehensive indexes for brands and types\n",
    "for key in r.scan_iter(\"sample_bicycle:*\"):\n",
    "    bicycle = r.json().get(key)\n",
    "    \n",
    "    # Create sets of bicycle keys for each brand and type\n",
    "    # This allows us to quickly look up all bicycles of a specific brand or type\n",
    "    r.sadd(\"sample_bicycle_index:brand:\" + bicycle[\"brand\"], key)\n",
    "    r.sadd(\"sample_bicycle_index:type:\" + bicycle[\"type\"], key)\n",
    "    \n",
    "    # Use Hash data structure (HINCRBY command) to count occurrences of each brand and type\n",
    "    # This gives us a quick way to get counts without having to retrieve the full sets\n",
    "    r.hincrby(\"sample_bicycle_index:brand_count\", bicycle[\"brand\"], 1)\n",
    "    r.hincrby(\"sample_bicycle_index:type_count\", bicycle[\"type\"], 1)\n",
    "\n",
    "print(\"Advanced indexing complete!\")"
   ]
  },
  {
   "cell_type": "markdown",
   "id": "50fdb946",
   "metadata": {},
   "source": [
    "### Finding Bicycles by Type\n",
    "\n",
    "Now we can efficiently find all bicycles of a specific type, such as \"Gravel\":"
   ]
  },
  {
   "cell_type": "code",
   "execution_count": null,
   "id": "4ac92a4a",
   "metadata": {},
   "outputs": [],
   "source": [
    "# Get all Gravel bicycles using our type index\n",
    "gravel_bikes = r.smembers(\"sample_bicycle_index:type:Gravel\")\n",
    "print(f\"Found {len(gravel_bikes)} Gravel bicycles\")\n",
    "print(\"Sample of Gravel bicycle keys:\")\n",
    "pprint(list(gravel_bikes)[:5])\n",
    "\n",
    "# Let's also get the first gravel bike's details\n",
    "if gravel_bikes:\n",
    "    first_gravel_bike = r.json().get(list(gravel_bikes)[0])\n",
    "    print(\"\\nDetails of a sample Gravel bicycle:\")\n",
    "    pprint(first_gravel_bike)"
   ]
  },
  {
   "cell_type": "markdown",
   "id": "9637f85a",
   "metadata": {},
   "source": [
    "### Complex Queries Using Set Operations\n",
    "\n",
    "One of Redis's powerful features is the ability to perform set operations for complex queries. Let's find all Kids bicycles made by the brand \"Tiny Trekkers\":"
   ]
  },
  {
   "cell_type": "code",
   "execution_count": null,
   "id": "d982f9b7",
   "metadata": {},
   "outputs": [],
   "source": [
    "# Find bicycles that are both Kids type AND Tiny Trekkers brand\n",
    "# We use the SINTER command to perform a set intersection\n",
    "try:\n",
    "    kids_tiny_trekkers = r.sinter([\"sample_bicycle_index:type:Kids\", \"sample_bicycle_index:brand:Tiny Trekkers\"])\n",
    "    print(f\"Found {len(kids_tiny_trekkers)} Kids bicycles made by Tiny Trekkers\")\n",
    "    print(\"Bicycle keys:\")\n",
    "    pprint(kids_tiny_trekkers)\n",
    "    \n",
    "    # If we found any matching bicycles, let's retrieve the details of the first one\n",
    "    if kids_tiny_trekkers:\n",
    "        first_bike = r.json().get(list(kids_tiny_trekkers)[0])\n",
    "        print(\"\\nDetails of a sample Kids Tiny Trekkers bicycle:\")\n",
    "        pprint(first_bike)\n",
    "except Exception as e:\n",
    "    print(\"Error performing set intersection:\", e)"
   ]
  },
  {
   "cell_type": "markdown",
   "id": "5a91a3c9-f8dc-49b6-90a4-2fc4000a673c",
   "metadata": {},
   "source": [
    "### Enforce Co-location\n",
    "\n",
    "In Redis, the keys involved in a set intersection operation must map to the same key slot, meaning they must reside within the same shard. In our example, we are referring to the keys `sample_bicycle_index:type:Kids` and `sample_bicycle_index:brand:Tiny Trekkers`. \n",
    "\n",
    "However, more generally, all keys of the form `sample_bicycle_index:brand:*` and `sample_bicycle_index:type:*` must be co-located.\n",
    "\n",
    "To ensure co-location, we will utilize the Redis tag function. This function allows us to group related keys together, ensuring that they are stored in the same shard. By doing so, we can efficiently perform operations such as set intersections without encountering issues related to key distribution across different shards.\n"
   ]
  },
  {
   "cell_type": "code",
   "execution_count": null,
   "id": "7e77fd86-f1b5-458c-829d-4beed12b4a0d",
   "metadata": {},
   "outputs": [],
   "source": [
    "# remove the previous keys\n",
    "[r.delete(k) for k in r.scan_iter(\"sample_bicycle_index:type:*\")]\n",
    "[r.delete(k) for k in r.scan_iter(\"sample_bicycle_index:brand:*\")]\n",
    "\n",
    "# Re-build comprehensive indexes for brands and types using {sample_bicycle_index} tag\n",
    "for key in r.scan_iter(\"sample_bicycle:*\"):\n",
    "    bicycle = r.json().get(key)\n",
    "    \n",
    "    # Create sets of bicycle keys for each brand and type\n",
    "    # This allows us to quickly look up all bicycles of a specific brand or type\n",
    "    r.sadd(\"{sample_bicycle_index}:brand:\" + bicycle[\"brand\"], key)\n",
    "    r.sadd(\"{sample_bicycle_index}:type:\" + bicycle[\"type\"], key)\n",
    "\n",
    "print(\"Advanced indexing complete!\")"
   ]
  },
  {
   "cell_type": "markdown",
   "id": "69b5bb27-1b9b-427d-99e1-12b4d657d0b4",
   "metadata": {},
   "source": [
    "### Perform the Complex Query Again\n",
    "\n",
    "Now that our sets are co-located, it is possible for the node managing them to access the sets directly and perform the intersection operation without requiring keys stored elsewhere. \n",
    "\n",
    "By leveraging the Redis tag function, we have ensured that all relevant keys, such as `{sample_bicycle_index}:type:Kids` and `{sample_bicycle_index}:brand:Tiny Trekkers`, are stored together. "
   ]
  },
  {
   "cell_type": "code",
   "execution_count": null,
   "id": "4227cf66-b36c-4948-a6dd-9cfd71f13616",
   "metadata": {},
   "outputs": [],
   "source": [
    "# Find bicycles that are both Kids type AND Tiny Trekkers brand using updated keys\n",
    "try:\n",
    "    kids_tiny_trekkers = r.sinter([\"{sample_bicycle_index}:type:Kids\", \"{sample_bicycle_index}:brand:Tiny Trekkers\"])\n",
    "    print(f\"Found {len(kids_tiny_trekkers)} Kids bicycles made by Tiny Trekkers\")\n",
    "    print(\"Bicycle keys:\")\n",
    "    pprint(kids_tiny_trekkers)\n",
    "    \n",
    "    # If we found any matching bicycles, let's retrieve the details of the first one\n",
    "    if kids_tiny_trekkers:\n",
    "        first_bike = r.json().get(list(kids_tiny_trekkers)[0])\n",
    "        print(\"\\nDetails of a sample Kids Tiny Trekkers bicycle:\")\n",
    "        pprint(first_bike)\n",
    "except Exception as e:\n",
    "    print(\"Error performing set intersection:\", e)"
   ]
  },
  {
   "cell_type": "markdown",
   "id": "9f17fcd5-f703-4032-adb8-42f71594f04c",
   "metadata": {},
   "source": [
    "### Co-location Considerations\n",
    "\n",
    "Indexes are relative hot keys; while they provide fast access, the need for co-locating them can lead to an increased load on the node that stores them. Caution must be exercised in this case because the primary goal of sharding is not only to spread keys uniformly across multiple working nodes but also to distribute the load effectively. Uniform key distribution is beneficial only if the load associated with each key is also uniform, which is often not the case for indexes.\n",
    "\n",
    "This problem can be addressed in two ways:\n",
    "\n",
    "1. **Rebalance The Shards**: We can identify the shard that is managing the hottest indexes and reduce the number of slots associated with that shard. These slots can then be distributed uniformly to the other shards in the cluster, alleviating the load on the overloaded shard.\n",
    "\n",
    "2. **Increasing Read Replicas**: Another option is to increase the number of replicas associated with the shard managing the indexes. Since indexes are primarily requested in read mode to find relevant keys, adding read replicas can help balance the load and improve read performance.\n",
    "\n",
    "By carefully considering these strategies, we can optimize the performance of our Redis setup while maintaining the benefits of co-location for efficient data access.\n"
   ]
  },
  {
   "cell_type": "markdown",
   "id": "a48364a3",
   "metadata": {},
   "source": [
    "## Bonus: Analyzing Bicycle Statistics\n",
    "\n",
    "Let's use our indexes to get some statistics about our bicycle inventory:"
   ]
  },
  {
   "cell_type": "code",
   "execution_count": null,
   "id": "4081f958",
   "metadata": {},
   "outputs": [],
   "source": [
    "# Get counts of bicycles by type\n",
    "type_counts = r.hgetall(\"sample_bicycle_index:type_count\")\n",
    "print(\"Bicycle counts by type:\")\n",
    "pprint({type_name.decode('utf-8'): int(count) for type_name, count in type_counts.items()})\n",
    "\n",
    "# Get top 5 bicycle brands by count\n",
    "brand_counts = r.hgetall(\"sample_bicycle_index:brand_count\")\n",
    "brand_count_dict = {brand.decode('utf-8'): int(count) for brand, count in brand_counts.items()}\n",
    "top_brands = sorted(brand_count_dict.items(), key=lambda x: x[1], reverse=True)[:5]\n",
    "\n",
    "print(\"\\nTop 5 bicycle brands:\")\n",
    "for brand, count in top_brands:\n",
    "    print(f\"{brand}: {count} bicycles\")"
   ]
  },
  {
   "cell_type": "markdown",
   "id": "8e9e1c54",
   "metadata": {},
   "source": [
    "## Conclusion\n",
    "\n",
    "In this tutorial, we've learned how to:\n",
    "1. Create efficient indexes using Redis Sets\n",
    "3. Perform complex queries using set operations\n",
    "4. Use Redis Hashes to store count statistics\n",
    "\n",
    "These techniques allow for high-performance data access patterns that can scale to millions of records while maintaining fast query response times.\n",
    "\n",
    "For more information on Redis commands and data structures, refer to the [official Redis documentation](https://redis.io/docs/latest/commands/)."
   ]
  }
 ],
 "metadata": {
  "kernelspec": {
   "display_name": "Python 3 (ipykernel)",
   "language": "python",
   "name": "python3"
  },
  "language_info": {
   "codemirror_mode": {
    "name": "ipython",
    "version": 3
   },
   "file_extension": ".py",
   "mimetype": "text/x-python",
   "name": "python",
   "nbconvert_exporter": "python",
   "pygments_lexer": "ipython3",
   "version": "3.12.9"
  }
 },
 "nbformat": 4,
 "nbformat_minor": 5
}
