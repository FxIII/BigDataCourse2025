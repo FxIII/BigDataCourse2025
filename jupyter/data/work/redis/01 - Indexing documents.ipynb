{
 "cells": [
  {
   "cell_type": "code",
   "execution_count": 2,
   "id": "38ff2a13-7cc2-4876-ace7-bddb5db327cb",
   "metadata": {},
   "outputs": [],
   "source": [
    "%%capture\n",
    "%pip install redis rich tqdm"
   ]
  },
  {
   "cell_type": "code",
   "execution_count": 3,
   "id": "03a7c9c1-5856-472f-8772-78bba3303ab9",
   "metadata": {},
   "outputs": [],
   "source": [
    "import redis\n",
    "from rich.pretty import pprint"
   ]
  },
  {
   "cell_type": "code",
   "execution_count": 4,
   "id": "19e3b597-3c7c-4e0d-b9b7-eeccfd6d0915",
   "metadata": {},
   "outputs": [],
   "source": [
    "# creating cluster\n",
    "# make sure jupyter server is connected to redis network\n",
    "# `docker network connect redis_default jupyter-jupyter-1`\n",
    "r = redis.RedisCluster(host='master', port=6379)"
   ]
  },
  {
   "cell_type": "markdown",
   "id": "cf1be7bd-aa83-4ddc-b74c-cbc020e27d90",
   "metadata": {},
   "source": [
    "[redis command docs](https://redis.io/docs/latest/commands/)"
   ]
  },
  {
   "cell_type": "code",
   "execution_count": 5,
   "id": "8f3584e0-6f2b-4292-bec1-73229817e9aa",
   "metadata": {},
   "outputs": [
    {
     "data": {
      "text/plain": [
       "{'model': 'Racer',\n",
       " 'brand': 'Speedster',\n",
       " 'price': 320,\n",
       " 'type': 'Road',\n",
       " 'specs': {'material': 'carbon fiber', 'weight': 8},\n",
       " 'description': 'The Racer is built for speed and performance on the road!',\n",
       " 'addons': ['water bottle holder', 'bike lock'],\n",
       " 'helmet_included': True,\n",
       " 'condition': 'new'}"
      ]
     },
     "execution_count": 5,
     "metadata": {},
     "output_type": "execute_result"
    }
   ],
   "source": [
    "# grab item from sample_bicycle \n",
    "r.json().get(\"sample_bicycle:1001\")"
   ]
  },
  {
   "cell_type": "code",
   "execution_count": 6,
   "id": "de99ea9f-fac5-400e-a2b7-fc6126b7e466",
   "metadata": {},
   "outputs": [
    {
     "data": {
      "text/plain": [
       "<generator object ClusterDataAccessCommands.scan_iter at 0xffff8bb08970>"
      ]
     },
     "execution_count": 6,
     "metadata": {},
     "output_type": "execute_result"
    }
   ],
   "source": [
    "# iterate over sample_bicycle keys \n",
    "r.scan_iter(\"sample_bicycle:*\")"
   ]
  },
  {
   "cell_type": "code",
   "execution_count": 11,
   "id": "d62be90c-8ce5-4a72-8cea-2870e39878fa",
   "metadata": {},
   "outputs": [],
   "source": [
    "# iterate oversample_bicycle keys fetch brands and types\n",
    "for key in r.scan_iter(\"sample_bicycle:*\"):\n",
    "    bicycle = r.json().get(key)\n",
    "    # use set add to store brands/types just once\n",
    "    r.sadd(\"sample_bicycle_index:brands\",bicycle[\"brand\"])\n",
    "    r.sadd(\"sample_bicycle_index:types\",bicycle[\"type\"])"
   ]
  },
  {
   "cell_type": "code",
   "execution_count": 12,
   "id": "53acf7de-7455-482d-b6a3-7aef4ca48312",
   "metadata": {},
   "outputs": [
    {
     "data": {
      "text/plain": [
       "{b'BMX',\n",
       " b'City',\n",
       " b'Electric',\n",
       " b'Fat',\n",
       " b'Gravel',\n",
       " b'Hybrid',\n",
       " b'Kids',\n",
       " b'Leisure',\n",
       " b'Mountain',\n",
       " b'Road',\n",
       " b'Touring'}"
      ]
     },
     "execution_count": 12,
     "metadata": {},
     "output_type": "execute_result"
    }
   ],
   "source": [
    "# get unique brands\n",
    "r.smembers(\"sample_bicycle_index:types\")"
   ]
  },
  {
   "cell_type": "code",
   "execution_count": 21,
   "id": "4315c255-df4f-4cb4-a977-2bee89de3663",
   "metadata": {},
   "outputs": [
    {
     "data": {
      "text/html": [
       "<pre style=\"white-space:pre;overflow-x:auto;line-height:normal;font-family:Menlo,'DejaVu Sans Mono',consolas,'Courier New',monospace\"><span style=\"font-weight: bold\">[</span>\n",
       "<span style=\"color: #7fbf7f; text-decoration-color: #7fbf7f\">│   </span><span style=\"color: #008000; text-decoration-color: #008000\">b'Cyclopedic'</span>,\n",
       "<span style=\"color: #7fbf7f; text-decoration-color: #7fbf7f\">│   </span><span style=\"color: #008000; text-decoration-color: #008000\">b'Tiny Trekkers'</span>,\n",
       "<span style=\"color: #7fbf7f; text-decoration-color: #7fbf7f\">│   </span><span style=\"color: #008000; text-decoration-color: #008000\">b'Speedy Sprint'</span>,\n",
       "<span style=\"color: #7fbf7f; text-decoration-color: #7fbf7f\">│   </span><span style=\"color: #008000; text-decoration-color: #008000\">b'Family Treasures'</span>,\n",
       "<span style=\"color: #7fbf7f; text-decoration-color: #7fbf7f\">│   </span><span style=\"color: #008000; text-decoration-color: #008000\">b'Adventure Kids'</span>,\n",
       "<span style=\"color: #7fbf7f; text-decoration-color: #7fbf7f\">│   </span><span style=\"color: #008000; text-decoration-color: #008000\">b'Extreme Trails'</span>,\n",
       "<span style=\"color: #7fbf7f; text-decoration-color: #7fbf7f\">│   </span><span style=\"color: #008000; text-decoration-color: #008000\">b'Urban Trek'</span>,\n",
       "<span style=\"color: #7fbf7f; text-decoration-color: #7fbf7f\">│   </span><span style=\"color: #008000; text-decoration-color: #008000\">b'Peak Riders'</span>,\n",
       "<span style=\"color: #7fbf7f; text-decoration-color: #7fbf7f\">│   </span><span style=\"color: #008000; text-decoration-color: #008000\">b'Urban Roam'</span>,\n",
       "<span style=\"color: #7fbf7f; text-decoration-color: #7fbf7f\">│   </span><span style=\"color: #008000; text-decoration-color: #008000\">b'Hand-Me-Down Bikes'</span>,\n",
       "<span style=\"color: #7fbf7f; text-decoration-color: #7fbf7f\">│   </span><span style=\"color: #008000; text-decoration-color: #008000\">b'SkyHigh'</span>,\n",
       "<span style=\"color: #7fbf7f; text-decoration-color: #7fbf7f\">│   </span><span style=\"color: #008000; text-decoration-color: #008000\">b'EcoRide'</span>,\n",
       "<span style=\"color: #7fbf7f; text-decoration-color: #7fbf7f\">│   </span><span style=\"color: #008000; text-decoration-color: #008000\">b'Nomad'</span>,\n",
       "<span style=\"color: #7fbf7f; text-decoration-color: #7fbf7f\">│   </span><span style=\"color: #008000; text-decoration-color: #008000\">b'Extreme'</span>,\n",
       "<span style=\"color: #7fbf7f; text-decoration-color: #7fbf7f\">│   </span><span style=\"color: #008000; text-decoration-color: #008000\">b'Pathfinder'</span>,\n",
       "<span style=\"color: #7fbf7f; text-decoration-color: #7fbf7f\">│   </span><span style=\"color: #008000; text-decoration-color: #008000\">b'Speedster'</span>,\n",
       "<span style=\"color: #7fbf7f; text-decoration-color: #7fbf7f\">│   </span><span style=\"color: #008000; text-decoration-color: #008000\">b'Terrain Tamer'</span>,\n",
       "<span style=\"color: #7fbf7f; text-decoration-color: #7fbf7f\">│   </span><span style=\"color: #008000; text-decoration-color: #008000\">b'Summit Seekers'</span>,\n",
       "<span style=\"color: #7fbf7f; text-decoration-color: #7fbf7f\">│   </span><span style=\"color: #008000; text-decoration-color: #008000\">b'City Commute'</span>,\n",
       "<span style=\"color: #7fbf7f; text-decoration-color: #7fbf7f\">│   </span><span style=\"color: #008000; text-decoration-color: #008000\">b'Summit Crushers'</span>\n",
       "<span style=\"font-weight: bold\">]</span>\n",
       "</pre>\n"
      ],
      "text/plain": [
       "\u001b[1m[\u001b[0m\n",
       "\u001b[2;32m│   \u001b[0m\u001b[32mb'Cyclopedic'\u001b[0m,\n",
       "\u001b[2;32m│   \u001b[0m\u001b[32mb'Tiny Trekkers'\u001b[0m,\n",
       "\u001b[2;32m│   \u001b[0m\u001b[32mb'Speedy Sprint'\u001b[0m,\n",
       "\u001b[2;32m│   \u001b[0m\u001b[32mb'Family Treasures'\u001b[0m,\n",
       "\u001b[2;32m│   \u001b[0m\u001b[32mb'Adventure Kids'\u001b[0m,\n",
       "\u001b[2;32m│   \u001b[0m\u001b[32mb'Extreme Trails'\u001b[0m,\n",
       "\u001b[2;32m│   \u001b[0m\u001b[32mb'Urban Trek'\u001b[0m,\n",
       "\u001b[2;32m│   \u001b[0m\u001b[32mb'Peak Riders'\u001b[0m,\n",
       "\u001b[2;32m│   \u001b[0m\u001b[32mb'Urban Roam'\u001b[0m,\n",
       "\u001b[2;32m│   \u001b[0m\u001b[32mb'Hand-Me-Down Bikes'\u001b[0m,\n",
       "\u001b[2;32m│   \u001b[0m\u001b[32mb'SkyHigh'\u001b[0m,\n",
       "\u001b[2;32m│   \u001b[0m\u001b[32mb'EcoRide'\u001b[0m,\n",
       "\u001b[2;32m│   \u001b[0m\u001b[32mb'Nomad'\u001b[0m,\n",
       "\u001b[2;32m│   \u001b[0m\u001b[32mb'Extreme'\u001b[0m,\n",
       "\u001b[2;32m│   \u001b[0m\u001b[32mb'Pathfinder'\u001b[0m,\n",
       "\u001b[2;32m│   \u001b[0m\u001b[32mb'Speedster'\u001b[0m,\n",
       "\u001b[2;32m│   \u001b[0m\u001b[32mb'Terrain Tamer'\u001b[0m,\n",
       "\u001b[2;32m│   \u001b[0m\u001b[32mb'Summit Seekers'\u001b[0m,\n",
       "\u001b[2;32m│   \u001b[0m\u001b[32mb'City Commute'\u001b[0m,\n",
       "\u001b[2;32m│   \u001b[0m\u001b[32mb'Summit Crushers'\u001b[0m\n",
       "\u001b[1m]\u001b[0m\n"
      ]
     },
     "metadata": {},
     "output_type": "display_data"
    }
   ],
   "source": [
    "# get unique brands \n",
    "# brands can be quite a few, we use iterative set scan to avoid blocking the server\n",
    "pprint(list(r.sscan_iter(\"sample_bicycle_index:brands\"))[:20])"
   ]
  },
  {
   "cell_type": "code",
   "execution_count": 55,
   "id": "7e2ff452-bf83-4506-90ff-bfdfccee5303",
   "metadata": {},
   "outputs": [],
   "source": [
    "# reset counter \n",
    "r.delete(\"sample_bicycle_index:brand_count\")\n",
    "r.delete(\"sample_bicycle_index:type_count\")\n",
    "\n",
    "# set brands and types indexes\n",
    "for key in r.scan_iter(\"sample_bicycle:*\"):\n",
    "    bicycle = r.json().get(key)\n",
    "    # use set add to store brands/types just once\n",
    "    r.sadd(\"sample_bicycle_index:brand:\" + bicycle[\"brand\"], key)\n",
    "    r.sadd(\"sample_bicycle_index:type:\" + bicycle[\"type\"], key)\n",
    "    \n",
    "    # increment multicounter\n",
    "    r.hincrby(\"sample_bicycle_index:brand_count\", bicycle[\"brand\"], 1)\n",
    "    r.hincrby(\"sample_bicycle_index:type_count\", bicycle[\"type\"], 1)"
   ]
  },
  {
   "cell_type": "code",
   "execution_count": 63,
   "id": "b508921f-59a2-4434-b134-e6ed28d11c86",
   "metadata": {},
   "outputs": [
    {
     "data": {
      "text/plain": [
       "{b'sample_bicycle:1006', b'sample_bicycle:1016', b'sample_bicycle:1032'}"
      ]
     },
     "execution_count": 63,
     "metadata": {},
     "output_type": "execute_result"
    }
   ],
   "source": [
    "# get Gravel bicycles\n",
    "r.smembers(\"sample_bicycle_index:type:Gravel\")"
   ]
  },
  {
   "cell_type": "code",
   "execution_count": 64,
   "id": "f26ad8b9-e622-4a16-9a1e-fc1c97e2afae",
   "metadata": {},
   "outputs": [
    {
     "name": "stdout",
     "output_type": "stream",
     "text": [
      "error SINTER - all keys must map to the same key slot\n"
     ]
    }
   ],
   "source": [
    "# bicycles type: Kids, brand: Tiny Trekkers?\n",
    "# use intersection ons type:Kids and brand:Tiny Trekkers\n",
    "try:\n",
    "    pprint(r.sinter([\"sample_bicycle_index:type:Kids\",\"sample_bicycle_index:brand:Tiny Trekkers\"]))\n",
    "except Exception as e:\n",
    "    print(\"error\",e)"
   ]
  }
 ],
 "metadata": {
  "kernelspec": {
   "display_name": "Python 3 (ipykernel)",
   "language": "python",
   "name": "python3"
  },
  "language_info": {
   "codemirror_mode": {
    "name": "ipython",
    "version": 3
   },
   "file_extension": ".py",
   "mimetype": "text/x-python",
   "name": "python",
   "nbconvert_exporter": "python",
   "pygments_lexer": "ipython3",
   "version": "3.12.9"
  }
 },
 "nbformat": 4,
 "nbformat_minor": 5
}
