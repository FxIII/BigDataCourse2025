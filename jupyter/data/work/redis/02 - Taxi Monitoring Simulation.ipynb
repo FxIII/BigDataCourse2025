{
 "cells": [
  {
   "cell_type": "markdown",
   "id": "f4001faa-3f1a-4931-b5b8-90bea2cd2bc9",
   "metadata": {},
   "source": [
    "# Taxi Monitoring Simulation\n",
    "\n",
    "## Overview\n",
    "\n",
    "This notebook demonstrates how to build a real-time taxi monitoring system using Redis as the backend database. We'll simulate the operation of thousands of taxis in New York City by processing actual trip data from January 2025.\n",
    "\n",
    "The simulation models taxi dispatching, pickup, and drop-off events to create a realistic representation of urban mobility patterns. Through this project, we'll explore:\n",
    "\n",
    "1. **Data Processing**: Loading and transforming NYC yellow taxi trip data\n",
    "2. **Event-Based Architecture**: Using Redis to track taxi statuses and locations in real-time\n",
    "3. **Driver Assignment**: Implementing algorithms to match available drivers with pickup requests\n",
    "4. **Performance Analysis**: Evaluating system throughput and identifying peak demand periods\n",
    "\n",
    "This project showcases practical applications of Redis data structures (sorted sets, hashes) for tracking real-time events in a high-volume transportation system. The techniques demonstrated here can be adapted for other real-time tracking applications such as food delivery, logistics, or ride-sharing services.\n",
    "\n",
    "Let's begin by setting up our environment and exploring the dataset."
   ]
  },
  {
   "cell_type": "markdown",
   "id": "390aa0e9-a9e5-4a34-b4b9-c26640d60f8d",
   "metadata": {},
   "source": [
    "## Setup"
   ]
  },
  {
   "cell_type": "code",
   "execution_count": null,
   "id": "04a4778a-cb89-4a79-addd-7f867eee5aff",
   "metadata": {},
   "outputs": [],
   "source": [
    "%%capture\n",
    "%pip install redis rich tqdm "
   ]
  },
  {
   "cell_type": "code",
   "execution_count": null,
   "id": "fec587a5-82c0-46bd-b658-c9ca2afedc1d",
   "metadata": {},
   "outputs": [],
   "source": [
    "import pandas as pd\n",
    "import redis\n",
    "from rich.pretty import pprint\n",
    "from random import random\n",
    "from tqdm import tqdm"
   ]
  },
  {
   "cell_type": "code",
   "execution_count": null,
   "id": "29e3df49-7a8a-4b50-a94b-45213b139a08",
   "metadata": {},
   "outputs": [],
   "source": [
    "# creating cluster\n",
    "# make sure jupyter server is connected to redis network\n",
    "# `docker network connect redis_default jupyter-jupyter-1`\n",
    "r = redis.RedisCluster(host='redis-master-1', port=6379)"
   ]
  },
  {
   "cell_type": "code",
   "execution_count": null,
   "id": "3d09936f-9ecb-410b-94f3-525f15135994",
   "metadata": {},
   "outputs": [],
   "source": [
    "# removing previous runs\n",
    "_=[r.delete(k) for k in r.scan_iter(\"nyc:*\")]"
   ]
  },
  {
   "cell_type": "markdown",
   "id": "a3c7d2ac-d534-4015-b07e-b4f69ace20f0",
   "metadata": {},
   "source": [
    "## Introduction to the Yellow Taxi Trip Data (January 2025)\n",
    "\n",
    "The dataset `yellow_tripdata_2025-01.parquet` contains detailed information about yellow taxi trips in New York City for the month of January 2025. This dataset is part of the larger collection of yellow taxi trip records maintained by the New York City Taxi and Limousine Commission (TLC), which provides valuable insights into the city's transportation patterns.\n",
    "\n",
    "### Dataset Contents\n",
    "\n",
    "The dataset includes various attributes for each taxi trip, such as:\n",
    "\n",
    "- **pickup_datetime**: The date and time when the passenger was picked up.\n",
    "- **dropoff_datetime**: The date and time when the passenger was dropped off.\n",
    "- **pickup_location_id**: A unique identifier for the location where the trip began.\n",
    "- **dropoff_location_id**: A unique identifier for the location where the trip ended.\n",
    "- **passenger_count**: The number of passengers in the taxi during the trip.\n",
    "- **trip_distance**: The total distance of the trip in miles.\n",
    "- **fare_amount**: The fare charged for the trip.\n",
    "- **tip_amount**: The amount of tip given by the passenger.\n",
    "- **total_amount**: The total amount charged for the trip, including fare, tip, and any additional fees.\n",
    "\n",
    "This dataset is instrumental for various analyses, including understanding traffic patterns, evaluating taxi service efficiency, and studying the economic aspects of taxi operations in New York City. By leveraging this data, researchers, policymakers, and businesses can gain insights into urban mobility and make informed decisions to enhance transportation services.\n",
    "\n",
    "### Download\n",
    "To download the `yellow_tripdata_2025-01.parquet` dataset, you can use the following commands in a jupyter terminal session: \n",
    "\n",
    "```bash\n",
    "mkdir -p ~/downloads\n",
    "cd ~/downloads\n",
    "wget https://d37ci6vzurychx.cloudfront.net/trip-data/yellow_tripdata_2025-01.parquet\n",
    "```\n"
   ]
  },
  {
   "cell_type": "markdown",
   "id": "ec3fb8b7-1272-4593-9a75-b66c955800ae",
   "metadata": {},
   "source": [
    "## Extracting Trip Data Events\n",
    "\n",
    "In this section, we will focus on extracting the pickup and drop-off events for each taxi trip record from the `yellow_tripdata_2025-01.parquet` dataset, specifically for the first five days of January 2025. \n",
    "\n",
    "By isolating these events, we aim to simulate a real-time system that tracks New York City taxi traffic.\n"
   ]
  },
  {
   "cell_type": "code",
   "execution_count": null,
   "id": "ac9e9abb-45b9-48d2-8cc2-759306024062",
   "metadata": {},
   "outputs": [],
   "source": [
    "df = pd.read_parquet(\"/home/jovyan/downloads/yellow_tripdata_2025-01.parquet\")"
   ]
  },
  {
   "cell_type": "code",
   "execution_count": null,
   "id": "0140fda8-3b1f-49dc-a42e-c28add2f07be",
   "metadata": {},
   "outputs": [],
   "source": [
    "items = df[[\"VendorID\",\"tpep_pickup_datetime\",\"tpep_dropoff_datetime\",\"PULocationID\",\"DOLocationID\"]]\n",
    "items = items[items.tpep_pickup_datetime < pd.Timestamp(\"2025-01-05\")]\n",
    "items"
   ]
  },
  {
   "cell_type": "markdown",
   "id": "e500fbb2-9647-4fcf-b3cf-702dac7ad32e",
   "metadata": {},
   "source": [
    "## Rules of the Taxi Management System\n",
    "\n",
    "This system simulates the management of taxis in New York using Redis to keep track of drivers and their locations. Each ride record can be viewed as two events: a departure and an arrival. Below are the main rules and logic implemented in the system:\n",
    "\n",
    "1. **Departure and Arrival Events**:\n",
    "   - Each record represents a departure event (when a passenger requests a taxi) and an arrival event (when the taxi arrives at the destination).\n",
    "\n",
    "2. **Managing Departures**:\n",
    "   - When a passenger requests a taxi, the system looks for an available driver in the pickup location. If no driver is found in the area, a new one is created, assuming they were already present in that location to allow the departure event to occur.\n",
    "   - Once the driver is selected, they begin heading towards the arrival zone. The time required for the trip is not specified, but the arrival event is recorded in an intermediate structure that keeps track of drivers in transit.\n",
    "\n",
    "3. **Managing Arrival Events**:\n",
    "   - When a record is processed, the system also handles all arrival events that occur before the departure event. This ensures that the system remains updated and that drivers who have already arrived at destinations are correctly recorded.\n",
    "\n",
    "4. **Assumption of Permanence**:\n",
    "   - It is assumed that a driver remains at the arrival location after completing a trip. This means that once they arrive at the destination, the driver is considered available for new requests in the new location.\n",
    "\n",
    "5. **Recording Arrivals**:\n",
    "   - When a driver arrives at a specific location, they are registered in the system. This allows for tracking available drivers based on their current location.\n",
    "\n",
    "6. **Assigning Drivers**:\n",
    "   - If a passenger requests a taxi and an available driver is found, that driver is removed from the list of available drivers and assigned to the ride."
   ]
  },
  {
   "cell_type": "code",
   "execution_count": null,
   "id": "7b95e55b-5f49-4e53-8916-8dac28442ce1",
   "metadata": {},
   "outputs": [],
   "source": [
    "def create_driver(vendor):\n",
    "    \"\"\"\n",
    "    Creates a new driver in the system.\n",
    "\n",
    "    This function increments the driver counter to generate a unique driver ID,\n",
    "    and stores the driver's information in Redis, associating the driver with the specified vendor.\n",
    "\n",
    "    Parameters:\n",
    "    vendor (int): The vendor ID associated with the driver.\n",
    "\n",
    "    Returns:\n",
    "    str: The key of the newly created driver in the format \"nyc:drivers:{driver_id}\".\n",
    "    \"\"\"\n",
    "    driver_id = r.incr(\"nyc:driver_counter\")\n",
    "    r.hset(f\"nyc:drivers:{driver_id}\",mapping={\"vendor\":int(vendor)})\n",
    "    return f\"nyc:drivers:{driver_id}\"\n",
    "\n",
    "def driver_arrived(vendor, driver, location):\n",
    "    \"\"\"\n",
    "    Records the arrival of a driver at a specific location.\n",
    "\n",
    "    This function adds the driver to a sorted set in Redis that keeps track of available drivers\n",
    "    at the specified location, using a random value to represent the driver's priority.\n",
    "\n",
    "    Parameters:\n",
    "    vendor (int): The vendor ID associated with the driver.\n",
    "    driver (str): The ID of the driver.\n",
    "    location (int): The location ID where the driver has arrived.\n",
    "    \"\"\"\n",
    "    r.zadd(f\"nyc:location:{location}-{vendor}\", {driver: random()})\n",
    "\n",
    "def find_driver(location,vendor):\n",
    "    \"\"\"\n",
    "    Finds an available driver in the specified location.\n",
    "\n",
    "    This function checks if there are any available drivers in the specified location for the given vendor.\n",
    "    If no driver is found, a new driver is created. If a driver is found, that driver is removed from the\n",
    "    list of available drivers.\n",
    "\n",
    "    Parameters:\n",
    "    location (int): The location ID where a driver is needed.\n",
    "    vendor (int): The vendor ID associated with the driver.\n",
    "\n",
    "    Returns:\n",
    "    str: The ID of the found or newly created driver.\n",
    "    \"\"\"\n",
    "    candidate = r.zrange(f\"nyc:location:{location}-{vendor}\", 0, 1)\n",
    "    if not candidate:\n",
    "        driver = create_driver(vendor)\n",
    "    else:\n",
    "        driver = candidate[0].decode()\n",
    "        r.zrem(f\"nyc:location:{location}-{vendor}\",driver)\n",
    "    return driver\n",
    "\n",
    "def send_driver(vendor,driver,where,when):\n",
    "    \"\"\"\n",
    "    Sends a driver to a specified destination.\n",
    "\n",
    "    This function adds the driver to a sorted set in Redis that keeps track of drivers currently in transit,\n",
    "    associating the driver with the vendor and the destination location, along with the timestamp of the event.\n",
    "\n",
    "    Parameters:\n",
    "    vendor (int): The vendor ID associated with the driver.\n",
    "    driver (str): The ID of the driver being sent.\n",
    "    where (int): The destination location ID.\n",
    "    when (datetime): The timestamp of when the driver is sent.\n",
    "    \"\"\"\n",
    "    r.zadd(f\"nyc:running\",{f\"{vendor}-{driver}-{where}\":when.timestamp()})\n",
    "\n",
    "def handle_finished_trips(time):\n",
    "    \"\"\"\n",
    "    Handles the completion of trips for drivers.\n",
    "\n",
    "    This function checks for drivers that have arrived at their destinations before the specified time,\n",
    "    removes them from the list of drivers in transit, and records their arrival at the respective locations.\n",
    "\n",
    "    Parameters:\n",
    "    time (datetime): The current time used to check for finished trips.\n",
    "    \"\"\"\n",
    "    arrived_drivers = r.zrangebyscore(\"nyc:running\",\"-inf\",record.tpep_pickup_datetime.timestamp())\n",
    "    for item in arrived_drivers:\n",
    "        r.zrem(\"nyc:running\", item)\n",
    "        vendor, driver, location = item.split(b\"-\")\n",
    "        driver = (driver).decode()\n",
    "        location = int(location)\n",
    "        vendor = int(vendor)\n",
    "        # print(\"driver\",driver ,\"arrived to location\",location)\n",
    "        driver_arrived(vendor, driver, location)"
   ]
  },
  {
   "cell_type": "markdown",
   "id": "9f499304-2f83-4d4d-80f2-45a1dd2396f7",
   "metadata": {},
   "source": [
    "## Running the Simulation\n",
    "\n",
    "In this phase, we will run a simulation of the taxi trip events that we have extracted. The events will be processed at full speed, without accounting for the actual delays that would occur between consecutive events. This approach allows us to evaluate the performance and efficiency of our system in handling a substantial volume of data.\n",
    "\n",
    "### Objectives of the Simulation\n",
    "\n",
    "- **Performance Testing**: By simulating the processing of five days' worth of taxi trip data, we can assess the time required for our system to handle this volume of information.\n",
    "- **System Capability Evaluation**: Since the simulation will complete in a fraction of the actual five days, we will be able to test the system's capability to manage taxi traffic in a large metropolis like New York City.\n",
    "- **Scalability Insights**: This simulation will provide insights into how well our system can scale and respond to real-time data influx, which is crucial for urban mobility solutions."
   ]
  },
  {
   "cell_type": "code",
   "execution_count": null,
   "id": "17c56cfb-172f-45fb-bd2f-38fa605e91b2",
   "metadata": {},
   "outputs": [],
   "source": [
    "for i, record in tqdm(items.iterrows(),total=len(items)):\n",
    "    # print (record.tpep_pickup_datetime)\n",
    "    handle_finished_trips(record.tpep_pickup_datetime)\n",
    "    \n",
    "    driver = find_driver(record.PULocationID,record.VendorID)\n",
    "    send_driver(record.VendorID,driver,record.DOLocationID,record.tpep_dropoff_datetime)\n",
    "    \n",
    "    # print(\"sending \",driver, \"to location\", record.DOLocationID)"
   ]
  },
  {
   "cell_type": "markdown",
   "id": "685d0ef7-b1df-4450-82d1-1a1bfba2c537",
   "metadata": {},
   "source": [
    "## Evaluating Pickup per Minute\n",
    "\n",
    "The rate of pickups per unit of time is not constant and can vary significantly throughout the day. In this section, we aim to evaluate the peak traffic periods for taxi pickups in New York City and compare these rates with the processing capacity of our system, which we estimated in the previous step.\n",
    "\n",
    "### Objectives\n",
    "\n",
    "- **Identify Peak Traffic Periods**: Analyze the pickup data to determine the minutes with the highest number of pickups.\n",
    "- **Compare with System Capacity**: Assess how the peak pickup rates align with the estimated processing capabilities of our system. This will help us understand if our system can handle the influx of data during peak times.\n"
   ]
  },
  {
   "cell_type": "code",
   "execution_count": null,
   "id": "cf808ee8-8e20-4c9a-bccd-82ff191b35c9",
   "metadata": {},
   "outputs": [],
   "source": [
    "_=(\n",
    "    items.tpep_pickup_datetime.rename(\"pickup time\")\n",
    "    .dt.to_period('min')\n",
    "    .value_counts().sort_index()\n",
    "    .to_frame().plot(title=\"Pickups Per minute\",figsize=(16,6)))"
   ]
  }
 ],
 "metadata": {
  "kernelspec": {
   "display_name": "Python 3 (ipykernel)",
   "language": "python",
   "name": "python3"
  },
  "language_info": {
   "codemirror_mode": {
    "name": "ipython",
    "version": 3
   },
   "file_extension": ".py",
   "mimetype": "text/x-python",
   "name": "python",
   "nbconvert_exporter": "python",
   "pygments_lexer": "ipython3",
   "version": "3.12.9"
  }
 },
 "nbformat": 4,
 "nbformat_minor": 5
}
