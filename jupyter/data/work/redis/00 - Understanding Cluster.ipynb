{
 "cells": [
  {
   "cell_type": "markdown",
   "id": "cccd96fb",
   "metadata": {},
   "source": [
    "# Redis Cluster Tutorial\n",
    "\n",
    "This notebook demonstrates how to work with Redis Cluster using Python. We'll explore key distribution, sharding, and failover mechanisms."
   ]
  },
  {
   "cell_type": "markdown",
   "id": "6efae9a3",
   "metadata": {},
   "source": [
    "## Setup\n",
    "\n",
    "First, let's install the required packages and establish a connection to our Redis Cluster."
   ]
  },
  {
   "cell_type": "code",
   "execution_count": null,
   "id": "7c78ef98",
   "metadata": {},
   "outputs": [],
   "source": [
    "%%capture\n",
    "%pip install redis rich tqdm"
   ]
  },
  {
   "cell_type": "code",
   "execution_count": null,
   "id": "5f1230d0",
   "metadata": {},
   "outputs": [],
   "source": [
    "import redis\n",
    "from rich.pretty import pprint"
   ]
  },
  {
   "cell_type": "code",
   "execution_count": null,
   "id": "c93624f6",
   "metadata": {},
   "outputs": [],
   "source": [
    "# Creating cluster connection\n",
    "# Note: Make sure your Jupyter server is connected to the Redis network\n",
    "# Run this command if needed: `docker network connect redis_default jupyter-jupyter-1`\n",
    "r = redis.RedisCluster(host='master', port=6379)\n",
    "print(\"Connected to Redis Cluster\")"
   ]
  },
  {
   "cell_type": "markdown",
   "id": "8016dea0",
   "metadata": {},
   "source": [
    "## Basic Redis Operations\n",
    "\n",
    "Let's start with some basic operations to store and retrieve data from our Redis Cluster."
   ]
  },
  {
   "cell_type": "code",
   "execution_count": null,
   "id": "bfb6acbd",
   "metadata": {},
   "outputs": [],
   "source": [
    "# Set two String keys\n",
    "result1 = r.set(\"foo\", \"bar\")\n",
    "result2 = r.set(\"hello\", \"world\")\n",
    "\n",
    "print(f\"Key 'foo' set successfully: {result1}\")\n",
    "print(f\"Key 'hello' set successfully: {result2}\")"
   ]
  },
  {
   "cell_type": "code",
   "execution_count": null,
   "id": "854b90ff",
   "metadata": {},
   "outputs": [],
   "source": [
    "# Retrieve keys\n",
    "foo_value = r.get(\"foo\")\n",
    "hello_value = r.get(\"hello\")\n",
    "\n",
    "print(f\"Key 'foo' value: {foo_value}\")\n",
    "print(f\"Key 'hello' value: {hello_value}\")"
   ]
  },
  {
   "cell_type": "markdown",
   "id": "83f10272",
   "metadata": {},
   "source": [
    "## Understanding Redis Cluster Sharding\n",
    "\n",
    "Redis Cluster distributes keys across different nodes using a hash slot mechanism. Each key is assigned to one of 16384 hash slots, and these slots are distributed among the cluster nodes.\n",
    "\n",
    "Let's examine which slots our keys are mapped to:"
   ]
  },
  {
   "cell_type": "code",
   "execution_count": null,
   "id": "199fc8b4",
   "metadata": {},
   "outputs": [],
   "source": [
    "# Retrieve keys' slots\n",
    "foo_slot = r.keyslot(\"foo\")\n",
    "hello_slot = r.keyslot(\"hello\")\n",
    "\n",
    "print(f\"Key 'foo' is mapped to slot: {foo_slot}\")\n",
    "print(f\"Key 'hello' is mapped to slot: {hello_slot}\")"
   ]
  },
  {
   "cell_type": "markdown",
   "id": "a507ce5f",
   "metadata": {},
   "source": [
    "Now, let's examine the cluster's sharding configuration to understand how the nodes are distributed:"
   ]
  },
  {
   "cell_type": "code",
   "execution_count": null,
   "id": "997ebe48",
   "metadata": {},
   "outputs": [],
   "source": [
    "# Get detailed cluster sharding information\n",
    "shards = r.cluster_shards()\n",
    "print(\"Complete cluster sharding configuration:\")\n",
    "pprint(shards)"
   ]
  },
  {
   "cell_type": "markdown",
   "id": "efda2eef",
   "metadata": {},
   "source": [
    "The output above shows the raw cluster sharding information, which can be quite verbose. Let's create a cleaner representation of the cluster nodes:"
   ]
  },
  {
   "cell_type": "code",
   "execution_count": null,
   "id": "9ed22561",
   "metadata": {},
   "outputs": [],
   "source": [
    "# Create a cleaner view of sharding information\n",
    "import socket\n",
    "\n",
    "def get_clean_nodes_list():\n",
    "    \"\"\"Return a clean list of nodes in the Redis Cluster\"\"\"\n",
    "    shards = r.cluster_shards()\n",
    "    nodes = []\n",
    "    \n",
    "    for shard in shards:\n",
    "        for node in shard[\"nodes\"]:\n",
    "            try:\n",
    "                # Try to resolve IP to hostname\n",
    "                hostname = socket.gethostbyaddr(node[b\"ip\"])[0]\n",
    "            except:\n",
    "                hostname = node[b\"ip\"]\n",
    "                \n",
    "            nodes.append({\n",
    "                \"node\": hostname,\n",
    "                \"role\": node[b\"role\"],\n",
    "                \"health\": node[b\"health\"],\n",
    "                \"replication-offset\": node[b'replication-offset'],\n",
    "                \"shards\": shard['slots']\n",
    "            })\n",
    "    return nodes\n",
    "\n",
    "nodes = get_clean_nodes_list()\n",
    "print(\"Cluster nodes and their assigned slots:\")\n",
    "pprint(nodes)"
   ]
  },
  {
   "cell_type": "markdown",
   "id": "31206acb",
   "metadata": {},
   "source": [
    "## Testing Redis Cluster Failover\n",
    "\n",
    "One of the main advantages of Redis Cluster is high availability through replication and automatic failover. \n",
    "\n",
    "Let's first check which node is responsible for our 'foo' key:"
   ]
  },
  {
   "cell_type": "code",
   "execution_count": null,
   "id": "17aa3bce",
   "metadata": {},
   "outputs": [],
   "source": [
    "# Check which slot the 'foo' key is mapped to\n",
    "foo_slot = r.keyslot(\"foo\")\n",
    "print(f\"Key 'foo' is mapped to slot: {foo_slot}\")\n",
    "\n",
    "# Find which node handles this slot\n",
    "for node in nodes:\n",
    "    for slot_range in node[\"shards\"]:\n",
    "        if slot_range[0] <= foo_slot <= slot_range[1]:\n",
    "            print(f\"Key 'foo' is handled by node: {node['node']} with role: {node['role']}\")"
   ]
  },
  {
   "cell_type": "markdown",
   "id": "af6fe8ed",
   "metadata": {},
   "source": [
    "### Simulating a Node Failure\n",
    "\n",
    "In a real environment, you can test failover by stopping a master node. When you do this, a replica should be automatically promoted to master.\n",
    "\n",
    "For example, if we determine that our 'foo' key is handled by redis-master-3, we could run:\n",
    "```bash\n",
    "docker stop redis-master-3\n",
    "```\n",
    "\n",
    "Let's see if we can still access our data after a simulated node failure:"
   ]
  },
  {
   "cell_type": "code",
   "execution_count": null,
   "id": "193b82a6",
   "metadata": {},
   "outputs": [],
   "source": [
    "# Try to get the value after the node handling this key might be down\n",
    "# If failover worked correctly, we should still get our value\n",
    "try:\n",
    "    value = r.get(\"foo\")\n",
    "    print(f\"Successfully retrieved 'foo' value: {value}\")\n",
    "except Exception as e:\n",
    "    print(f\"Error retrieving key: {e}\")"
   ]
  },
  {
   "cell_type": "markdown",
   "id": "c8fb08aa",
   "metadata": {},
   "source": [
    "## Examining Cluster State After Failover\n",
    "\n",
    "After a failover event, let's check the new cluster state to see the changes in node roles:"
   ]
  },
  {
   "cell_type": "code",
   "execution_count": null,
   "id": "0ef63538",
   "metadata": {},
   "outputs": [],
   "source": [
    "# Get updated cluster node information\n",
    "updated_nodes = get_clean_nodes_list()\n",
    "print(\"Updated cluster configuration after failover:\")\n",
    "pprint(updated_nodes)"
   ]
  },
  {
   "cell_type": "markdown",
   "id": "f8750d2f",
   "metadata": {},
   "source": [
    "## Conclusion\n",
    "\n",
    "In this tutorial, we've explored:\n",
    "\n",
    "1. Basic operations with Redis Cluster\n",
    "2. How Redis Cluster maps keys to slots\n",
    "3. How to examine the cluster's node and shard configuration\n",
    "4. Simulating and observing failover behavior\n",
    "\n",
    "Redis Cluster provides a robust solution for distributing data across multiple nodes while maintaining high availability through replication and automatic failover."
   ]
  },
  {
   "cell_type": "markdown",
   "id": "e4ff227a",
   "metadata": {},
   "source": [
    "## Further Resources\n",
    "\n",
    "- [Redis Cluster Specification](https://redis.io/topics/cluster-spec)\n",
    "- [Redis Cluster Tutorial](https://redis.io/topics/cluster-tutorial)\n",
    "- [Python redis-py Client](https://redis-py.readthedocs.io/en/stable/)"
   ]
  }
 ],
 "metadata": {
  "kernelspec": {
   "display_name": "Python 3 (ipykernel)",
   "language": "python",
   "name": "python3"
  },
  "language_info": {
   "codemirror_mode": {
    "name": "ipython",
    "version": 3
   },
   "file_extension": ".py",
   "mimetype": "text/x-python",
   "name": "python",
   "nbconvert_exporter": "python",
   "pygments_lexer": "ipython3",
   "version": "3.12.9"
  }
 },
 "nbformat": 4,
 "nbformat_minor": 5
}
