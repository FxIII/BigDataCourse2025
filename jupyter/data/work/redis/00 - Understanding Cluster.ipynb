{
 "cells": [
  {
   "cell_type": "code",
   "execution_count": 1,
   "id": "a166f8ff-411b-4c6c-98e0-876a807045b5",
   "metadata": {},
   "outputs": [],
   "source": [
    "%%capture\n",
    "%pip install redis rich tqdm"
   ]
  },
  {
   "cell_type": "code",
   "execution_count": 2,
   "id": "18d8db71-c18e-4bf5-a4e6-378fe001b6f6",
   "metadata": {},
   "outputs": [],
   "source": [
    "import redis\n",
    "from rich.pretty import pprint"
   ]
  },
  {
   "cell_type": "code",
   "execution_count": 3,
   "id": "792b57ba-9824-40a3-b61e-b6e814f3601f",
   "metadata": {},
   "outputs": [],
   "source": [
    "# creating cluster\n",
    "# make sure jupyter server is connected to redis network\n",
    "# `docker network connect redis_default jupyter-jupyter-1`\n",
    "r = redis.RedisCluster(host='master', port=6379)"
   ]
  },
  {
   "cell_type": "code",
   "execution_count": 4,
   "id": "4b386176-5f85-44ec-842c-ca351f972b3d",
   "metadata": {},
   "outputs": [
    {
     "data": {
      "text/plain": [
       "True"
      ]
     },
     "execution_count": 4,
     "metadata": {},
     "output_type": "execute_result"
    }
   ],
   "source": [
    "# set two String Keys\n",
    "r.set(\"foo\",\"bar\")\n",
    "r.set(\"hello\",\"world\")"
   ]
  },
  {
   "cell_type": "code",
   "execution_count": 5,
   "id": "3a5a15e7-4c5f-43f1-a6dd-87659f39fe7a",
   "metadata": {},
   "outputs": [
    {
     "name": "stdout",
     "output_type": "stream",
     "text": [
      "foo: b'bar' bar: b'world'\n"
     ]
    }
   ],
   "source": [
    "# retrieve keys\n",
    "print(\"foo:\",r.get(\"foo\"),\"bar:\",r.get(\"hello\"))"
   ]
  },
  {
   "cell_type": "code",
   "execution_count": 6,
   "id": "9eee7de1-dfb3-435f-9e1e-e28e459757ed",
   "metadata": {},
   "outputs": [
    {
     "name": "stdout",
     "output_type": "stream",
     "text": [
      "foo: 12182 bar: 866\n"
     ]
    }
   ],
   "source": [
    "# retrieve keys' slots\n",
    "print(\"foo:\",r.keyslot(\"foo\"),\"bar:\",r.keyslot(\"hello\"))"
   ]
  },
  {
   "cell_type": "code",
   "execution_count": 10,
   "id": "fcff94fa-a1b8-4b77-8e95-e87004318e39",
   "metadata": {},
   "outputs": [
    {
     "data": {
      "text/html": [
       "<pre style=\"white-space:pre;overflow-x:auto;line-height:normal;font-family:Menlo,'DejaVu Sans Mono',consolas,'Courier New',monospace\"><span style=\"font-weight: bold\">[</span>\n",
       "<span style=\"color: #7fbf7f; text-decoration-color: #7fbf7f\">│   </span><span style=\"font-weight: bold\">{</span>\n",
       "<span style=\"color: #7fbf7f; text-decoration-color: #7fbf7f\">│   │   </span><span style=\"color: #008000; text-decoration-color: #008000\">'slots'</span>: <span style=\"font-weight: bold\">[(</span><span style=\"color: #008080; text-decoration-color: #008080; font-weight: bold\">5461</span>, <span style=\"color: #008080; text-decoration-color: #008080; font-weight: bold\">10922</span><span style=\"font-weight: bold\">)]</span>,\n",
       "<span style=\"color: #7fbf7f; text-decoration-color: #7fbf7f\">│   │   </span><span style=\"color: #008000; text-decoration-color: #008000\">'nodes'</span>: <span style=\"font-weight: bold\">[</span>\n",
       "<span style=\"color: #7fbf7f; text-decoration-color: #7fbf7f\">│   │   │   </span><span style=\"font-weight: bold\">{</span>\n",
       "<span style=\"color: #7fbf7f; text-decoration-color: #7fbf7f\">│   │   │   │   </span><span style=\"color: #008000; text-decoration-color: #008000\">b'id'</span>: <span style=\"color: #008000; text-decoration-color: #008000\">b'05515c16bbac76cf253b0e70cd27ebdc09b79dd3'</span>,\n",
       "<span style=\"color: #7fbf7f; text-decoration-color: #7fbf7f\">│   │   │   │   </span><span style=\"color: #008000; text-decoration-color: #008000\">b'port'</span>: <span style=\"color: #008080; text-decoration-color: #008080; font-weight: bold\">6379</span>,\n",
       "<span style=\"color: #7fbf7f; text-decoration-color: #7fbf7f\">│   │   │   │   </span><span style=\"color: #008000; text-decoration-color: #008000\">b'ip'</span>: <span style=\"color: #008000; text-decoration-color: #008000\">b'192.168.224.8'</span>,\n",
       "<span style=\"color: #7fbf7f; text-decoration-color: #7fbf7f\">│   │   │   │   </span><span style=\"color: #008000; text-decoration-color: #008000\">b'endpoint'</span>: <span style=\"color: #008000; text-decoration-color: #008000\">b'192.168.224.8'</span>,\n",
       "<span style=\"color: #7fbf7f; text-decoration-color: #7fbf7f\">│   │   │   │   </span><span style=\"color: #008000; text-decoration-color: #008000\">b'role'</span>: <span style=\"color: #008000; text-decoration-color: #008000\">b'master'</span>,\n",
       "<span style=\"color: #7fbf7f; text-decoration-color: #7fbf7f\">│   │   │   │   </span><span style=\"color: #008000; text-decoration-color: #008000\">b'replication-offset'</span>: <span style=\"color: #008080; text-decoration-color: #008080; font-weight: bold\">28</span>,\n",
       "<span style=\"color: #7fbf7f; text-decoration-color: #7fbf7f\">│   │   │   │   </span><span style=\"color: #008000; text-decoration-color: #008000\">b'health'</span>: <span style=\"color: #008000; text-decoration-color: #008000\">b'online'</span>\n",
       "<span style=\"color: #7fbf7f; text-decoration-color: #7fbf7f\">│   │   │   </span><span style=\"font-weight: bold\">}</span>,\n",
       "<span style=\"color: #7fbf7f; text-decoration-color: #7fbf7f\">│   │   │   </span><span style=\"font-weight: bold\">{</span>\n",
       "<span style=\"color: #7fbf7f; text-decoration-color: #7fbf7f\">│   │   │   │   </span><span style=\"color: #008000; text-decoration-color: #008000\">b'id'</span>: <span style=\"color: #008000; text-decoration-color: #008000\">b'e91a6710eafb8e81108b6d5825a20d310d60fa59'</span>,\n",
       "<span style=\"color: #7fbf7f; text-decoration-color: #7fbf7f\">│   │   │   │   </span><span style=\"color: #008000; text-decoration-color: #008000\">b'port'</span>: <span style=\"color: #008080; text-decoration-color: #008080; font-weight: bold\">6379</span>,\n",
       "<span style=\"color: #7fbf7f; text-decoration-color: #7fbf7f\">│   │   │   │   </span><span style=\"color: #008000; text-decoration-color: #008000\">b'ip'</span>: <span style=\"color: #008000; text-decoration-color: #008000\">b'192.168.224.2'</span>,\n",
       "<span style=\"color: #7fbf7f; text-decoration-color: #7fbf7f\">│   │   │   │   </span><span style=\"color: #008000; text-decoration-color: #008000\">b'endpoint'</span>: <span style=\"color: #008000; text-decoration-color: #008000\">b'192.168.224.2'</span>,\n",
       "<span style=\"color: #7fbf7f; text-decoration-color: #7fbf7f\">│   │   │   │   </span><span style=\"color: #008000; text-decoration-color: #008000\">b'role'</span>: <span style=\"color: #008000; text-decoration-color: #008000\">b'replica'</span>,\n",
       "<span style=\"color: #7fbf7f; text-decoration-color: #7fbf7f\">│   │   │   │   </span><span style=\"color: #008000; text-decoration-color: #008000\">b'replication-offset'</span>: <span style=\"color: #008080; text-decoration-color: #008080; font-weight: bold\">28</span>,\n",
       "<span style=\"color: #7fbf7f; text-decoration-color: #7fbf7f\">│   │   │   │   </span><span style=\"color: #008000; text-decoration-color: #008000\">b'health'</span>: <span style=\"color: #008000; text-decoration-color: #008000\">b'online'</span>\n",
       "<span style=\"color: #7fbf7f; text-decoration-color: #7fbf7f\">│   │   │   </span><span style=\"font-weight: bold\">}</span>\n",
       "<span style=\"color: #7fbf7f; text-decoration-color: #7fbf7f\">│   │   </span><span style=\"font-weight: bold\">]</span>\n",
       "<span style=\"color: #7fbf7f; text-decoration-color: #7fbf7f\">│   </span><span style=\"font-weight: bold\">}</span>,\n",
       "<span style=\"color: #7fbf7f; text-decoration-color: #7fbf7f\">│   </span><span style=\"font-weight: bold\">{</span>\n",
       "<span style=\"color: #7fbf7f; text-decoration-color: #7fbf7f\">│   │   </span><span style=\"color: #008000; text-decoration-color: #008000\">'slots'</span>: <span style=\"font-weight: bold\">[(</span><span style=\"color: #008080; text-decoration-color: #008080; font-weight: bold\">10923</span>, <span style=\"color: #008080; text-decoration-color: #008080; font-weight: bold\">16383</span><span style=\"font-weight: bold\">)]</span>,\n",
       "<span style=\"color: #7fbf7f; text-decoration-color: #7fbf7f\">│   │   </span><span style=\"color: #008000; text-decoration-color: #008000\">'nodes'</span>: <span style=\"font-weight: bold\">[</span>\n",
       "<span style=\"color: #7fbf7f; text-decoration-color: #7fbf7f\">│   │   │   </span><span style=\"font-weight: bold\">{</span>\n",
       "<span style=\"color: #7fbf7f; text-decoration-color: #7fbf7f\">│   │   │   │   </span><span style=\"color: #008000; text-decoration-color: #008000\">b'id'</span>: <span style=\"color: #008000; text-decoration-color: #008000\">b'436fb0cbabe7f049e5c417908ed4778038ed1ef1'</span>,\n",
       "<span style=\"color: #7fbf7f; text-decoration-color: #7fbf7f\">│   │   │   │   </span><span style=\"color: #008000; text-decoration-color: #008000\">b'port'</span>: <span style=\"color: #008080; text-decoration-color: #008080; font-weight: bold\">6379</span>,\n",
       "<span style=\"color: #7fbf7f; text-decoration-color: #7fbf7f\">│   │   │   │   </span><span style=\"color: #008000; text-decoration-color: #008000\">b'ip'</span>: <span style=\"color: #008000; text-decoration-color: #008000\">b'192.168.224.4'</span>,\n",
       "<span style=\"color: #7fbf7f; text-decoration-color: #7fbf7f\">│   │   │   │   </span><span style=\"color: #008000; text-decoration-color: #008000\">b'endpoint'</span>: <span style=\"color: #008000; text-decoration-color: #008000\">b'192.168.224.4'</span>,\n",
       "<span style=\"color: #7fbf7f; text-decoration-color: #7fbf7f\">│   │   │   │   </span><span style=\"color: #008000; text-decoration-color: #008000\">b'role'</span>: <span style=\"color: #008000; text-decoration-color: #008000\">b'master'</span>,\n",
       "<span style=\"color: #7fbf7f; text-decoration-color: #7fbf7f\">│   │   │   │   </span><span style=\"color: #008000; text-decoration-color: #008000\">b'replication-offset'</span>: <span style=\"color: #008080; text-decoration-color: #008080; font-weight: bold\">29</span>,\n",
       "<span style=\"color: #7fbf7f; text-decoration-color: #7fbf7f\">│   │   │   │   </span><span style=\"color: #008000; text-decoration-color: #008000\">b'health'</span>: <span style=\"color: #008000; text-decoration-color: #008000\">b'online'</span>\n",
       "<span style=\"color: #7fbf7f; text-decoration-color: #7fbf7f\">│   │   │   </span><span style=\"font-weight: bold\">}</span>,\n",
       "<span style=\"color: #7fbf7f; text-decoration-color: #7fbf7f\">│   │   │   </span><span style=\"font-weight: bold\">{</span>\n",
       "<span style=\"color: #7fbf7f; text-decoration-color: #7fbf7f\">│   │   │   │   </span><span style=\"color: #008000; text-decoration-color: #008000\">b'id'</span>: <span style=\"color: #008000; text-decoration-color: #008000\">b'10943a0deae297563982a8b38cae4fc53a5f7ec7'</span>,\n",
       "<span style=\"color: #7fbf7f; text-decoration-color: #7fbf7f\">│   │   │   │   </span><span style=\"color: #008000; text-decoration-color: #008000\">b'port'</span>: <span style=\"color: #008080; text-decoration-color: #008080; font-weight: bold\">6379</span>,\n",
       "<span style=\"color: #7fbf7f; text-decoration-color: #7fbf7f\">│   │   │   │   </span><span style=\"color: #008000; text-decoration-color: #008000\">b'ip'</span>: <span style=\"color: #008000; text-decoration-color: #008000\">b'192.168.224.5'</span>,\n",
       "<span style=\"color: #7fbf7f; text-decoration-color: #7fbf7f\">│   │   │   │   </span><span style=\"color: #008000; text-decoration-color: #008000\">b'endpoint'</span>: <span style=\"color: #008000; text-decoration-color: #008000\">b'192.168.224.5'</span>,\n",
       "<span style=\"color: #7fbf7f; text-decoration-color: #7fbf7f\">│   │   │   │   </span><span style=\"color: #008000; text-decoration-color: #008000\">b'role'</span>: <span style=\"color: #008000; text-decoration-color: #008000\">b'replica'</span>,\n",
       "<span style=\"color: #7fbf7f; text-decoration-color: #7fbf7f\">│   │   │   │   </span><span style=\"color: #008000; text-decoration-color: #008000\">b'replication-offset'</span>: <span style=\"color: #008080; text-decoration-color: #008080; font-weight: bold\">29</span>,\n",
       "<span style=\"color: #7fbf7f; text-decoration-color: #7fbf7f\">│   │   │   │   </span><span style=\"color: #008000; text-decoration-color: #008000\">b'health'</span>: <span style=\"color: #008000; text-decoration-color: #008000\">b'online'</span>\n",
       "<span style=\"color: #7fbf7f; text-decoration-color: #7fbf7f\">│   │   │   </span><span style=\"font-weight: bold\">}</span>\n",
       "<span style=\"color: #7fbf7f; text-decoration-color: #7fbf7f\">│   │   </span><span style=\"font-weight: bold\">]</span>\n",
       "<span style=\"color: #7fbf7f; text-decoration-color: #7fbf7f\">│   </span><span style=\"font-weight: bold\">}</span>,\n",
       "<span style=\"color: #7fbf7f; text-decoration-color: #7fbf7f\">│   </span><span style=\"font-weight: bold\">{</span>\n",
       "<span style=\"color: #7fbf7f; text-decoration-color: #7fbf7f\">│   │   </span><span style=\"color: #008000; text-decoration-color: #008000\">'slots'</span>: <span style=\"font-weight: bold\">[(</span><span style=\"color: #008080; text-decoration-color: #008080; font-weight: bold\">0</span>, <span style=\"color: #008080; text-decoration-color: #008080; font-weight: bold\">5460</span><span style=\"font-weight: bold\">)]</span>,\n",
       "<span style=\"color: #7fbf7f; text-decoration-color: #7fbf7f\">│   │   </span><span style=\"color: #008000; text-decoration-color: #008000\">'nodes'</span>: <span style=\"font-weight: bold\">[</span>\n",
       "<span style=\"color: #7fbf7f; text-decoration-color: #7fbf7f\">│   │   │   </span><span style=\"font-weight: bold\">{</span>\n",
       "<span style=\"color: #7fbf7f; text-decoration-color: #7fbf7f\">│   │   │   │   </span><span style=\"color: #008000; text-decoration-color: #008000\">b'id'</span>: <span style=\"color: #008000; text-decoration-color: #008000\">b'766a01466170647ab9eeb117e5b01b58a598128b'</span>,\n",
       "<span style=\"color: #7fbf7f; text-decoration-color: #7fbf7f\">│   │   │   │   </span><span style=\"color: #008000; text-decoration-color: #008000\">b'port'</span>: <span style=\"color: #008080; text-decoration-color: #008080; font-weight: bold\">6379</span>,\n",
       "<span style=\"color: #7fbf7f; text-decoration-color: #7fbf7f\">│   │   │   │   </span><span style=\"color: #008000; text-decoration-color: #008000\">b'ip'</span>: <span style=\"color: #008000; text-decoration-color: #008000\">b'192.168.224.6'</span>,\n",
       "<span style=\"color: #7fbf7f; text-decoration-color: #7fbf7f\">│   │   │   │   </span><span style=\"color: #008000; text-decoration-color: #008000\">b'endpoint'</span>: <span style=\"color: #008000; text-decoration-color: #008000\">b'192.168.224.6'</span>,\n",
       "<span style=\"color: #7fbf7f; text-decoration-color: #7fbf7f\">│   │   │   │   </span><span style=\"color: #008000; text-decoration-color: #008000\">b'role'</span>: <span style=\"color: #008000; text-decoration-color: #008000\">b'master'</span>,\n",
       "<span style=\"color: #7fbf7f; text-decoration-color: #7fbf7f\">│   │   │   │   </span><span style=\"color: #008000; text-decoration-color: #008000\">b'replication-offset'</span>: <span style=\"color: #008080; text-decoration-color: #008080; font-weight: bold\">86</span>,\n",
       "<span style=\"color: #7fbf7f; text-decoration-color: #7fbf7f\">│   │   │   │   </span><span style=\"color: #008000; text-decoration-color: #008000\">b'health'</span>: <span style=\"color: #008000; text-decoration-color: #008000\">b'online'</span>\n",
       "<span style=\"color: #7fbf7f; text-decoration-color: #7fbf7f\">│   │   │   </span><span style=\"font-weight: bold\">}</span>,\n",
       "<span style=\"color: #7fbf7f; text-decoration-color: #7fbf7f\">│   │   │   </span><span style=\"font-weight: bold\">{</span>\n",
       "<span style=\"color: #7fbf7f; text-decoration-color: #7fbf7f\">│   │   │   │   </span><span style=\"color: #008000; text-decoration-color: #008000\">b'id'</span>: <span style=\"color: #008000; text-decoration-color: #008000\">b'6f0f229ec2ff3e2f1ed082703fdaaee15520ddcb'</span>,\n",
       "<span style=\"color: #7fbf7f; text-decoration-color: #7fbf7f\">│   │   │   │   </span><span style=\"color: #008000; text-decoration-color: #008000\">b'port'</span>: <span style=\"color: #008080; text-decoration-color: #008080; font-weight: bold\">6379</span>,\n",
       "<span style=\"color: #7fbf7f; text-decoration-color: #7fbf7f\">│   │   │   │   </span><span style=\"color: #008000; text-decoration-color: #008000\">b'ip'</span>: <span style=\"color: #008000; text-decoration-color: #008000\">b'192.168.224.7'</span>,\n",
       "<span style=\"color: #7fbf7f; text-decoration-color: #7fbf7f\">│   │   │   │   </span><span style=\"color: #008000; text-decoration-color: #008000\">b'endpoint'</span>: <span style=\"color: #008000; text-decoration-color: #008000\">b'192.168.224.7'</span>,\n",
       "<span style=\"color: #7fbf7f; text-decoration-color: #7fbf7f\">│   │   │   │   </span><span style=\"color: #008000; text-decoration-color: #008000\">b'role'</span>: <span style=\"color: #008000; text-decoration-color: #008000\">b'replica'</span>,\n",
       "<span style=\"color: #7fbf7f; text-decoration-color: #7fbf7f\">│   │   │   │   </span><span style=\"color: #008000; text-decoration-color: #008000\">b'replication-offset'</span>: <span style=\"color: #008080; text-decoration-color: #008080; font-weight: bold\">86</span>,\n",
       "<span style=\"color: #7fbf7f; text-decoration-color: #7fbf7f\">│   │   │   │   </span><span style=\"color: #008000; text-decoration-color: #008000\">b'health'</span>: <span style=\"color: #008000; text-decoration-color: #008000\">b'online'</span>\n",
       "<span style=\"color: #7fbf7f; text-decoration-color: #7fbf7f\">│   │   │   </span><span style=\"font-weight: bold\">}</span>\n",
       "<span style=\"color: #7fbf7f; text-decoration-color: #7fbf7f\">│   │   </span><span style=\"font-weight: bold\">]</span>\n",
       "<span style=\"color: #7fbf7f; text-decoration-color: #7fbf7f\">│   </span><span style=\"font-weight: bold\">}</span>\n",
       "<span style=\"font-weight: bold\">]</span>\n",
       "</pre>\n"
      ],
      "text/plain": [
       "\u001b[1m[\u001b[0m\n",
       "\u001b[2;32m│   \u001b[0m\u001b[1m{\u001b[0m\n",
       "\u001b[2;32m│   │   \u001b[0m\u001b[32m'slots'\u001b[0m: \u001b[1m[\u001b[0m\u001b[1m(\u001b[0m\u001b[1;36m5461\u001b[0m, \u001b[1;36m10922\u001b[0m\u001b[1m)\u001b[0m\u001b[1m]\u001b[0m,\n",
       "\u001b[2;32m│   │   \u001b[0m\u001b[32m'nodes'\u001b[0m: \u001b[1m[\u001b[0m\n",
       "\u001b[2;32m│   │   │   \u001b[0m\u001b[1m{\u001b[0m\n",
       "\u001b[2;32m│   │   │   │   \u001b[0m\u001b[32mb'id'\u001b[0m: \u001b[32mb'05515c16bbac76cf253b0e70cd27ebdc09b79dd3'\u001b[0m,\n",
       "\u001b[2;32m│   │   │   │   \u001b[0m\u001b[32mb'port'\u001b[0m: \u001b[1;36m6379\u001b[0m,\n",
       "\u001b[2;32m│   │   │   │   \u001b[0m\u001b[32mb'ip'\u001b[0m: \u001b[32mb'192.168.224.8'\u001b[0m,\n",
       "\u001b[2;32m│   │   │   │   \u001b[0m\u001b[32mb'endpoint'\u001b[0m: \u001b[32mb'192.168.224.8'\u001b[0m,\n",
       "\u001b[2;32m│   │   │   │   \u001b[0m\u001b[32mb'role'\u001b[0m: \u001b[32mb'master'\u001b[0m,\n",
       "\u001b[2;32m│   │   │   │   \u001b[0m\u001b[32mb'replication-offset'\u001b[0m: \u001b[1;36m28\u001b[0m,\n",
       "\u001b[2;32m│   │   │   │   \u001b[0m\u001b[32mb'health'\u001b[0m: \u001b[32mb'online'\u001b[0m\n",
       "\u001b[2;32m│   │   │   \u001b[0m\u001b[1m}\u001b[0m,\n",
       "\u001b[2;32m│   │   │   \u001b[0m\u001b[1m{\u001b[0m\n",
       "\u001b[2;32m│   │   │   │   \u001b[0m\u001b[32mb'id'\u001b[0m: \u001b[32mb'e91a6710eafb8e81108b6d5825a20d310d60fa59'\u001b[0m,\n",
       "\u001b[2;32m│   │   │   │   \u001b[0m\u001b[32mb'port'\u001b[0m: \u001b[1;36m6379\u001b[0m,\n",
       "\u001b[2;32m│   │   │   │   \u001b[0m\u001b[32mb'ip'\u001b[0m: \u001b[32mb'192.168.224.2'\u001b[0m,\n",
       "\u001b[2;32m│   │   │   │   \u001b[0m\u001b[32mb'endpoint'\u001b[0m: \u001b[32mb'192.168.224.2'\u001b[0m,\n",
       "\u001b[2;32m│   │   │   │   \u001b[0m\u001b[32mb'role'\u001b[0m: \u001b[32mb'replica'\u001b[0m,\n",
       "\u001b[2;32m│   │   │   │   \u001b[0m\u001b[32mb'replication-offset'\u001b[0m: \u001b[1;36m28\u001b[0m,\n",
       "\u001b[2;32m│   │   │   │   \u001b[0m\u001b[32mb'health'\u001b[0m: \u001b[32mb'online'\u001b[0m\n",
       "\u001b[2;32m│   │   │   \u001b[0m\u001b[1m}\u001b[0m\n",
       "\u001b[2;32m│   │   \u001b[0m\u001b[1m]\u001b[0m\n",
       "\u001b[2;32m│   \u001b[0m\u001b[1m}\u001b[0m,\n",
       "\u001b[2;32m│   \u001b[0m\u001b[1m{\u001b[0m\n",
       "\u001b[2;32m│   │   \u001b[0m\u001b[32m'slots'\u001b[0m: \u001b[1m[\u001b[0m\u001b[1m(\u001b[0m\u001b[1;36m10923\u001b[0m, \u001b[1;36m16383\u001b[0m\u001b[1m)\u001b[0m\u001b[1m]\u001b[0m,\n",
       "\u001b[2;32m│   │   \u001b[0m\u001b[32m'nodes'\u001b[0m: \u001b[1m[\u001b[0m\n",
       "\u001b[2;32m│   │   │   \u001b[0m\u001b[1m{\u001b[0m\n",
       "\u001b[2;32m│   │   │   │   \u001b[0m\u001b[32mb'id'\u001b[0m: \u001b[32mb'436fb0cbabe7f049e5c417908ed4778038ed1ef1'\u001b[0m,\n",
       "\u001b[2;32m│   │   │   │   \u001b[0m\u001b[32mb'port'\u001b[0m: \u001b[1;36m6379\u001b[0m,\n",
       "\u001b[2;32m│   │   │   │   \u001b[0m\u001b[32mb'ip'\u001b[0m: \u001b[32mb'192.168.224.4'\u001b[0m,\n",
       "\u001b[2;32m│   │   │   │   \u001b[0m\u001b[32mb'endpoint'\u001b[0m: \u001b[32mb'192.168.224.4'\u001b[0m,\n",
       "\u001b[2;32m│   │   │   │   \u001b[0m\u001b[32mb'role'\u001b[0m: \u001b[32mb'master'\u001b[0m,\n",
       "\u001b[2;32m│   │   │   │   \u001b[0m\u001b[32mb'replication-offset'\u001b[0m: \u001b[1;36m29\u001b[0m,\n",
       "\u001b[2;32m│   │   │   │   \u001b[0m\u001b[32mb'health'\u001b[0m: \u001b[32mb'online'\u001b[0m\n",
       "\u001b[2;32m│   │   │   \u001b[0m\u001b[1m}\u001b[0m,\n",
       "\u001b[2;32m│   │   │   \u001b[0m\u001b[1m{\u001b[0m\n",
       "\u001b[2;32m│   │   │   │   \u001b[0m\u001b[32mb'id'\u001b[0m: \u001b[32mb'10943a0deae297563982a8b38cae4fc53a5f7ec7'\u001b[0m,\n",
       "\u001b[2;32m│   │   │   │   \u001b[0m\u001b[32mb'port'\u001b[0m: \u001b[1;36m6379\u001b[0m,\n",
       "\u001b[2;32m│   │   │   │   \u001b[0m\u001b[32mb'ip'\u001b[0m: \u001b[32mb'192.168.224.5'\u001b[0m,\n",
       "\u001b[2;32m│   │   │   │   \u001b[0m\u001b[32mb'endpoint'\u001b[0m: \u001b[32mb'192.168.224.5'\u001b[0m,\n",
       "\u001b[2;32m│   │   │   │   \u001b[0m\u001b[32mb'role'\u001b[0m: \u001b[32mb'replica'\u001b[0m,\n",
       "\u001b[2;32m│   │   │   │   \u001b[0m\u001b[32mb'replication-offset'\u001b[0m: \u001b[1;36m29\u001b[0m,\n",
       "\u001b[2;32m│   │   │   │   \u001b[0m\u001b[32mb'health'\u001b[0m: \u001b[32mb'online'\u001b[0m\n",
       "\u001b[2;32m│   │   │   \u001b[0m\u001b[1m}\u001b[0m\n",
       "\u001b[2;32m│   │   \u001b[0m\u001b[1m]\u001b[0m\n",
       "\u001b[2;32m│   \u001b[0m\u001b[1m}\u001b[0m,\n",
       "\u001b[2;32m│   \u001b[0m\u001b[1m{\u001b[0m\n",
       "\u001b[2;32m│   │   \u001b[0m\u001b[32m'slots'\u001b[0m: \u001b[1m[\u001b[0m\u001b[1m(\u001b[0m\u001b[1;36m0\u001b[0m, \u001b[1;36m5460\u001b[0m\u001b[1m)\u001b[0m\u001b[1m]\u001b[0m,\n",
       "\u001b[2;32m│   │   \u001b[0m\u001b[32m'nodes'\u001b[0m: \u001b[1m[\u001b[0m\n",
       "\u001b[2;32m│   │   │   \u001b[0m\u001b[1m{\u001b[0m\n",
       "\u001b[2;32m│   │   │   │   \u001b[0m\u001b[32mb'id'\u001b[0m: \u001b[32mb'766a01466170647ab9eeb117e5b01b58a598128b'\u001b[0m,\n",
       "\u001b[2;32m│   │   │   │   \u001b[0m\u001b[32mb'port'\u001b[0m: \u001b[1;36m6379\u001b[0m,\n",
       "\u001b[2;32m│   │   │   │   \u001b[0m\u001b[32mb'ip'\u001b[0m: \u001b[32mb'192.168.224.6'\u001b[0m,\n",
       "\u001b[2;32m│   │   │   │   \u001b[0m\u001b[32mb'endpoint'\u001b[0m: \u001b[32mb'192.168.224.6'\u001b[0m,\n",
       "\u001b[2;32m│   │   │   │   \u001b[0m\u001b[32mb'role'\u001b[0m: \u001b[32mb'master'\u001b[0m,\n",
       "\u001b[2;32m│   │   │   │   \u001b[0m\u001b[32mb'replication-offset'\u001b[0m: \u001b[1;36m86\u001b[0m,\n",
       "\u001b[2;32m│   │   │   │   \u001b[0m\u001b[32mb'health'\u001b[0m: \u001b[32mb'online'\u001b[0m\n",
       "\u001b[2;32m│   │   │   \u001b[0m\u001b[1m}\u001b[0m,\n",
       "\u001b[2;32m│   │   │   \u001b[0m\u001b[1m{\u001b[0m\n",
       "\u001b[2;32m│   │   │   │   \u001b[0m\u001b[32mb'id'\u001b[0m: \u001b[32mb'6f0f229ec2ff3e2f1ed082703fdaaee15520ddcb'\u001b[0m,\n",
       "\u001b[2;32m│   │   │   │   \u001b[0m\u001b[32mb'port'\u001b[0m: \u001b[1;36m6379\u001b[0m,\n",
       "\u001b[2;32m│   │   │   │   \u001b[0m\u001b[32mb'ip'\u001b[0m: \u001b[32mb'192.168.224.7'\u001b[0m,\n",
       "\u001b[2;32m│   │   │   │   \u001b[0m\u001b[32mb'endpoint'\u001b[0m: \u001b[32mb'192.168.224.7'\u001b[0m,\n",
       "\u001b[2;32m│   │   │   │   \u001b[0m\u001b[32mb'role'\u001b[0m: \u001b[32mb'replica'\u001b[0m,\n",
       "\u001b[2;32m│   │   │   │   \u001b[0m\u001b[32mb'replication-offset'\u001b[0m: \u001b[1;36m86\u001b[0m,\n",
       "\u001b[2;32m│   │   │   │   \u001b[0m\u001b[32mb'health'\u001b[0m: \u001b[32mb'online'\u001b[0m\n",
       "\u001b[2;32m│   │   │   \u001b[0m\u001b[1m}\u001b[0m\n",
       "\u001b[2;32m│   │   \u001b[0m\u001b[1m]\u001b[0m\n",
       "\u001b[2;32m│   \u001b[0m\u001b[1m}\u001b[0m\n",
       "\u001b[1m]\u001b[0m\n"
      ]
     },
     "metadata": {},
     "output_type": "display_data"
    }
   ],
   "source": [
    "# get cluster sharding\n",
    "pprint(r.cluster_shards())"
   ]
  },
  {
   "cell_type": "code",
   "execution_count": 11,
   "id": "8efbcac7-d005-4801-9502-323ef8f6026b",
   "metadata": {},
   "outputs": [
    {
     "data": {
      "text/html": [
       "<pre style=\"white-space:pre;overflow-x:auto;line-height:normal;font-family:Menlo,'DejaVu Sans Mono',consolas,'Courier New',monospace\"><span style=\"font-weight: bold\">[</span>\n",
       "<span style=\"color: #7fbf7f; text-decoration-color: #7fbf7f\">│   </span><span style=\"font-weight: bold\">{</span>\n",
       "<span style=\"color: #7fbf7f; text-decoration-color: #7fbf7f\">│   │   </span><span style=\"color: #008000; text-decoration-color: #008000\">'node'</span>: <span style=\"color: #008000; text-decoration-color: #008000\">'redis-master-2.redis_default'</span>,\n",
       "<span style=\"color: #7fbf7f; text-decoration-color: #7fbf7f\">│   │   </span><span style=\"color: #008000; text-decoration-color: #008000\">'role'</span>: <span style=\"color: #008000; text-decoration-color: #008000\">b'master'</span>,\n",
       "<span style=\"color: #7fbf7f; text-decoration-color: #7fbf7f\">│   │   </span><span style=\"color: #008000; text-decoration-color: #008000\">'health'</span>: <span style=\"color: #008000; text-decoration-color: #008000\">b'online'</span>,\n",
       "<span style=\"color: #7fbf7f; text-decoration-color: #7fbf7f\">│   │   </span><span style=\"color: #008000; text-decoration-color: #008000\">'replication-offset'</span>: <span style=\"color: #008080; text-decoration-color: #008080; font-weight: bold\">28</span>,\n",
       "<span style=\"color: #7fbf7f; text-decoration-color: #7fbf7f\">│   │   </span><span style=\"color: #008000; text-decoration-color: #008000\">'shards'</span>: <span style=\"font-weight: bold\">[(</span><span style=\"color: #008080; text-decoration-color: #008080; font-weight: bold\">5461</span>, <span style=\"color: #008080; text-decoration-color: #008080; font-weight: bold\">10922</span><span style=\"font-weight: bold\">)]</span>\n",
       "<span style=\"color: #7fbf7f; text-decoration-color: #7fbf7f\">│   </span><span style=\"font-weight: bold\">}</span>,\n",
       "<span style=\"color: #7fbf7f; text-decoration-color: #7fbf7f\">│   </span><span style=\"font-weight: bold\">{</span>\n",
       "<span style=\"color: #7fbf7f; text-decoration-color: #7fbf7f\">│   │   </span><span style=\"color: #008000; text-decoration-color: #008000\">'node'</span>: <span style=\"color: #008000; text-decoration-color: #008000\">'redis-replica-2.redis_default'</span>,\n",
       "<span style=\"color: #7fbf7f; text-decoration-color: #7fbf7f\">│   │   </span><span style=\"color: #008000; text-decoration-color: #008000\">'role'</span>: <span style=\"color: #008000; text-decoration-color: #008000\">b'replica'</span>,\n",
       "<span style=\"color: #7fbf7f; text-decoration-color: #7fbf7f\">│   │   </span><span style=\"color: #008000; text-decoration-color: #008000\">'health'</span>: <span style=\"color: #008000; text-decoration-color: #008000\">b'online'</span>,\n",
       "<span style=\"color: #7fbf7f; text-decoration-color: #7fbf7f\">│   │   </span><span style=\"color: #008000; text-decoration-color: #008000\">'replication-offset'</span>: <span style=\"color: #008080; text-decoration-color: #008080; font-weight: bold\">28</span>,\n",
       "<span style=\"color: #7fbf7f; text-decoration-color: #7fbf7f\">│   │   </span><span style=\"color: #008000; text-decoration-color: #008000\">'shards'</span>: <span style=\"font-weight: bold\">[(</span><span style=\"color: #008080; text-decoration-color: #008080; font-weight: bold\">5461</span>, <span style=\"color: #008080; text-decoration-color: #008080; font-weight: bold\">10922</span><span style=\"font-weight: bold\">)]</span>\n",
       "<span style=\"color: #7fbf7f; text-decoration-color: #7fbf7f\">│   </span><span style=\"font-weight: bold\">}</span>,\n",
       "<span style=\"color: #7fbf7f; text-decoration-color: #7fbf7f\">│   </span><span style=\"font-weight: bold\">{</span>\n",
       "<span style=\"color: #7fbf7f; text-decoration-color: #7fbf7f\">│   │   </span><span style=\"color: #008000; text-decoration-color: #008000\">'node'</span>: <span style=\"color: #008000; text-decoration-color: #008000\">'redis-master-3.redis_default'</span>,\n",
       "<span style=\"color: #7fbf7f; text-decoration-color: #7fbf7f\">│   │   </span><span style=\"color: #008000; text-decoration-color: #008000\">'role'</span>: <span style=\"color: #008000; text-decoration-color: #008000\">b'master'</span>,\n",
       "<span style=\"color: #7fbf7f; text-decoration-color: #7fbf7f\">│   │   </span><span style=\"color: #008000; text-decoration-color: #008000\">'health'</span>: <span style=\"color: #008000; text-decoration-color: #008000\">b'online'</span>,\n",
       "<span style=\"color: #7fbf7f; text-decoration-color: #7fbf7f\">│   │   </span><span style=\"color: #008000; text-decoration-color: #008000\">'replication-offset'</span>: <span style=\"color: #008080; text-decoration-color: #008080; font-weight: bold\">29</span>,\n",
       "<span style=\"color: #7fbf7f; text-decoration-color: #7fbf7f\">│   │   </span><span style=\"color: #008000; text-decoration-color: #008000\">'shards'</span>: <span style=\"font-weight: bold\">[(</span><span style=\"color: #008080; text-decoration-color: #008080; font-weight: bold\">10923</span>, <span style=\"color: #008080; text-decoration-color: #008080; font-weight: bold\">16383</span><span style=\"font-weight: bold\">)]</span>\n",
       "<span style=\"color: #7fbf7f; text-decoration-color: #7fbf7f\">│   </span><span style=\"font-weight: bold\">}</span>,\n",
       "<span style=\"color: #7fbf7f; text-decoration-color: #7fbf7f\">│   </span><span style=\"font-weight: bold\">{</span>\n",
       "<span style=\"color: #7fbf7f; text-decoration-color: #7fbf7f\">│   │   </span><span style=\"color: #008000; text-decoration-color: #008000\">'node'</span>: <span style=\"color: #008000; text-decoration-color: #008000\">'redis-replica-3.redis_default'</span>,\n",
       "<span style=\"color: #7fbf7f; text-decoration-color: #7fbf7f\">│   │   </span><span style=\"color: #008000; text-decoration-color: #008000\">'role'</span>: <span style=\"color: #008000; text-decoration-color: #008000\">b'replica'</span>,\n",
       "<span style=\"color: #7fbf7f; text-decoration-color: #7fbf7f\">│   │   </span><span style=\"color: #008000; text-decoration-color: #008000\">'health'</span>: <span style=\"color: #008000; text-decoration-color: #008000\">b'online'</span>,\n",
       "<span style=\"color: #7fbf7f; text-decoration-color: #7fbf7f\">│   │   </span><span style=\"color: #008000; text-decoration-color: #008000\">'replication-offset'</span>: <span style=\"color: #008080; text-decoration-color: #008080; font-weight: bold\">29</span>,\n",
       "<span style=\"color: #7fbf7f; text-decoration-color: #7fbf7f\">│   │   </span><span style=\"color: #008000; text-decoration-color: #008000\">'shards'</span>: <span style=\"font-weight: bold\">[(</span><span style=\"color: #008080; text-decoration-color: #008080; font-weight: bold\">10923</span>, <span style=\"color: #008080; text-decoration-color: #008080; font-weight: bold\">16383</span><span style=\"font-weight: bold\">)]</span>\n",
       "<span style=\"color: #7fbf7f; text-decoration-color: #7fbf7f\">│   </span><span style=\"font-weight: bold\">}</span>,\n",
       "<span style=\"color: #7fbf7f; text-decoration-color: #7fbf7f\">│   </span><span style=\"font-weight: bold\">{</span>\n",
       "<span style=\"color: #7fbf7f; text-decoration-color: #7fbf7f\">│   │   </span><span style=\"color: #008000; text-decoration-color: #008000\">'node'</span>: <span style=\"color: #008000; text-decoration-color: #008000\">'redis-master-1.redis_default'</span>,\n",
       "<span style=\"color: #7fbf7f; text-decoration-color: #7fbf7f\">│   │   </span><span style=\"color: #008000; text-decoration-color: #008000\">'role'</span>: <span style=\"color: #008000; text-decoration-color: #008000\">b'master'</span>,\n",
       "<span style=\"color: #7fbf7f; text-decoration-color: #7fbf7f\">│   │   </span><span style=\"color: #008000; text-decoration-color: #008000\">'health'</span>: <span style=\"color: #008000; text-decoration-color: #008000\">b'online'</span>,\n",
       "<span style=\"color: #7fbf7f; text-decoration-color: #7fbf7f\">│   │   </span><span style=\"color: #008000; text-decoration-color: #008000\">'replication-offset'</span>: <span style=\"color: #008080; text-decoration-color: #008080; font-weight: bold\">86</span>,\n",
       "<span style=\"color: #7fbf7f; text-decoration-color: #7fbf7f\">│   │   </span><span style=\"color: #008000; text-decoration-color: #008000\">'shards'</span>: <span style=\"font-weight: bold\">[(</span><span style=\"color: #008080; text-decoration-color: #008080; font-weight: bold\">0</span>, <span style=\"color: #008080; text-decoration-color: #008080; font-weight: bold\">5460</span><span style=\"font-weight: bold\">)]</span>\n",
       "<span style=\"color: #7fbf7f; text-decoration-color: #7fbf7f\">│   </span><span style=\"font-weight: bold\">}</span>,\n",
       "<span style=\"color: #7fbf7f; text-decoration-color: #7fbf7f\">│   </span><span style=\"font-weight: bold\">{</span>\n",
       "<span style=\"color: #7fbf7f; text-decoration-color: #7fbf7f\">│   │   </span><span style=\"color: #008000; text-decoration-color: #008000\">'node'</span>: <span style=\"color: #008000; text-decoration-color: #008000\">'redis-replica-1.redis_default'</span>,\n",
       "<span style=\"color: #7fbf7f; text-decoration-color: #7fbf7f\">│   │   </span><span style=\"color: #008000; text-decoration-color: #008000\">'role'</span>: <span style=\"color: #008000; text-decoration-color: #008000\">b'replica'</span>,\n",
       "<span style=\"color: #7fbf7f; text-decoration-color: #7fbf7f\">│   │   </span><span style=\"color: #008000; text-decoration-color: #008000\">'health'</span>: <span style=\"color: #008000; text-decoration-color: #008000\">b'online'</span>,\n",
       "<span style=\"color: #7fbf7f; text-decoration-color: #7fbf7f\">│   │   </span><span style=\"color: #008000; text-decoration-color: #008000\">'replication-offset'</span>: <span style=\"color: #008080; text-decoration-color: #008080; font-weight: bold\">86</span>,\n",
       "<span style=\"color: #7fbf7f; text-decoration-color: #7fbf7f\">│   │   </span><span style=\"color: #008000; text-decoration-color: #008000\">'shards'</span>: <span style=\"font-weight: bold\">[(</span><span style=\"color: #008080; text-decoration-color: #008080; font-weight: bold\">0</span>, <span style=\"color: #008080; text-decoration-color: #008080; font-weight: bold\">5460</span><span style=\"font-weight: bold\">)]</span>\n",
       "<span style=\"color: #7fbf7f; text-decoration-color: #7fbf7f\">│   </span><span style=\"font-weight: bold\">}</span>\n",
       "<span style=\"font-weight: bold\">]</span>\n",
       "</pre>\n"
      ],
      "text/plain": [
       "\u001b[1m[\u001b[0m\n",
       "\u001b[2;32m│   \u001b[0m\u001b[1m{\u001b[0m\n",
       "\u001b[2;32m│   │   \u001b[0m\u001b[32m'node'\u001b[0m: \u001b[32m'redis-master-2.redis_default'\u001b[0m,\n",
       "\u001b[2;32m│   │   \u001b[0m\u001b[32m'role'\u001b[0m: \u001b[32mb'master'\u001b[0m,\n",
       "\u001b[2;32m│   │   \u001b[0m\u001b[32m'health'\u001b[0m: \u001b[32mb'online'\u001b[0m,\n",
       "\u001b[2;32m│   │   \u001b[0m\u001b[32m'replication-offset'\u001b[0m: \u001b[1;36m28\u001b[0m,\n",
       "\u001b[2;32m│   │   \u001b[0m\u001b[32m'shards'\u001b[0m: \u001b[1m[\u001b[0m\u001b[1m(\u001b[0m\u001b[1;36m5461\u001b[0m, \u001b[1;36m10922\u001b[0m\u001b[1m)\u001b[0m\u001b[1m]\u001b[0m\n",
       "\u001b[2;32m│   \u001b[0m\u001b[1m}\u001b[0m,\n",
       "\u001b[2;32m│   \u001b[0m\u001b[1m{\u001b[0m\n",
       "\u001b[2;32m│   │   \u001b[0m\u001b[32m'node'\u001b[0m: \u001b[32m'redis-replica-2.redis_default'\u001b[0m,\n",
       "\u001b[2;32m│   │   \u001b[0m\u001b[32m'role'\u001b[0m: \u001b[32mb'replica'\u001b[0m,\n",
       "\u001b[2;32m│   │   \u001b[0m\u001b[32m'health'\u001b[0m: \u001b[32mb'online'\u001b[0m,\n",
       "\u001b[2;32m│   │   \u001b[0m\u001b[32m'replication-offset'\u001b[0m: \u001b[1;36m28\u001b[0m,\n",
       "\u001b[2;32m│   │   \u001b[0m\u001b[32m'shards'\u001b[0m: \u001b[1m[\u001b[0m\u001b[1m(\u001b[0m\u001b[1;36m5461\u001b[0m, \u001b[1;36m10922\u001b[0m\u001b[1m)\u001b[0m\u001b[1m]\u001b[0m\n",
       "\u001b[2;32m│   \u001b[0m\u001b[1m}\u001b[0m,\n",
       "\u001b[2;32m│   \u001b[0m\u001b[1m{\u001b[0m\n",
       "\u001b[2;32m│   │   \u001b[0m\u001b[32m'node'\u001b[0m: \u001b[32m'redis-master-3.redis_default'\u001b[0m,\n",
       "\u001b[2;32m│   │   \u001b[0m\u001b[32m'role'\u001b[0m: \u001b[32mb'master'\u001b[0m,\n",
       "\u001b[2;32m│   │   \u001b[0m\u001b[32m'health'\u001b[0m: \u001b[32mb'online'\u001b[0m,\n",
       "\u001b[2;32m│   │   \u001b[0m\u001b[32m'replication-offset'\u001b[0m: \u001b[1;36m29\u001b[0m,\n",
       "\u001b[2;32m│   │   \u001b[0m\u001b[32m'shards'\u001b[0m: \u001b[1m[\u001b[0m\u001b[1m(\u001b[0m\u001b[1;36m10923\u001b[0m, \u001b[1;36m16383\u001b[0m\u001b[1m)\u001b[0m\u001b[1m]\u001b[0m\n",
       "\u001b[2;32m│   \u001b[0m\u001b[1m}\u001b[0m,\n",
       "\u001b[2;32m│   \u001b[0m\u001b[1m{\u001b[0m\n",
       "\u001b[2;32m│   │   \u001b[0m\u001b[32m'node'\u001b[0m: \u001b[32m'redis-replica-3.redis_default'\u001b[0m,\n",
       "\u001b[2;32m│   │   \u001b[0m\u001b[32m'role'\u001b[0m: \u001b[32mb'replica'\u001b[0m,\n",
       "\u001b[2;32m│   │   \u001b[0m\u001b[32m'health'\u001b[0m: \u001b[32mb'online'\u001b[0m,\n",
       "\u001b[2;32m│   │   \u001b[0m\u001b[32m'replication-offset'\u001b[0m: \u001b[1;36m29\u001b[0m,\n",
       "\u001b[2;32m│   │   \u001b[0m\u001b[32m'shards'\u001b[0m: \u001b[1m[\u001b[0m\u001b[1m(\u001b[0m\u001b[1;36m10923\u001b[0m, \u001b[1;36m16383\u001b[0m\u001b[1m)\u001b[0m\u001b[1m]\u001b[0m\n",
       "\u001b[2;32m│   \u001b[0m\u001b[1m}\u001b[0m,\n",
       "\u001b[2;32m│   \u001b[0m\u001b[1m{\u001b[0m\n",
       "\u001b[2;32m│   │   \u001b[0m\u001b[32m'node'\u001b[0m: \u001b[32m'redis-master-1.redis_default'\u001b[0m,\n",
       "\u001b[2;32m│   │   \u001b[0m\u001b[32m'role'\u001b[0m: \u001b[32mb'master'\u001b[0m,\n",
       "\u001b[2;32m│   │   \u001b[0m\u001b[32m'health'\u001b[0m: \u001b[32mb'online'\u001b[0m,\n",
       "\u001b[2;32m│   │   \u001b[0m\u001b[32m'replication-offset'\u001b[0m: \u001b[1;36m86\u001b[0m,\n",
       "\u001b[2;32m│   │   \u001b[0m\u001b[32m'shards'\u001b[0m: \u001b[1m[\u001b[0m\u001b[1m(\u001b[0m\u001b[1;36m0\u001b[0m, \u001b[1;36m5460\u001b[0m\u001b[1m)\u001b[0m\u001b[1m]\u001b[0m\n",
       "\u001b[2;32m│   \u001b[0m\u001b[1m}\u001b[0m,\n",
       "\u001b[2;32m│   \u001b[0m\u001b[1m{\u001b[0m\n",
       "\u001b[2;32m│   │   \u001b[0m\u001b[32m'node'\u001b[0m: \u001b[32m'redis-replica-1.redis_default'\u001b[0m,\n",
       "\u001b[2;32m│   │   \u001b[0m\u001b[32m'role'\u001b[0m: \u001b[32mb'replica'\u001b[0m,\n",
       "\u001b[2;32m│   │   \u001b[0m\u001b[32m'health'\u001b[0m: \u001b[32mb'online'\u001b[0m,\n",
       "\u001b[2;32m│   │   \u001b[0m\u001b[32m'replication-offset'\u001b[0m: \u001b[1;36m86\u001b[0m,\n",
       "\u001b[2;32m│   │   \u001b[0m\u001b[32m'shards'\u001b[0m: \u001b[1m[\u001b[0m\u001b[1m(\u001b[0m\u001b[1;36m0\u001b[0m, \u001b[1;36m5460\u001b[0m\u001b[1m)\u001b[0m\u001b[1m]\u001b[0m\n",
       "\u001b[2;32m│   \u001b[0m\u001b[1m}\u001b[0m\n",
       "\u001b[1m]\u001b[0m\n"
      ]
     },
     "metadata": {},
     "output_type": "display_data"
    }
   ],
   "source": [
    "# cleaner sharding list\n",
    "import socket\n",
    "shards = r.cluster_shards()\n",
    "nodes = []\n",
    "for shard in shards:\n",
    "    for node in shard[\"nodes\"]:\n",
    "        try:\n",
    "            hostname = socket.gethostbyaddr(node[b\"ip\"])[0]\n",
    "        except:\n",
    "            hostname = node[b\"ip\"]\n",
    "        nodes.append(\n",
    "            {\n",
    "             \"node\": hostname,\n",
    "             \"role\": node[b\"role\"],\n",
    "             \"health\": node[b\"health\"],\n",
    "             \"replication-offset\": node[b'replication-offset'],\n",
    "             \"shards\": shard['slots']\n",
    "            }\n",
    "        )\n",
    "pprint(nodes)"
   ]
  },
  {
   "cell_type": "code",
   "execution_count": 9,
   "id": "71add161-f79a-4ec2-982e-9b2dac71ec2d",
   "metadata": {},
   "outputs": [
    {
     "name": "stdout",
     "output_type": "stream",
     "text": [
      "foo: 12182 bar: 866\n"
     ]
    }
   ],
   "source": [
    "# retrieve keys' slots\n",
    "print(\"foo:\",r.keyslot(\"foo\"),\"bar:\",r.keyslot(\"hello\"))"
   ]
  },
  {
   "cell_type": "code",
   "execution_count": 12,
   "id": "e45a0543-9ba1-4dbe-8f40-be2cb451d528",
   "metadata": {},
   "outputs": [
    {
     "data": {
      "text/plain": [
       "b'bar'"
      ]
     },
     "execution_count": 12,
     "metadata": {},
     "output_type": "execute_result"
    }
   ],
   "source": [
    "# \"foo\" -> redis-master-3/ redis-replica-3\n",
    "# docker stop redis-master-3\n",
    "r.get(\"foo\")"
   ]
  },
  {
   "cell_type": "code",
   "execution_count": 13,
   "id": "dd245e4b-482e-4521-8cf8-a71793a87906",
   "metadata": {},
   "outputs": [
    {
     "data": {
      "text/html": [
       "<pre style=\"white-space:pre;overflow-x:auto;line-height:normal;font-family:Menlo,'DejaVu Sans Mono',consolas,'Courier New',monospace\"><span style=\"font-weight: bold\">[</span>\n",
       "<span style=\"color: #7fbf7f; text-decoration-color: #7fbf7f\">│   </span><span style=\"font-weight: bold\">{</span>\n",
       "<span style=\"color: #7fbf7f; text-decoration-color: #7fbf7f\">│   │   </span><span style=\"color: #008000; text-decoration-color: #008000\">'node'</span>: <span style=\"color: #008000; text-decoration-color: #008000\">'redis-master-2.redis_default'</span>,\n",
       "<span style=\"color: #7fbf7f; text-decoration-color: #7fbf7f\">│   │   </span><span style=\"color: #008000; text-decoration-color: #008000\">'role'</span>: <span style=\"color: #008000; text-decoration-color: #008000\">b'master'</span>,\n",
       "<span style=\"color: #7fbf7f; text-decoration-color: #7fbf7f\">│   │   </span><span style=\"color: #008000; text-decoration-color: #008000\">'health'</span>: <span style=\"color: #008000; text-decoration-color: #008000\">b'online'</span>,\n",
       "<span style=\"color: #7fbf7f; text-decoration-color: #7fbf7f\">│   │   </span><span style=\"color: #008000; text-decoration-color: #008000\">'replication-offset'</span>: <span style=\"color: #008080; text-decoration-color: #008080; font-weight: bold\">84</span>,\n",
       "<span style=\"color: #7fbf7f; text-decoration-color: #7fbf7f\">│   │   </span><span style=\"color: #008000; text-decoration-color: #008000\">'shards'</span>: <span style=\"font-weight: bold\">[(</span><span style=\"color: #008080; text-decoration-color: #008080; font-weight: bold\">5461</span>, <span style=\"color: #008080; text-decoration-color: #008080; font-weight: bold\">10922</span><span style=\"font-weight: bold\">)]</span>\n",
       "<span style=\"color: #7fbf7f; text-decoration-color: #7fbf7f\">│   </span><span style=\"font-weight: bold\">}</span>,\n",
       "<span style=\"color: #7fbf7f; text-decoration-color: #7fbf7f\">│   </span><span style=\"font-weight: bold\">{</span>\n",
       "<span style=\"color: #7fbf7f; text-decoration-color: #7fbf7f\">│   │   </span><span style=\"color: #008000; text-decoration-color: #008000\">'node'</span>: <span style=\"color: #008000; text-decoration-color: #008000\">'redis-replica-2.redis_default'</span>,\n",
       "<span style=\"color: #7fbf7f; text-decoration-color: #7fbf7f\">│   │   </span><span style=\"color: #008000; text-decoration-color: #008000\">'role'</span>: <span style=\"color: #008000; text-decoration-color: #008000\">b'replica'</span>,\n",
       "<span style=\"color: #7fbf7f; text-decoration-color: #7fbf7f\">│   │   </span><span style=\"color: #008000; text-decoration-color: #008000\">'health'</span>: <span style=\"color: #008000; text-decoration-color: #008000\">b'online'</span>,\n",
       "<span style=\"color: #7fbf7f; text-decoration-color: #7fbf7f\">│   │   </span><span style=\"color: #008000; text-decoration-color: #008000\">'replication-offset'</span>: <span style=\"color: #008080; text-decoration-color: #008080; font-weight: bold\">84</span>,\n",
       "<span style=\"color: #7fbf7f; text-decoration-color: #7fbf7f\">│   │   </span><span style=\"color: #008000; text-decoration-color: #008000\">'shards'</span>: <span style=\"font-weight: bold\">[(</span><span style=\"color: #008080; text-decoration-color: #008080; font-weight: bold\">5461</span>, <span style=\"color: #008080; text-decoration-color: #008080; font-weight: bold\">10922</span><span style=\"font-weight: bold\">)]</span>\n",
       "<span style=\"color: #7fbf7f; text-decoration-color: #7fbf7f\">│   </span><span style=\"font-weight: bold\">}</span>,\n",
       "<span style=\"color: #7fbf7f; text-decoration-color: #7fbf7f\">│   </span><span style=\"font-weight: bold\">{</span>\n",
       "<span style=\"color: #7fbf7f; text-decoration-color: #7fbf7f\">│   │   </span><span style=\"color: #008000; text-decoration-color: #008000\">'node'</span>: <span style=\"color: #008000; text-decoration-color: #008000\">b'192.168.224.4'</span>,\n",
       "<span style=\"color: #7fbf7f; text-decoration-color: #7fbf7f\">│   │   </span><span style=\"color: #008000; text-decoration-color: #008000\">'role'</span>: <span style=\"color: #008000; text-decoration-color: #008000\">b'master'</span>,\n",
       "<span style=\"color: #7fbf7f; text-decoration-color: #7fbf7f\">│   │   </span><span style=\"color: #008000; text-decoration-color: #008000\">'health'</span>: <span style=\"color: #008000; text-decoration-color: #008000\">b'fail'</span>,\n",
       "<span style=\"color: #7fbf7f; text-decoration-color: #7fbf7f\">│   │   </span><span style=\"color: #008000; text-decoration-color: #008000\">'replication-offset'</span>: <span style=\"color: #008080; text-decoration-color: #008080; font-weight: bold\">71</span>,\n",
       "<span style=\"color: #7fbf7f; text-decoration-color: #7fbf7f\">│   │   </span><span style=\"color: #008000; text-decoration-color: #008000\">'shards'</span>: <span style=\"font-weight: bold\">[(</span><span style=\"color: #008080; text-decoration-color: #008080; font-weight: bold\">10923</span>, <span style=\"color: #008080; text-decoration-color: #008080; font-weight: bold\">16383</span><span style=\"font-weight: bold\">)]</span>\n",
       "<span style=\"color: #7fbf7f; text-decoration-color: #7fbf7f\">│   </span><span style=\"font-weight: bold\">}</span>,\n",
       "<span style=\"color: #7fbf7f; text-decoration-color: #7fbf7f\">│   </span><span style=\"font-weight: bold\">{</span>\n",
       "<span style=\"color: #7fbf7f; text-decoration-color: #7fbf7f\">│   │   </span><span style=\"color: #008000; text-decoration-color: #008000\">'node'</span>: <span style=\"color: #008000; text-decoration-color: #008000\">'redis-replica-3.redis_default'</span>,\n",
       "<span style=\"color: #7fbf7f; text-decoration-color: #7fbf7f\">│   │   </span><span style=\"color: #008000; text-decoration-color: #008000\">'role'</span>: <span style=\"color: #008000; text-decoration-color: #008000\">b'master'</span>,\n",
       "<span style=\"color: #7fbf7f; text-decoration-color: #7fbf7f\">│   │   </span><span style=\"color: #008000; text-decoration-color: #008000\">'health'</span>: <span style=\"color: #008000; text-decoration-color: #008000\">b'online'</span>,\n",
       "<span style=\"color: #7fbf7f; text-decoration-color: #7fbf7f\">│   │   </span><span style=\"color: #008000; text-decoration-color: #008000\">'replication-offset'</span>: <span style=\"color: #008080; text-decoration-color: #008080; font-weight: bold\">71</span>,\n",
       "<span style=\"color: #7fbf7f; text-decoration-color: #7fbf7f\">│   │   </span><span style=\"color: #008000; text-decoration-color: #008000\">'shards'</span>: <span style=\"font-weight: bold\">[(</span><span style=\"color: #008080; text-decoration-color: #008080; font-weight: bold\">10923</span>, <span style=\"color: #008080; text-decoration-color: #008080; font-weight: bold\">16383</span><span style=\"font-weight: bold\">)]</span>\n",
       "<span style=\"color: #7fbf7f; text-decoration-color: #7fbf7f\">│   </span><span style=\"font-weight: bold\">}</span>,\n",
       "<span style=\"color: #7fbf7f; text-decoration-color: #7fbf7f\">│   </span><span style=\"font-weight: bold\">{</span>\n",
       "<span style=\"color: #7fbf7f; text-decoration-color: #7fbf7f\">│   │   </span><span style=\"color: #008000; text-decoration-color: #008000\">'node'</span>: <span style=\"color: #008000; text-decoration-color: #008000\">'redis-master-1.redis_default'</span>,\n",
       "<span style=\"color: #7fbf7f; text-decoration-color: #7fbf7f\">│   │   </span><span style=\"color: #008000; text-decoration-color: #008000\">'role'</span>: <span style=\"color: #008000; text-decoration-color: #008000\">b'master'</span>,\n",
       "<span style=\"color: #7fbf7f; text-decoration-color: #7fbf7f\">│   │   </span><span style=\"color: #008000; text-decoration-color: #008000\">'health'</span>: <span style=\"color: #008000; text-decoration-color: #008000\">b'online'</span>,\n",
       "<span style=\"color: #7fbf7f; text-decoration-color: #7fbf7f\">│   │   </span><span style=\"color: #008000; text-decoration-color: #008000\">'replication-offset'</span>: <span style=\"color: #008080; text-decoration-color: #008080; font-weight: bold\">142</span>,\n",
       "<span style=\"color: #7fbf7f; text-decoration-color: #7fbf7f\">│   │   </span><span style=\"color: #008000; text-decoration-color: #008000\">'shards'</span>: <span style=\"font-weight: bold\">[(</span><span style=\"color: #008080; text-decoration-color: #008080; font-weight: bold\">0</span>, <span style=\"color: #008080; text-decoration-color: #008080; font-weight: bold\">5460</span><span style=\"font-weight: bold\">)]</span>\n",
       "<span style=\"color: #7fbf7f; text-decoration-color: #7fbf7f\">│   </span><span style=\"font-weight: bold\">}</span>,\n",
       "<span style=\"color: #7fbf7f; text-decoration-color: #7fbf7f\">│   </span><span style=\"font-weight: bold\">{</span>\n",
       "<span style=\"color: #7fbf7f; text-decoration-color: #7fbf7f\">│   │   </span><span style=\"color: #008000; text-decoration-color: #008000\">'node'</span>: <span style=\"color: #008000; text-decoration-color: #008000\">'redis-replica-1.redis_default'</span>,\n",
       "<span style=\"color: #7fbf7f; text-decoration-color: #7fbf7f\">│   │   </span><span style=\"color: #008000; text-decoration-color: #008000\">'role'</span>: <span style=\"color: #008000; text-decoration-color: #008000\">b'replica'</span>,\n",
       "<span style=\"color: #7fbf7f; text-decoration-color: #7fbf7f\">│   │   </span><span style=\"color: #008000; text-decoration-color: #008000\">'health'</span>: <span style=\"color: #008000; text-decoration-color: #008000\">b'online'</span>,\n",
       "<span style=\"color: #7fbf7f; text-decoration-color: #7fbf7f\">│   │   </span><span style=\"color: #008000; text-decoration-color: #008000\">'replication-offset'</span>: <span style=\"color: #008080; text-decoration-color: #008080; font-weight: bold\">142</span>,\n",
       "<span style=\"color: #7fbf7f; text-decoration-color: #7fbf7f\">│   │   </span><span style=\"color: #008000; text-decoration-color: #008000\">'shards'</span>: <span style=\"font-weight: bold\">[(</span><span style=\"color: #008080; text-decoration-color: #008080; font-weight: bold\">0</span>, <span style=\"color: #008080; text-decoration-color: #008080; font-weight: bold\">5460</span><span style=\"font-weight: bold\">)]</span>\n",
       "<span style=\"color: #7fbf7f; text-decoration-color: #7fbf7f\">│   </span><span style=\"font-weight: bold\">}</span>\n",
       "<span style=\"font-weight: bold\">]</span>\n",
       "</pre>\n"
      ],
      "text/plain": [
       "\u001b[1m[\u001b[0m\n",
       "\u001b[2;32m│   \u001b[0m\u001b[1m{\u001b[0m\n",
       "\u001b[2;32m│   │   \u001b[0m\u001b[32m'node'\u001b[0m: \u001b[32m'redis-master-2.redis_default'\u001b[0m,\n",
       "\u001b[2;32m│   │   \u001b[0m\u001b[32m'role'\u001b[0m: \u001b[32mb'master'\u001b[0m,\n",
       "\u001b[2;32m│   │   \u001b[0m\u001b[32m'health'\u001b[0m: \u001b[32mb'online'\u001b[0m,\n",
       "\u001b[2;32m│   │   \u001b[0m\u001b[32m'replication-offset'\u001b[0m: \u001b[1;36m84\u001b[0m,\n",
       "\u001b[2;32m│   │   \u001b[0m\u001b[32m'shards'\u001b[0m: \u001b[1m[\u001b[0m\u001b[1m(\u001b[0m\u001b[1;36m5461\u001b[0m, \u001b[1;36m10922\u001b[0m\u001b[1m)\u001b[0m\u001b[1m]\u001b[0m\n",
       "\u001b[2;32m│   \u001b[0m\u001b[1m}\u001b[0m,\n",
       "\u001b[2;32m│   \u001b[0m\u001b[1m{\u001b[0m\n",
       "\u001b[2;32m│   │   \u001b[0m\u001b[32m'node'\u001b[0m: \u001b[32m'redis-replica-2.redis_default'\u001b[0m,\n",
       "\u001b[2;32m│   │   \u001b[0m\u001b[32m'role'\u001b[0m: \u001b[32mb'replica'\u001b[0m,\n",
       "\u001b[2;32m│   │   \u001b[0m\u001b[32m'health'\u001b[0m: \u001b[32mb'online'\u001b[0m,\n",
       "\u001b[2;32m│   │   \u001b[0m\u001b[32m'replication-offset'\u001b[0m: \u001b[1;36m84\u001b[0m,\n",
       "\u001b[2;32m│   │   \u001b[0m\u001b[32m'shards'\u001b[0m: \u001b[1m[\u001b[0m\u001b[1m(\u001b[0m\u001b[1;36m5461\u001b[0m, \u001b[1;36m10922\u001b[0m\u001b[1m)\u001b[0m\u001b[1m]\u001b[0m\n",
       "\u001b[2;32m│   \u001b[0m\u001b[1m}\u001b[0m,\n",
       "\u001b[2;32m│   \u001b[0m\u001b[1m{\u001b[0m\n",
       "\u001b[2;32m│   │   \u001b[0m\u001b[32m'node'\u001b[0m: \u001b[32mb'192.168.224.4'\u001b[0m,\n",
       "\u001b[2;32m│   │   \u001b[0m\u001b[32m'role'\u001b[0m: \u001b[32mb'master'\u001b[0m,\n",
       "\u001b[2;32m│   │   \u001b[0m\u001b[32m'health'\u001b[0m: \u001b[32mb'fail'\u001b[0m,\n",
       "\u001b[2;32m│   │   \u001b[0m\u001b[32m'replication-offset'\u001b[0m: \u001b[1;36m71\u001b[0m,\n",
       "\u001b[2;32m│   │   \u001b[0m\u001b[32m'shards'\u001b[0m: \u001b[1m[\u001b[0m\u001b[1m(\u001b[0m\u001b[1;36m10923\u001b[0m, \u001b[1;36m16383\u001b[0m\u001b[1m)\u001b[0m\u001b[1m]\u001b[0m\n",
       "\u001b[2;32m│   \u001b[0m\u001b[1m}\u001b[0m,\n",
       "\u001b[2;32m│   \u001b[0m\u001b[1m{\u001b[0m\n",
       "\u001b[2;32m│   │   \u001b[0m\u001b[32m'node'\u001b[0m: \u001b[32m'redis-replica-3.redis_default'\u001b[0m,\n",
       "\u001b[2;32m│   │   \u001b[0m\u001b[32m'role'\u001b[0m: \u001b[32mb'master'\u001b[0m,\n",
       "\u001b[2;32m│   │   \u001b[0m\u001b[32m'health'\u001b[0m: \u001b[32mb'online'\u001b[0m,\n",
       "\u001b[2;32m│   │   \u001b[0m\u001b[32m'replication-offset'\u001b[0m: \u001b[1;36m71\u001b[0m,\n",
       "\u001b[2;32m│   │   \u001b[0m\u001b[32m'shards'\u001b[0m: \u001b[1m[\u001b[0m\u001b[1m(\u001b[0m\u001b[1;36m10923\u001b[0m, \u001b[1;36m16383\u001b[0m\u001b[1m)\u001b[0m\u001b[1m]\u001b[0m\n",
       "\u001b[2;32m│   \u001b[0m\u001b[1m}\u001b[0m,\n",
       "\u001b[2;32m│   \u001b[0m\u001b[1m{\u001b[0m\n",
       "\u001b[2;32m│   │   \u001b[0m\u001b[32m'node'\u001b[0m: \u001b[32m'redis-master-1.redis_default'\u001b[0m,\n",
       "\u001b[2;32m│   │   \u001b[0m\u001b[32m'role'\u001b[0m: \u001b[32mb'master'\u001b[0m,\n",
       "\u001b[2;32m│   │   \u001b[0m\u001b[32m'health'\u001b[0m: \u001b[32mb'online'\u001b[0m,\n",
       "\u001b[2;32m│   │   \u001b[0m\u001b[32m'replication-offset'\u001b[0m: \u001b[1;36m142\u001b[0m,\n",
       "\u001b[2;32m│   │   \u001b[0m\u001b[32m'shards'\u001b[0m: \u001b[1m[\u001b[0m\u001b[1m(\u001b[0m\u001b[1;36m0\u001b[0m, \u001b[1;36m5460\u001b[0m\u001b[1m)\u001b[0m\u001b[1m]\u001b[0m\n",
       "\u001b[2;32m│   \u001b[0m\u001b[1m}\u001b[0m,\n",
       "\u001b[2;32m│   \u001b[0m\u001b[1m{\u001b[0m\n",
       "\u001b[2;32m│   │   \u001b[0m\u001b[32m'node'\u001b[0m: \u001b[32m'redis-replica-1.redis_default'\u001b[0m,\n",
       "\u001b[2;32m│   │   \u001b[0m\u001b[32m'role'\u001b[0m: \u001b[32mb'replica'\u001b[0m,\n",
       "\u001b[2;32m│   │   \u001b[0m\u001b[32m'health'\u001b[0m: \u001b[32mb'online'\u001b[0m,\n",
       "\u001b[2;32m│   │   \u001b[0m\u001b[32m'replication-offset'\u001b[0m: \u001b[1;36m142\u001b[0m,\n",
       "\u001b[2;32m│   │   \u001b[0m\u001b[32m'shards'\u001b[0m: \u001b[1m[\u001b[0m\u001b[1m(\u001b[0m\u001b[1;36m0\u001b[0m, \u001b[1;36m5460\u001b[0m\u001b[1m)\u001b[0m\u001b[1m]\u001b[0m\n",
       "\u001b[2;32m│   \u001b[0m\u001b[1m}\u001b[0m\n",
       "\u001b[1m]\u001b[0m\n"
      ]
     },
     "metadata": {},
     "output_type": "display_data"
    }
   ],
   "source": [
    "# cleaner sharding list\n",
    "import socket\n",
    "shards = r.cluster_shards()\n",
    "nodes = []\n",
    "for shard in shards:\n",
    "    for node in shard[\"nodes\"]:\n",
    "        try:\n",
    "            hostname = socket.gethostbyaddr(node[b\"ip\"])[0]\n",
    "        except:\n",
    "            hostname = node[b\"ip\"]\n",
    "        nodes.append(\n",
    "            {\n",
    "             \"node\": hostname,\n",
    "             \"role\": node[b\"role\"],\n",
    "             \"health\": node[b\"health\"],\n",
    "             \"replication-offset\": node[b'replication-offset'],\n",
    "             \"shards\": shard['slots']\n",
    "            }\n",
    "        )\n",
    "pprint(nodes)"
   ]
  },
  {
   "cell_type": "code",
   "execution_count": null,
   "id": "b8e3aeec-736a-4fc2-93bd-574fc7f8266d",
   "metadata": {},
   "outputs": [],
   "source": []
  }
 ],
 "metadata": {
  "kernelspec": {
   "display_name": "Python 3 (ipykernel)",
   "language": "python",
   "name": "python3"
  },
  "language_info": {
   "codemirror_mode": {
    "name": "ipython",
    "version": 3
   },
   "file_extension": ".py",
   "mimetype": "text/x-python",
   "name": "python",
   "nbconvert_exporter": "python",
   "pygments_lexer": "ipython3",
   "version": "3.12.9"
  }
 },
 "nbformat": 4,
 "nbformat_minor": 5
}
