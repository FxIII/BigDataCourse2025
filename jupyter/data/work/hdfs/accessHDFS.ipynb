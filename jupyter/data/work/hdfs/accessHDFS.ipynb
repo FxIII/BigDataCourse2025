{
 "cells": [
  {
   "cell_type": "code",
   "execution_count": 1,
   "id": "c4f701e6-17ae-4898-abeb-8fb77ee17192",
   "metadata": {},
   "outputs": [],
   "source": [
    "from pyspark.sql import SparkSession\n",
    "spark = SparkSession.builder.getOrCreate()"
   ]
  },
  {
   "cell_type": "code",
   "execution_count": 2,
   "id": "cdbcde59-455d-4adc-b9c3-639f77445c79",
   "metadata": {},
   "outputs": [],
   "source": [
    "data = [(\"John\", 30), (\"Jane\", 25), (\"Bob\", 35)]\n",
    "df = spark.createDataFrame(data, [\"name\", \"age\"])\n",
    "output_path = \"hdfs://namenode:9000/prova/file.csv\"\n",
    "df.write.format(\"csv\").save(output_path,mode=\"overwrite\")"
   ]
  },
  {
   "cell_type": "code",
   "execution_count": null,
   "id": "841ff3c7-acf9-4922-9d8c-65c82f230a9f",
   "metadata": {},
   "outputs": [],
   "source": [
    "df = spark.read.format(\"csv\").load(\"hdfs://namenode:9000/prova/file.csv\")"
   ]
  },
  {
   "cell_type": "code",
   "execution_count": null,
   "id": "6459fc93-3c46-40d4-ad84-21e831b2caae",
   "metadata": {},
   "outputs": [],
   "source": [
    "df.show()"
   ]
  },
  {
   "cell_type": "code",
   "execution_count": null,
   "id": "bb8356a9-4cdc-4f2a-adf8-dae45e573bca",
   "metadata": {},
   "outputs": [],
   "source": [
    "!hdfs dfs -mkdir /hackedWordPress/\n",
    "!hdfs dfs -put ~/data/access.log /hackedWordPress/access.log"
   ]
  }
 ],
 "metadata": {
  "kernelspec": {
   "display_name": "Python 3 (ipykernel)",
   "language": "python",
   "name": "python3"
  },
  "language_info": {
   "codemirror_mode": {
    "name": "ipython",
    "version": 3
   },
   "file_extension": ".py",
   "mimetype": "text/x-python",
   "name": "python",
   "nbconvert_exporter": "python",
   "pygments_lexer": "ipython3",
   "version": "3.12.9"
  }
 },
 "nbformat": 4,
 "nbformat_minor": 5
}
