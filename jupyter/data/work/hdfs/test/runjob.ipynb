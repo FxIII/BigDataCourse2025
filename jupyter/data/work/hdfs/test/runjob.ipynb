{
 "cells": [
  {
   "cell_type": "code",
   "execution_count": null,
   "id": "a8c8ad00-65dd-4660-a628-09a737ed1ec1",
   "metadata": {},
   "outputs": [],
   "source": [
    "%%capture\n",
    "!pip install mrjob"
   ]
  },
  {
   "cell_type": "code",
   "execution_count": null,
   "id": "61fca0a6-0ea2-40ba-bbe6-b760b01bfd2f",
   "metadata": {},
   "outputs": [],
   "source": [
    "# setup the code \n",
    "!hdfs dfs -mkdir  -p /sources/testjob1\n",
    "!hdfs dfs -put myjob.py /sources/testjob1/myjob.py"
   ]
  },
  {
   "cell_type": "code",
   "execution_count": null,
   "id": "96ae6beb-777b-4bea-9c4b-89bad2c42a02",
   "metadata": {},
   "outputs": [],
   "source": [
    "%%bash\n",
    "mapred streaming -files \"hdfs:///sources/testjob1/myjob.py#myjob.py\" \\\n",
    "  -mapper \"python3 myjob.py --mapper\" -reducer \"python3 myjob.py --reducer\" \\\n",
    "  -input /hackedWordPress/access.log -output /results"
   ]
  },
  {
   "cell_type": "code",
   "execution_count": null,
   "id": "08713704-0209-4b8d-aabe-eb4d75fa98b3",
   "metadata": {},
   "outputs": [],
   "source": [
    "!hdfs dfs -ls /results"
   ]
  },
  {
   "cell_type": "code",
   "execution_count": null,
   "id": "2a94d214-69b5-47a3-ac74-985611236c3c",
   "metadata": {},
   "outputs": [],
   "source": [
    "!hdfs dfs -cat /results/part-00000"
   ]
  }
 ],
 "metadata": {
  "kernelspec": {
   "display_name": "Python 3 (ipykernel)",
   "language": "python",
   "name": "python3"
  },
  "language_info": {
   "codemirror_mode": {
    "name": "ipython",
    "version": 3
   },
   "file_extension": ".py",
   "mimetype": "text/x-python",
   "name": "python",
   "nbconvert_exporter": "python",
   "pygments_lexer": "ipython3",
   "version": "3.12.9"
  }
 },
 "nbformat": 4,
 "nbformat_minor": 5
}
