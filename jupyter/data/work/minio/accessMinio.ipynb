{
 "cells": [
  {
   "cell_type": "code",
   "execution_count": null,
   "id": "5a4589c3-81d1-412e-a3b2-d11a9ec90e48",
   "metadata": {
    "scrolled": true
   },
   "outputs": [],
   "source": [
    "%%capture\n",
    "%pip install pandas s3fs"
   ]
  },
  {
   "cell_type": "code",
   "execution_count": null,
   "id": "42d7d0e1-c517-4845-9406-cf33b8942632",
   "metadata": {},
   "outputs": [],
   "source": [
    "import pandas as pd\n",
    "import s3fs\n",
    "\n",
    "# Crea un DataFrame Pandas\n",
    "data = {'Name': ['John', 'Jane', 'Bob'],\n",
    "        'Age': [30, 25, 35]}\n",
    "df = pd.DataFrame(data)\n",
    "\n"
   ]
  },
  {
   "cell_type": "code",
   "execution_count": null,
   "id": "f1a7c01d-b60d-4fa6-a50b-6610efaef22c",
   "metadata": {},
   "outputs": [],
   "source": [
    "df"
   ]
  },
  {
   "cell_type": "code",
   "execution_count": null,
   "id": "e06d4b9f-ae86-4632-8358-e103d30041a3",
   "metadata": {},
   "outputs": [],
   "source": [
    "storage_options = dict(key='ROOTNAME',\n",
    "                       secret='CHANGEME123',\n",
    "                       client_kwargs={'endpoint_url': 'http://minio:9000'})\n",
    "    \n",
    "\n",
    "df.to_csv('s3://my-fancy-bucket/my-file.csv', index=False,storage_options=storage_options)"
   ]
  },
  {
   "cell_type": "code",
   "execution_count": null,
   "id": "b4f800d4-3666-43e1-853c-5c0756a4339c",
   "metadata": {},
   "outputs": [],
   "source": [
    "pd.read_csv('s3://my-fancy-bucket/my-file.csv', storage_options=storage_options)"
   ]
  }
 ],
 "metadata": {
  "kernelspec": {
   "display_name": "Python 3 (ipykernel)",
   "language": "python",
   "name": "python3"
  },
  "language_info": {
   "codemirror_mode": {
    "name": "ipython",
    "version": 3
   },
   "file_extension": ".py",
   "mimetype": "text/x-python",
   "name": "python",
   "nbconvert_exporter": "python",
   "pygments_lexer": "ipython3",
   "version": "3.12.9"
  }
 },
 "nbformat": 4,
 "nbformat_minor": 5
}
